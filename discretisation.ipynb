{
 "cells": [
  {
   "cell_type": "markdown",
   "metadata": {},
   "source": [
    "# Data Mining – Discrétisation"
   ]
  },
  {
   "cell_type": "markdown",
   "metadata": {},
   "source": [
    "\n",
    "---"
   ]
  },
  {
   "cell_type": "code",
   "execution_count": 126,
   "metadata": {},
   "outputs": [],
   "source": [
    "import pandas as pd\n",
    "import numpy as np\n",
    "import matplotlib.pyplot as plt\n",
    "import matplotlib as mpl \n",
    "\n",
    "import warnings\n",
    "\n",
    "from sklearn.model_selection import GridSearchCV\n",
    "from sklearn.cluster import KMeans\n",
    "from sklearn.preprocessing import KBinsDiscretizer\n",
    "from scipy.cluster.hierarchy import linkage, dendrogram\n",
    "from scipy.cluster.hierarchy import fcluster\n",
    "from sklearn.tree import DecisionTreeRegressor\n",
    "from sklearn.tree import plot_tree\n",
    "from feature_engine import discretisers as dsc\n",
    "\n",
    "warnings.simplefilter(\"ignore\", DeprecationWarning)"
   ]
  },
  {
   "cell_type": "code",
   "execution_count": 127,
   "metadata": {},
   "outputs": [],
   "source": [
    "df = pd.read_csv(\"FINAL_DATA.csv\", index_col=0)"
   ]
  },
  {
   "cell_type": "code",
   "execution_count": 128,
   "metadata": {
    "scrolled": true
   },
   "outputs": [
    {
     "data": {
      "text/html": [
       "<div>\n",
       "<style scoped>\n",
       "    .dataframe tbody tr th:only-of-type {\n",
       "        vertical-align: middle;\n",
       "    }\n",
       "\n",
       "    .dataframe tbody tr th {\n",
       "        vertical-align: top;\n",
       "    }\n",
       "\n",
       "    .dataframe thead th {\n",
       "        text-align: right;\n",
       "    }\n",
       "</style>\n",
       "<table border=\"1\" class=\"dataframe\">\n",
       "  <thead>\n",
       "    <tr style=\"text-align: right;\">\n",
       "      <th></th>\n",
       "      <th>url</th>\n",
       "      <th>shares</th>\n",
       "      <th>content</th>\n",
       "      <th>author_name</th>\n",
       "      <th>title</th>\n",
       "      <th>nb_images</th>\n",
       "      <th>num_videos</th>\n",
       "      <th>num_hrefs</th>\n",
       "      <th>num_keywords</th>\n",
       "      <th>chanel</th>\n",
       "      <th>...</th>\n",
       "      <th>Topic_lda Telecomunication devices</th>\n",
       "      <th>Topic_lda Entertainment</th>\n",
       "      <th>dominant_topic_lda</th>\n",
       "      <th>content_polarity</th>\n",
       "      <th>abs_content_polarity</th>\n",
       "      <th>content_subjectivity</th>\n",
       "      <th>title_polarity</th>\n",
       "      <th>abs_title_polarity</th>\n",
       "      <th>title_subjectivity</th>\n",
       "      <th>lemmatized</th>\n",
       "    </tr>\n",
       "  </thead>\n",
       "  <tbody>\n",
       "    <tr>\n",
       "      <th>0</th>\n",
       "      <td>http://mashable.com/2013/01/07/ap-samsung-spon...</td>\n",
       "      <td>711</td>\n",
       "      <td>The Associated Press is the latest news organ...</td>\n",
       "      <td>Seth Fiegerman</td>\n",
       "      <td>AP's Twitter to Begin Displaying Sponsored Tweets</td>\n",
       "      <td>1</td>\n",
       "      <td>0.0</td>\n",
       "      <td>3.0</td>\n",
       "      <td>4.0</td>\n",
       "      <td>Business</td>\n",
       "      <td>...</td>\n",
       "      <td>0.025</td>\n",
       "      <td>0.024</td>\n",
       "      <td>Internet and social media</td>\n",
       "      <td>0.148948</td>\n",
       "      <td>0.148948</td>\n",
       "      <td>0.341246</td>\n",
       "      <td>0.0</td>\n",
       "      <td>0.0</td>\n",
       "      <td>0.0</td>\n",
       "      <td>['the associated press', 'late', 'news', 'orga...</td>\n",
       "    </tr>\n",
       "    <tr>\n",
       "      <th>1</th>\n",
       "      <td>http://mashable.com/2013/01/07/apple-40-billio...</td>\n",
       "      <td>1500</td>\n",
       "      <td>It looks like 2012 was a pretty good year for...</td>\n",
       "      <td>Seth Fiegerman</td>\n",
       "      <td>Apple's App Store Passes 40 Billion Downloads</td>\n",
       "      <td>1</td>\n",
       "      <td>0.0</td>\n",
       "      <td>3.0</td>\n",
       "      <td>6.0</td>\n",
       "      <td>Business</td>\n",
       "      <td>...</td>\n",
       "      <td>0.855</td>\n",
       "      <td>0.033</td>\n",
       "      <td>Telecomunication devices</td>\n",
       "      <td>0.323333</td>\n",
       "      <td>0.323333</td>\n",
       "      <td>0.702222</td>\n",
       "      <td>0.0</td>\n",
       "      <td>0.0</td>\n",
       "      <td>0.0</td>\n",
       "      <td>['look', 'like', 'a pretty good year', 'apple'...</td>\n",
       "    </tr>\n",
       "  </tbody>\n",
       "</table>\n",
       "<p>2 rows × 40 columns</p>\n",
       "</div>"
      ],
      "text/plain": [
       "                                                 url  shares  \\\n",
       "0  http://mashable.com/2013/01/07/ap-samsung-spon...     711   \n",
       "1  http://mashable.com/2013/01/07/apple-40-billio...    1500   \n",
       "\n",
       "                                             content     author_name  \\\n",
       "0   The Associated Press is the latest news organ...  Seth Fiegerman   \n",
       "1   It looks like 2012 was a pretty good year for...  Seth Fiegerman   \n",
       "\n",
       "                                               title  nb_images  num_videos  \\\n",
       "0  AP's Twitter to Begin Displaying Sponsored Tweets          1         0.0   \n",
       "1      Apple's App Store Passes 40 Billion Downloads          1         0.0   \n",
       "\n",
       "   num_hrefs  num_keywords    chanel  ... Topic_lda Telecomunication devices  \\\n",
       "0        3.0           4.0  Business  ...                              0.025   \n",
       "1        3.0           6.0  Business  ...                              0.855   \n",
       "\n",
       "  Topic_lda Entertainment         dominant_topic_lda  content_polarity  \\\n",
       "0                   0.024  Internet and social media          0.148948   \n",
       "1                   0.033   Telecomunication devices          0.323333   \n",
       "\n",
       "   abs_content_polarity  content_subjectivity  title_polarity  \\\n",
       "0              0.148948              0.341246             0.0   \n",
       "1              0.323333              0.702222             0.0   \n",
       "\n",
       "   abs_title_polarity  title_subjectivity  \\\n",
       "0                 0.0                 0.0   \n",
       "1                 0.0                 0.0   \n",
       "\n",
       "                                          lemmatized  \n",
       "0  ['the associated press', 'late', 'news', 'orga...  \n",
       "1  ['look', 'like', 'a pretty good year', 'apple'...  \n",
       "\n",
       "[2 rows x 40 columns]"
      ]
     },
     "execution_count": 128,
     "metadata": {},
     "output_type": "execute_result"
    }
   ],
   "source": [
    "df.head(2)"
   ]
  },
  {
   "cell_type": "markdown",
   "metadata": {},
   "source": [
    "## En quoi consiste la discrétisation ?"
   ]
  },
  {
   "cell_type": "markdown",
   "metadata": {},
   "source": [
    "La discrétisation est une méthode de transformation d’une variable quantitative en une variable qualitative. Autrement dit, c’est le fait de réaliser un découpage en classes. Cette méthode possède plusieurs avantages :\n",
    "\n",
    "> Certaines techniques statistiques ne fonctionnent que sur des variables qualitatives (notamment les classifieurs).\n",
    "\n",
    "> Minimiser l’impact des valeurs extrêmes sur le modèle ;\n",
    "\n",
    "> Faciliter l’interprétation des résultats."
   ]
  },
  {
   "cell_type": "markdown",
   "metadata": {},
   "source": [
    "Toutefois, si nous voulons utiliser une méthode de dicrétisation, la difficulté réside dans le fait de maintenir un bon équilibre concernant la perte d’information : doit-on garder un nombre faible de classes au risque de perdre trop d’informations, ou un nombre élevé de classes et ainsi réduire l’utilité de la discrétisation ?"
   ]
  },
  {
   "cell_type": "markdown",
   "metadata": {},
   "source": [
    "Il faut noter que la meilleure discrétisation possible reste celle du métier. Toutefois, l'expertise du métier n'est pas toujours disponible. Pour pallier cela, on peut utiliser des méthodes statistiques guidée par les caractéristique des données."
   ]
  },
  {
   "cell_type": "markdown",
   "metadata": {},
   "source": [
    "On peut afficher la variable que nous souhaitons discrétiser sur un axe horizontal "
   ]
  },
  {
   "cell_type": "code",
   "execution_count": 129,
   "metadata": {},
   "outputs": [],
   "source": [
    "shares = df.shares"
   ]
  },
  {
   "cell_type": "code",
   "execution_count": 130,
   "metadata": {},
   "outputs": [],
   "source": [
    "mpl.rcParams['axes.spines.left'] = False\n",
    "mpl.rcParams['axes.spines.right'] = False\n",
    "mpl.rcParams['axes.spines.top'] = False"
   ]
  },
  {
   "cell_type": "code",
   "execution_count": 133,
   "metadata": {},
   "outputs": [
    {
     "data": {
      "image/png": "[encoded data removed]",
      "text/plain": [
       "<Figure size 648x144 with 1 Axes>"
      ]
     },
     "metadata": {
      "needs_background": "light"
     },
     "output_type": "display_data"
    }
   ],
   "source": [
    "plt.figure(figsize=(9,2))\n",
    "plt.scatter(shares, np.zeros(len(shares)), marker='o')\n",
    "plt.yticks([])\n",
    "plt.savefig('rapport/img_projet/shares.png');"
   ]
  },
  {
   "cell_type": "markdown",
   "metadata": {},
   "source": [
    "## Les méthodes usuelles"
   ]
  },
  {
   "cell_type": "markdown",
   "metadata": {},
   "source": [
    "Plusieurs méthodes de discrétisation existent. Ces dernières ont toutes leurs avantages et leurs inconvénients mais leurs choix dépendent de la nature des données. \n",
    "\n",
    "Il existe tout d'abord les méthodes usuelles :\n",
    "\n",
    "\n",
    "- __Quantiles__ : il s’agit de diviser l’ensemble des données selon une répartition équivalente (même nombre d’individus par classe). L’avantage est de créer des classes homogènes. Cependant, cette méthode ne prend pas en compte la distribution des valeurs. Ainsi, des valeurs très différentes peuvent se retrouver dans la même classe ou encore des valeurs similaires peuvent se retrouver dans des classes différentes.\n",
    "\n",
    "- __Étendue__ : il s’agit de diviser les données avec des bornes de mêmes amplitudes. Cette méthode facile à interpréter est souvent utilisé pour l’âge. En dehors de ce cas, elle est peu utilisée car elle ne convient pas si la distribution des valeurs est trop dissymétrique (les classes pourraient être très inégales).\n",
    "\n",
    "\n",
    "Le grand problème de ces deux méthodes est le fait de choisir le nombre de classe. Car ces seuils ne tiennent pas compte de la proximité des valeurs."
   ]
  },
  {
   "cell_type": "markdown",
   "metadata": {},
   "source": [
    "### Le choix du nombre de classes "
   ]
  },
  {
   "cell_type": "code",
   "execution_count": 134,
   "metadata": {},
   "outputs": [],
   "source": [
    "IQ = np.quantile(shares,q=0.75) - np.quantile(shares,q=0.25)"
   ]
  },
  {
   "cell_type": "code",
   "execution_count": 135,
   "metadata": {},
   "outputs": [],
   "source": [
    "dic = {}\n",
    "\n",
    "dic[\"Brooks-Carruthers\"] = int(5 * np.log10(len(shares)))\n",
    "dic[\"Huntsberger\"] = int(1 + 3.332 * np.log10(len(shares)))\n",
    "dic[\"Sturges\"] = int(np.log2(len(shares) + 1))\n",
    "dic[\"Scott\"] = int((max(shares) - min(shares)) / (3.5 * np.std(shares) * len(shares)**(-1/3)))\n",
    "dic[\"Freedman-Diaconis\"] = int((np.max(shares) - np.min(shares)) / (2 * IQ * len(shares)**(-1/3)))"
   ]
  },
  {
   "cell_type": "code",
   "execution_count": 139,
   "metadata": {
    "scrolled": true
   },
   "outputs": [
    {
     "data": {
      "text/html": [
       "<div>\n",
       "<style scoped>\n",
       "    .dataframe tbody tr th:only-of-type {\n",
       "        vertical-align: middle;\n",
       "    }\n",
       "\n",
       "    .dataframe tbody tr th {\n",
       "        vertical-align: top;\n",
       "    }\n",
       "\n",
       "    .dataframe thead th {\n",
       "        text-align: right;\n",
       "    }\n",
       "</style>\n",
       "<table border=\"1\" class=\"dataframe\">\n",
       "  <thead>\n",
       "    <tr style=\"text-align: right;\">\n",
       "      <th></th>\n",
       "      <th>Nombre de classes</th>\n",
       "    </tr>\n",
       "  </thead>\n",
       "  <tbody>\n",
       "    <tr>\n",
       "      <th>Brooks-Carruthers</th>\n",
       "      <td>22</td>\n",
       "    </tr>\n",
       "    <tr>\n",
       "      <th>Huntsberger</th>\n",
       "      <td>16</td>\n",
       "    </tr>\n",
       "    <tr>\n",
       "      <th>Sturges</th>\n",
       "      <td>15</td>\n",
       "    </tr>\n",
       "    <tr>\n",
       "      <th>Scott</th>\n",
       "      <td>722</td>\n",
       "    </tr>\n",
       "    <tr>\n",
       "      <th>Freedman-Diaconis</th>\n",
       "      <td>7673</td>\n",
       "    </tr>\n",
       "  </tbody>\n",
       "</table>\n",
       "</div>"
      ],
      "text/plain": [
       "                   Nombre de classes\n",
       "Brooks-Carruthers                 22\n",
       "Huntsberger                       16\n",
       "Sturges                           15\n",
       "Scott                            722\n",
       "Freedman-Diaconis               7673"
      ]
     },
     "execution_count": 139,
     "metadata": {},
     "output_type": "execute_result"
    }
   ],
   "source": [
    "pd.DataFrame.from_dict(dic, orient='index', columns=[\"Nombre de classes\"])"
   ]
  },
  {
   "cell_type": "markdown",
   "metadata": {},
   "source": [
    "D'après les différents indicateurs, on remarque que beaucoup de classes sont proposés pour discrétiser notre variable. Cette discrétisation ne répond pas trop à notre problématique et nous allons donc limiter notre choix entre un chiffre compris entre 2 et 4 classes."
   ]
  },
  {
   "cell_type": "markdown",
   "metadata": {},
   "source": [
    "### Quantiles"
   ]
  },
  {
   "cell_type": "code",
   "execution_count": 140,
   "metadata": {
    "scrolled": false
   },
   "outputs": [
    {
     "data": {
      "image/png": "[encoded data removed]",
      "text/plain": [
       "<Figure size 720x360 with 3 Axes>"
      ]
     },
     "metadata": {
      "needs_background": "light"
     },
     "output_type": "display_data"
    }
   ],
   "source": [
    "plt.figure(figsize=(10,5))\n",
    "\n",
    "bins_quantiles = {}\n",
    "\n",
    "for j,i in enumerate(range(2,5)):\n",
    "    plt.subplot(3,1,j+1)\n",
    "    test = KBinsDiscretizer(encode='ordinal',n_bins=i, strategy='quantile')\n",
    "    kmean = test.fit_transform(shares.to_numpy().reshape(-1,1))\n",
    "    plt.scatter(shares.to_numpy().reshape(-1,1), np.zeros(len(shares)), c=kmean)\n",
    "    plt.yticks([])\n",
    "    plt.title(\"Shares – {} classes\".format(i))\n",
    "    bins_quantiles[i] = test.bin_edges_[0][1:-1].astype(int);\n",
    "\n",
    "plt.tight_layout(True)\n",
    "plt.savefig('rapport/img_projet/quantiles.png');"
   ]
  },
  {
   "cell_type": "code",
   "execution_count": 11,
   "metadata": {},
   "outputs": [
    {
     "data": {
      "text/html": [
       "<div>\n",
       "<style scoped>\n",
       "    .dataframe tbody tr th:only-of-type {\n",
       "        vertical-align: middle;\n",
       "    }\n",
       "\n",
       "    .dataframe tbody tr th {\n",
       "        vertical-align: top;\n",
       "    }\n",
       "\n",
       "    .dataframe thead th {\n",
       "        text-align: right;\n",
       "    }\n",
       "</style>\n",
       "<table border=\"1\" class=\"dataframe\">\n",
       "  <thead>\n",
       "    <tr style=\"text-align: right;\">\n",
       "      <th></th>\n",
       "      <th>0</th>\n",
       "      <th>1</th>\n",
       "      <th>2</th>\n",
       "    </tr>\n",
       "  </thead>\n",
       "  <tbody>\n",
       "    <tr>\n",
       "      <th>2</th>\n",
       "      <td>1400</td>\n",
       "      <td>NaN</td>\n",
       "      <td>NaN</td>\n",
       "    </tr>\n",
       "    <tr>\n",
       "      <th>3</th>\n",
       "      <td>1100</td>\n",
       "      <td>2100.0</td>\n",
       "      <td>NaN</td>\n",
       "    </tr>\n",
       "    <tr>\n",
       "      <th>4</th>\n",
       "      <td>946</td>\n",
       "      <td>1400.0</td>\n",
       "      <td>2800.0</td>\n",
       "    </tr>\n",
       "  </tbody>\n",
       "</table>\n",
       "</div>"
      ],
      "text/plain": [
       "      0       1       2\n",
       "2  1400     NaN     NaN\n",
       "3  1100  2100.0     NaN\n",
       "4   946  1400.0  2800.0"
      ]
     },
     "execution_count": 11,
     "metadata": {},
     "output_type": "execute_result"
    }
   ],
   "source": [
    "pd.DataFrame.from_dict(bins_quantiles, orient='index')"
   ]
  },
  {
   "cell_type": "markdown",
   "metadata": {},
   "source": [
    "**Commentaire** : Avec cette méthode, la discrétisation se fait un niveau de la médiane lorsqu'il y a deux classe. Celle-ci étant située à 1400, on observe graphiquement qu'une grande amplitude de valeur est comprise dans la seconde classe. Avec cette méthode, les deux classes auraient la même taille."
   ]
  },
  {
   "cell_type": "markdown",
   "metadata": {},
   "source": [
    "### Étendue"
   ]
  },
  {
   "cell_type": "code",
   "execution_count": 141,
   "metadata": {},
   "outputs": [
    {
     "data": {
      "image/png": "[encoded data removed]",
      "text/plain": [
       "<Figure size 720x360 with 3 Axes>"
      ]
     },
     "metadata": {
      "needs_background": "light"
     },
     "output_type": "display_data"
    }
   ],
   "source": [
    "plt.figure(figsize=(10,5))\n",
    "\n",
    "bins_etendue = {}\n",
    "\n",
    "for j,i in enumerate(range(2,5)):\n",
    "    plt.subplot(3,1,j+1)\n",
    "    test = KBinsDiscretizer(encode='ordinal',n_bins=i, strategy='uniform')\n",
    "    kmean = test.fit_transform(shares.to_numpy().reshape(-1,1))\n",
    "    plt.scatter(shares.to_numpy().reshape(-1,1), np.zeros(len(shares)), c=kmean)\n",
    "    plt.yticks([])\n",
    "    plt.title(\"Shares – {} classes\".format(i))\n",
    "    bins_etendue[i] = test.bin_edges_[0][1:-1].astype(int);\n",
    "\n",
    "plt.tight_layout(True)\n",
    "plt.savefig('rapport/img_projet/etendue.png');"
   ]
  },
  {
   "cell_type": "code",
   "execution_count": 13,
   "metadata": {},
   "outputs": [
    {
     "data": {
      "text/html": [
       "<div>\n",
       "<style scoped>\n",
       "    .dataframe tbody tr th:only-of-type {\n",
       "        vertical-align: middle;\n",
       "    }\n",
       "\n",
       "    .dataframe tbody tr th {\n",
       "        vertical-align: top;\n",
       "    }\n",
       "\n",
       "    .dataframe thead th {\n",
       "        text-align: right;\n",
       "    }\n",
       "</style>\n",
       "<table border=\"1\" class=\"dataframe\">\n",
       "  <thead>\n",
       "    <tr style=\"text-align: right;\">\n",
       "      <th></th>\n",
       "      <th>0</th>\n",
       "      <th>1</th>\n",
       "      <th>2</th>\n",
       "    </tr>\n",
       "  </thead>\n",
       "  <tbody>\n",
       "    <tr>\n",
       "      <th>2</th>\n",
       "      <td>421652</td>\n",
       "      <td>NaN</td>\n",
       "      <td>NaN</td>\n",
       "    </tr>\n",
       "    <tr>\n",
       "      <th>3</th>\n",
       "      <td>281103</td>\n",
       "      <td>562201.0</td>\n",
       "      <td>NaN</td>\n",
       "    </tr>\n",
       "    <tr>\n",
       "      <th>4</th>\n",
       "      <td>210828</td>\n",
       "      <td>421652.0</td>\n",
       "      <td>632476.0</td>\n",
       "    </tr>\n",
       "  </tbody>\n",
       "</table>\n",
       "</div>"
      ],
      "text/plain": [
       "        0         1         2\n",
       "2  421652       NaN       NaN\n",
       "3  281103  562201.0       NaN\n",
       "4  210828  421652.0  632476.0"
      ]
     },
     "execution_count": 13,
     "metadata": {},
     "output_type": "execute_result"
    }
   ],
   "source": [
    "pd.DataFrame.from_dict(bins_etendue, orient='index')"
   ]
  },
  {
   "cell_type": "markdown",
   "metadata": {},
   "source": [
    "**Commentaire** : avec cette méthode, on ne prend en compte seulement les valeurs, toutefois, on peut remarquer qu'un article soit 400 000 fois ou 200 000, il reste tout de même populaire. Cette méthode n'est elle pas aussi très adaptée. Pour que la discrétisation soit de bonne qualité, il faudrait prendre en compte la dispersion des données."
   ]
  },
  {
   "cell_type": "markdown",
   "metadata": {},
   "source": [
    "## Méthodes par algorithmes : KMeans, Arbre de régression ou CAH"
   ]
  },
  {
   "cell_type": "markdown",
   "metadata": {},
   "source": [
    "Il existe d'autre méthode qui tiennent compte de la dispersions des données. Les données peuvent être organisées en « paquets » plus ou moins homogènes. Le nombre de classe étant difficile à estimer, on s’intéresse donc aux caractéristiques de dispersion des données. On se limitera donc à une séparation binaire.\n",
    "\n",
    "\n",
    "- __K-Means__ : il s’agit d’une méthode utilisant l’algorithme du K-Moyennes pour le partitionnement des données. On initialise un nombre de classes $k$ et ces dernières sont attribuées selon la classe la plus proche en termes de distance. Cette méthode est très dépendante de l’initialisation des clusters et aux valeurs extrêmes.\n",
    "\n",
    "- __Classification Hiérarchique__ : La séparation des données se fait à partir d’un algo- rithme de classification hiérarchique (ascendant ou descendant). On commence par N classes, puis on regroupe les points dont le regroupement minimise un critère d’agrégation (méthode de Ward par exemple), et on recommence jusqu’à avoir une même classe pour toutes les données. La méthode de sélection se fait par la visuali- sation d’un dendrogramme.\n",
    "\n",
    "- __Arbre de décision__ : il s’agit de séparer les données par un algorithme d’arbre de décision. À partir des branches de l’arbre on pourra choisir un nombre de classes optimales qui séparera au mieux les données selon la métrique choisie."
   ]
  },
  {
   "cell_type": "markdown",
   "metadata": {},
   "source": [
    "### KMean"
   ]
  },
  {
   "cell_type": "code",
   "execution_count": 142,
   "metadata": {},
   "outputs": [
    {
     "data": {
      "image/png": "[encoded data removed]",
      "text/plain": [
       "<Figure size 720x360 with 3 Axes>"
      ]
     },
     "metadata": {
      "needs_background": "light"
     },
     "output_type": "display_data"
    }
   ],
   "source": [
    "plt.figure(figsize=(10,5))\n",
    "\n",
    "bins_kmean = {}\n",
    "\n",
    "for j,i in enumerate(range(2,5)):\n",
    "    plt.subplot(3,1,j+1)\n",
    "    test = KBinsDiscretizer(encode='ordinal',n_bins=i, strategy='kmeans')\n",
    "    kmean = test.fit_transform(shares.to_numpy().reshape(-1,1))\n",
    "    plt.scatter(shares.to_numpy().reshape(-1,1), np.zeros(len(shares)), c=kmean)\n",
    "    plt.yticks([])\n",
    "    plt.title(\"Shares – {} classes\".format(i))\n",
    "    bins_kmean[i] = test.bin_edges_[0][1:-1].astype(int);\n",
    "\n",
    "plt.tight_layout(True)\n",
    "plt.savefig('rapport/img_projet/kmean.png');"
   ]
  },
  {
   "cell_type": "code",
   "execution_count": 15,
   "metadata": {},
   "outputs": [
    {
     "data": {
      "text/html": [
       "<div>\n",
       "<style scoped>\n",
       "    .dataframe tbody tr th:only-of-type {\n",
       "        vertical-align: middle;\n",
       "    }\n",
       "\n",
       "    .dataframe tbody tr th {\n",
       "        vertical-align: top;\n",
       "    }\n",
       "\n",
       "    .dataframe thead th {\n",
       "        text-align: right;\n",
       "    }\n",
       "</style>\n",
       "<table border=\"1\" class=\"dataframe\">\n",
       "  <thead>\n",
       "    <tr style=\"text-align: right;\">\n",
       "      <th></th>\n",
       "      <th>0</th>\n",
       "      <th>1</th>\n",
       "      <th>2</th>\n",
       "    </tr>\n",
       "  </thead>\n",
       "  <tbody>\n",
       "    <tr>\n",
       "      <th>2</th>\n",
       "      <td>327265</td>\n",
       "      <td>NaN</td>\n",
       "      <td>NaN</td>\n",
       "    </tr>\n",
       "    <tr>\n",
       "      <th>3</th>\n",
       "      <td>39316</td>\n",
       "      <td>363555.0</td>\n",
       "      <td>NaN</td>\n",
       "    </tr>\n",
       "    <tr>\n",
       "      <th>4</th>\n",
       "      <td>15533</td>\n",
       "      <td>81971.0</td>\n",
       "      <td>393201.0</td>\n",
       "    </tr>\n",
       "  </tbody>\n",
       "</table>\n",
       "</div>"
      ],
      "text/plain": [
       "        0         1         2\n",
       "2  327265       NaN       NaN\n",
       "3   39316  363555.0       NaN\n",
       "4   15533   81971.0  393201.0"
      ]
     },
     "execution_count": 15,
     "metadata": {},
     "output_type": "execute_result"
    }
   ],
   "source": [
    "pd.DataFrame.from_dict(bins_kmean, orient='index')"
   ]
  },
  {
   "cell_type": "markdown",
   "metadata": {},
   "source": [
    "**Commentaires** : la discrétisation par le KMean semble être meilleur comparé à l'utilisation des méthodes usuelles. Toutefois, celle en deux classes reste assez problématique pour définir un article populaire ou non populaire. La discrétisation en trois classes, elle, permet de bien remarquer trois types d'article distincts."
   ]
  },
  {
   "cell_type": "markdown",
   "metadata": {},
   "source": [
    "### CAH"
   ]
  },
  {
   "cell_type": "code",
   "execution_count": 32,
   "metadata": {
    "scrolled": true
   },
   "outputs": [
    {
     "data": {
      "image/png": "[encoded data removed]",
      "text/plain": [
       "<Figure size 432x288 with 1 Axes>"
      ]
     },
     "metadata": {
      "needs_background": "light"
     },
     "output_type": "display_data"
    }
   ],
   "source": [
    "Z = linkage(np.c_[shares,shares], method ='ward', metric='euclidean')\n",
    "cl = dendrogram(Z)\n",
    "plt.xticks([]);"
   ]
  },
  {
   "cell_type": "code",
   "execution_count": 33,
   "metadata": {
    "scrolled": false
   },
   "outputs": [],
   "source": [
    "color = fcluster(Z, t=1500000, criterion='distance')"
   ]
  },
  {
   "cell_type": "code",
   "execution_count": 34,
   "metadata": {},
   "outputs": [
    {
     "data": {
      "image/png": "[encoded data removed]",
      "text/plain": [
       "<Figure size 648x144 with 1 Axes>"
      ]
     },
     "metadata": {
      "needs_background": "light"
     },
     "output_type": "display_data"
    }
   ],
   "source": [
    "plt.figure(figsize=(9,2))\n",
    "plt.scatter(shares, np.zeros(len(shares)), c=color)\n",
    "plt.yticks([])\n",
    "plt.title(\"Shares\");"
   ]
  },
  {
   "cell_type": "markdown",
   "metadata": {},
   "source": [
    "On attribue les classes à chaque observations."
   ]
  },
  {
   "cell_type": "code",
   "execution_count": 37,
   "metadata": {},
   "outputs": [],
   "source": [
    "y = np.c_[shares,color]"
   ]
  },
  {
   "cell_type": "markdown",
   "metadata": {},
   "source": [
    "Et on retrouve les bornes suivantes : \n",
    "\n",
    "- de 0 à 43 700 partages \n",
    "- de 43 700 à 441 000 partages \n",
    "- plus de 441 000 partages"
   ]
  },
  {
   "cell_type": "code",
   "execution_count": 64,
   "metadata": {
    "scrolled": true
   },
   "outputs": [
    {
     "name": "stdout",
     "output_type": "stream",
     "text": [
      "43700\n",
      "441000\n"
     ]
    }
   ],
   "source": [
    "print(max((y[:,0][y[:,1] == 1])))\n",
    "print(max((y[:,0][y[:,1] == 3])))"
   ]
  },
  {
   "cell_type": "markdown",
   "metadata": {},
   "source": [
    "__Commentaire__ : "
   ]
  },
  {
   "cell_type": "markdown",
   "metadata": {},
   "source": [
    "### Arbre de régression "
   ]
  },
  {
   "cell_type": "code",
   "execution_count": 144,
   "metadata": {},
   "outputs": [
    {
     "data": {
      "image/png": "[encoded data removed]",
      "text/plain": [
       "<Figure size 864x576 with 1 Axes>"
      ]
     },
     "metadata": {
      "needs_background": "light"
     },
     "output_type": "display_data"
    }
   ],
   "source": [
    "plt.figure(figsize=(12,8))\n",
    "var = np.array(shares).reshape(-1,1)\n",
    "tree = DecisionTreeRegressor(max_leaf_nodes=4)\n",
    "tree.fit(var,var)\n",
    "colors_tree = tree.apply(var)\n",
    "plot_tree(tree,feature_names = \"Shares\", filled=True, impurity=False)\n",
    "plt.title(\"Shares\");\n",
    "plt.savefig('rapport/img_projet/tree_tree.png');"
   ]
  },
  {
   "cell_type": "code",
   "execution_count": 145,
   "metadata": {},
   "outputs": [
    {
     "data": {
      "image/png": "[encoded data removed]",
      "text/plain": [
       "<Figure size 648x144 with 1 Axes>"
      ]
     },
     "metadata": {
      "needs_background": "light"
     },
     "output_type": "display_data"
    }
   ],
   "source": [
    "plt.figure(figsize=(9,2))\n",
    "plt.scatter(shares, np.zeros(len(shares)), c=x)\n",
    "plt.yticks([])\n",
    "plt.savefig('rapport/img_projet/tree.png');"
   ]
  },
  {
   "cell_type": "markdown",
   "metadata": {},
   "source": [
    "__Commentaire__ : l'arbre de régression propose un split binaire avec les article avec moins de 3200 partages (soit 38 385 articles) et ceux ayant plus de 3200 partages (soit 20 articles). Dans le cadre de notre modèle, ceci ferait qu'il existe un échantillon très déséquilibrée, mais qui semble bien refleter l'existence d'articles très populaire selon une métrique."
   ]
  },
  {
   "cell_type": "markdown",
   "metadata": {},
   "source": [
    "## Choix final et création de la variable discrétisée"
   ]
  },
  {
   "cell_type": "code",
   "execution_count": 139,
   "metadata": {},
   "outputs": [],
   "source": [
    "final.to_csv('final_topics.csv')"
   ]
  },
  {
   "cell_type": "markdown",
   "metadata": {},
   "source": [
    "## Références"
   ]
  },
  {
   "cell_type": "markdown",
   "metadata": {},
   "source": [
    "http://eric.univ-lyon2.fr/~ricco/cours/slides/discretisation.pdf"
   ]
  }
 ],
 "metadata": {
  "kernelspec": {
   "display_name": "Python 3",
   "language": "python",
   "name": "python3"
  },
  "language_info": {
   "codemirror_mode": {
    "name": "ipython",
    "version": 3
   },
   "file_extension": ".py",
   "mimetype": "text/x-python",
   "name": "python",
   "nbconvert_exporter": "python",
   "pygments_lexer": "ipython3",
   "version": "3.7.4"
  }
 },
 "nbformat": 4,
 "nbformat_minor": 2
}
