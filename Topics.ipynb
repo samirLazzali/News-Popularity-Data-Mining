{
 "cells": [
  {
   "cell_type": "markdown",
   "metadata": {},
   "source": [
    "# Data Mining – Recherche des thèmes"
   ]
  },
  {
   "cell_type": "markdown",
   "metadata": {},
   "source": [
    "\n",
    "---"
   ]
  },
  {
   "cell_type": "code",
   "execution_count": 1,
   "metadata": {},
   "outputs": [],
   "source": [
    "import pandas as pd\n",
    "import numpy as np\n",
    "import matplotlib.pyplot as plt\n",
    "\n",
    "import datetime\n",
    "import warnings\n",
    "import re\n",
    "\n",
    "from sklearn.decomposition import LatentDirichletAllocation, NMF\n",
    "from sklearn.model_selection import GridSearchCV\n",
    "from sklearn.feature_extraction.text import CountVectorizer, TfidfVectorizer\n",
    "from sklearn.manifold import TSNE\n",
    "from sklearn.decomposition import PCA\n",
    "from sklearn.cluster import KMeans\n",
    "\n",
    "import spacy\n",
    "\n",
    "warnings.simplefilter(\"ignore\", DeprecationWarning)"
   ]
  },
  {
   "cell_type": "code",
   "execution_count": 2,
   "metadata": {},
   "outputs": [],
   "source": [
    "df = pd.read_csv(\"data/data_cleaned.csv\", index_col=0)\n",
    "df.reset_index(drop=True,inplace=True)"
   ]
  },
  {
   "cell_type": "code",
   "execution_count": 3,
   "metadata": {
    "scrolled": true
   },
   "outputs": [
    {
     "data": {
      "text/html": [
       "<div>\n",
       "<style scoped>\n",
       "    .dataframe tbody tr th:only-of-type {\n",
       "        vertical-align: middle;\n",
       "    }\n",
       "\n",
       "    .dataframe tbody tr th {\n",
       "        vertical-align: top;\n",
       "    }\n",
       "\n",
       "    .dataframe thead th {\n",
       "        text-align: right;\n",
       "    }\n",
       "</style>\n",
       "<table border=\"1\" class=\"dataframe\">\n",
       "  <thead>\n",
       "    <tr style=\"text-align: right;\">\n",
       "      <th></th>\n",
       "      <th>url</th>\n",
       "      <th>shares</th>\n",
       "      <th>cleaned_article</th>\n",
       "      <th>author_name</th>\n",
       "      <th>title</th>\n",
       "      <th>nb_images</th>\n",
       "      <th>num_videos</th>\n",
       "      <th>num_hrefs</th>\n",
       "      <th>num_keywords</th>\n",
       "      <th>chanel</th>\n",
       "      <th>date</th>\n",
       "      <th>day</th>\n",
       "      <th>week</th>\n",
       "    </tr>\n",
       "  </thead>\n",
       "  <tbody>\n",
       "    <tr>\n",
       "      <th>0</th>\n",
       "      <td>http://mashable.com/2013/01/07/ap-samsung-spon...</td>\n",
       "      <td>711</td>\n",
       "      <td>The Associated Press is the latest news organ...</td>\n",
       "      <td>Seth Fiegerman</td>\n",
       "      <td>AP's Twitter to Begin Displaying Sponsored Tweets</td>\n",
       "      <td>1</td>\n",
       "      <td>0.0</td>\n",
       "      <td>3.0</td>\n",
       "      <td>4.0</td>\n",
       "      <td>Business</td>\n",
       "      <td>2013-01-07</td>\n",
       "      <td>Monday</td>\n",
       "      <td>0</td>\n",
       "    </tr>\n",
       "    <tr>\n",
       "      <th>1</th>\n",
       "      <td>http://mashable.com/2013/01/07/apple-40-billio...</td>\n",
       "      <td>1500</td>\n",
       "      <td>It looks like 2012 was a pretty good year for...</td>\n",
       "      <td>Seth Fiegerman</td>\n",
       "      <td>Apple's App Store Passes 40 Billion Downloads</td>\n",
       "      <td>1</td>\n",
       "      <td>0.0</td>\n",
       "      <td>3.0</td>\n",
       "      <td>6.0</td>\n",
       "      <td>Business</td>\n",
       "      <td>2013-01-07</td>\n",
       "      <td>Monday</td>\n",
       "      <td>0</td>\n",
       "    </tr>\n",
       "  </tbody>\n",
       "</table>\n",
       "</div>"
      ],
      "text/plain": [
       "                                                 url   shares  \\\n",
       "0  http://mashable.com/2013/01/07/ap-samsung-spon...      711   \n",
       "1  http://mashable.com/2013/01/07/apple-40-billio...     1500   \n",
       "\n",
       "                                     cleaned_article     author_name  \\\n",
       "0   The Associated Press is the latest news organ...  Seth Fiegerman   \n",
       "1   It looks like 2012 was a pretty good year for...  Seth Fiegerman   \n",
       "\n",
       "                                               title  nb_images   num_videos  \\\n",
       "0  AP's Twitter to Begin Displaying Sponsored Tweets          1          0.0   \n",
       "1      Apple's App Store Passes 40 Billion Downloads          1          0.0   \n",
       "\n",
       "    num_hrefs   num_keywords    chanel        date     day  week  \n",
       "0         3.0            4.0  Business  2013-01-07  Monday     0  \n",
       "1         3.0            6.0  Business  2013-01-07  Monday     0  "
      ]
     },
     "execution_count": 3,
     "metadata": {},
     "output_type": "execute_result"
    }
   ],
   "source": [
    "df.head(2)"
   ]
  },
  {
   "cell_type": "markdown",
   "metadata": {},
   "source": [
    "## 1 – Pré-traitement"
   ]
  },
  {
   "cell_type": "markdown",
   "metadata": {},
   "source": [
    "Tout d'abord, il faut mettre en forme nos données textuelles. Pour cela, plusieurs étapes doivent être faites : "
   ]
  },
  {
   "cell_type": "markdown",
   "metadata": {},
   "source": [
    "1 – La **tokenisation** est l'acte de décomposer une séquence de chaînes de caractères en morceaux tels que des mots, des mots-clés, des phrases, des symboles et d'autres éléments appelés **tokens**. Lors du processus de tokenisation, certains caractères comme les signes de ponctuation sont éliminés et le texte en transformé en minuscule. Pour notre cas, le processus de **tokenisation**, permet de créer une liste de chaque mot présent dans un article, de lui retirer sa ponctuation, ses stopwords, et prendre en compte les mots composés en tant que token unique."
   ]
  },
  {
   "cell_type": "markdown",
   "metadata": {},
   "source": [
    "2 – Le **stemming** est le processus de réduction d'un mot à sa racine.\n",
    "L'avantage de ce procédé est que nous pouvons réduire le nombre total de mots uniques dans le dictionnaire. Par conséquent, le nombre de colonnes de la matrice documents–termes contiendra moins de colonnes."
   ]
  },
  {
   "cell_type": "markdown",
   "metadata": {},
   "source": [
    "$$\\text{ou}$$"
   ]
  },
  {
   "cell_type": "markdown",
   "metadata": {},
   "source": [
    "2 – La **lemmatisation** est une méthode de conversion d'un mot en sa forme de base. La différence avec le stemming est qu'elle tient compte du contexte et convertit le mot dans une forme compréhensible, alors que le stemming ne fait que supprimer les derniers caractères, ce qui entraîne souvent des significations incorrectes et pouvant rassembler des mots complètement différents. \n",
    "\n",
    "\n",
    "Pour notre cas, nous choisissons de d'utiliser la lemmatisation, car le sens des mots est important pour la détection des thèmes latents."
   ]
  },
  {
   "cell_type": "code",
   "execution_count": 4,
   "metadata": {
    "scrolled": true
   },
   "outputs": [],
   "source": [
    "sp = spacy.load(\"en_core_web_lg\")\n",
    "merge_ents = sp.create_pipe(\"merge_entities\")\n",
    "sp.add_pipe(merge_ents)\n",
    "\n",
    "spacy_stopwords = spacy.lang.en.stop_words.STOP_WORDS"
   ]
  },
  {
   "cell_type": "markdown",
   "metadata": {},
   "source": [
    "On peut choisir des mots à ajouter comme `stopword`"
   ]
  },
  {
   "cell_type": "code",
   "execution_count": 5,
   "metadata": {},
   "outputs": [],
   "source": [
    "add = [\"mashable\", \"image\", \"courtesy\", 'photo', \"say\"]\n",
    "spacy_stopwords.update(add)"
   ]
  },
  {
   "cell_type": "markdown",
   "metadata": {},
   "source": [
    "La fonction suivante permet d'appliquer le preprocessing et faire ressortir les tokens sous forme d'une liste. Les fonctions `join` et `split` seront utiles pour la suite pour donner plusieurs formes aux tokens retenus."
   ]
  },
  {
   "cell_type": "code",
   "execution_count": 6,
   "metadata": {},
   "outputs": [],
   "source": [
    "def hasNumbers(inputString):\n",
    "    return bool(re.search(r'\\d', inputString))"
   ]
  },
  {
   "cell_type": "code",
   "execution_count": 7,
   "metadata": {},
   "outputs": [],
   "source": [
    "def lemma(document, stopwords=spacy.lang.en.stop_words.STOP_WORDS):  \n",
    "    \n",
    "    select = [word.lemma_.lower() for word in sp(document) \n",
    "              if not hasNumbers(str(word.lemma_))\n",
    "              and word.lemma_ not in [\"-PRON-\"] \n",
    "              and word.lemma_.lower() not in stopwords \n",
    "              and len(word.text) > 2]\n",
    "    \n",
    "    return select"
   ]
  },
  {
   "cell_type": "code",
   "execution_count": 8,
   "metadata": {},
   "outputs": [],
   "source": [
    "def join(document):\n",
    "    return ','.join(document)"
   ]
  },
  {
   "cell_type": "code",
   "execution_count": 9,
   "metadata": {},
   "outputs": [],
   "source": [
    "def hasproblem(inputString):\n",
    "    return bool(re.search('[a-zA-Z].*', inputString))"
   ]
  },
  {
   "cell_type": "code",
   "execution_count": 10,
   "metadata": {},
   "outputs": [],
   "source": [
    "def split(document):\n",
    "    liste = document.split(\",\")\n",
    "    return [i.replace('\\\"','').replace(\"#\",'').replace(\"\\'\",'').strip() for i in liste if hasproblem(i)]"
   ]
  },
  {
   "cell_type": "markdown",
   "metadata": {},
   "source": [
    "On applique la fonction : "
   ]
  },
  {
   "cell_type": "code",
   "execution_count": 11,
   "metadata": {
    "scrolled": true
   },
   "outputs": [
    {
     "name": "stdout",
     "output_type": "stream",
     "text": [
      "CPU times: user 1h 38min 20s, sys: 6min 52s, total: 1h 45min 13s\n",
      "Wall time: 58min 58s\n"
     ]
    }
   ],
   "source": [
    "%%time\n",
    "\n",
    "serie = df.cleaned_article.apply(lambda x : lemma(x,stopwords=spacy_stopwords))"
   ]
  },
  {
   "cell_type": "code",
   "execution_count": 12,
   "metadata": {
    "scrolled": true
   },
   "outputs": [
    {
     "data": {
      "text/plain": [
       "0    [the associated press, late, news, organizatio...\n",
       "1    [look, like, a pretty good year, apple, app, s...\n",
       "Name: cleaned_article, dtype: object"
      ]
     },
     "execution_count": 12,
     "metadata": {},
     "output_type": "execute_result"
    }
   ],
   "source": [
    "serie.head(2)"
   ]
  },
  {
   "cell_type": "code",
   "execution_count": 13,
   "metadata": {},
   "outputs": [],
   "source": [
    "serie_text = serie.apply(lambda x : join(x))"
   ]
  },
  {
   "cell_type": "code",
   "execution_count": 14,
   "metadata": {
    "scrolled": false
   },
   "outputs": [
    {
     "data": {
      "text/plain": [
       "0    the associated press,late,news,organization,ex...\n",
       "1    look,like,a pretty good year,apple,app,store,a...\n",
       "Name: cleaned_article, dtype: object"
      ]
     },
     "execution_count": 14,
     "metadata": {},
     "output_type": "execute_result"
    }
   ],
   "source": [
    "serie_text.head(2)"
   ]
  },
  {
   "cell_type": "markdown",
   "metadata": {},
   "source": [
    "## 2 – Bag of word "
   ]
  },
  {
   "cell_type": "markdown",
   "metadata": {},
   "source": [
    "Il s'agit de calculer le nombre d'occurrences de chaque terme dans le document considéré (on parle de « fréquence » par abus de langage). Plusieurs variantes existent : un choix simple, dit « binaire », est de mettre 1 si le terme apparaît dans le document et 0 sinon. À l'opposé, on peut normaliser logarithmiquement la fréquence brute pour amortir les écarts.\n",
    "\n",
    "Ici, on a choisi deux méthodes pour afficher la matrice des documents-termes : \n",
    "\n",
    "- La première utilise **la fréquence brute** (nombre d'occurence de chaque mot pour le texte considéré). Pour notre exemple, on a 10 000 documents et 114 365 mots différents.  Il s'agit donc d'un simple comptage des mots pour le document.\n",
    "\n",
    "- La seconde utilise **TF-IDF**. Cela consiste à multiplier TF (nombre d'occurence sur le nombre total de mot) avec IDF : la fréquence inverse de document (inverse document frequency). Il s'agit d'une mesure de l'importance du terme dans l'ensemble du corpus. Dans le schéma TF-IDF, cette méthode vise à donner un poids plus important aux termes les moins fréquents, considérés comme plus discriminants. Elle consiste à calculer le logarithme de l'inverse de la proportion de documents du corpus qui contiennent ce terme."
   ]
  },
  {
   "cell_type": "markdown",
   "metadata": {},
   "source": [
    "---\n",
    "_Note : Est-ce qu'on met comme argument : `max_df=0.95, min_df=0.05, max_features=1000` ?_ :  "
   ]
  },
  {
   "cell_type": "markdown",
   "metadata": {},
   "source": [
    "> `max_feature` : cela permet de limiter le nombre mots à prendre en compte dans le vocabulaire. Par exemple, on prend les 100 premiers mots les plus utilisés.\n",
    "\n",
    "> `max_df` est utilisé pour supprimer les termes qui apparaissent trop fréquemment.\n",
    "\n",
    "> `min_df` est utilisé pour supprimer les termes qui n'apparaissent que trop rarement, également appelés \"mots spécifiques au corpus\".\n",
    "\n",
    "Pour ces arguments, on spécifie soit en % de documents, soit en nombre. "
   ]
  },
  {
   "cell_type": "markdown",
   "metadata": {},
   "source": [
    "---"
   ]
  },
  {
   "cell_type": "markdown",
   "metadata": {},
   "source": [
    "Le premier Bag of Word que nous utiliserons ne contiendra que 100 mots afin de faciliter la visualisation."
   ]
  },
  {
   "cell_type": "markdown",
   "metadata": {},
   "source": [
    "### Bag of word : TF-IDF"
   ]
  },
  {
   "cell_type": "code",
   "execution_count": 15,
   "metadata": {
    "scrolled": true
   },
   "outputs": [],
   "source": [
    "tfidf_vectorizer = TfidfVectorizer(stop_words='english', max_df=0.90, min_df=0.01, \n",
    "                                   max_features=100, tokenizer=split)\n",
    "tfidf = tfidf_vectorizer.fit_transform(serie_text)\n",
    "tfidf_feature_names = tfidf_vectorizer.get_feature_names()"
   ]
  },
  {
   "cell_type": "code",
   "execution_count": 16,
   "metadata": {
    "scrolled": true
   },
   "outputs": [
    {
     "data": {
      "text/plain": [
       "(38405, 100)"
      ]
     },
     "execution_count": 16,
     "metadata": {},
     "output_type": "execute_result"
    }
   ],
   "source": [
    "tfidf.shape"
   ]
  },
  {
   "cell_type": "markdown",
   "metadata": {},
   "source": [
    "### Bag of word : TF"
   ]
  },
  {
   "cell_type": "code",
   "execution_count": 18,
   "metadata": {},
   "outputs": [],
   "source": [
    "tf_vectorizer = CountVectorizer(stop_words='english', max_df=0.90, min_df=0.01, \n",
    "                                max_features=100, tokenizer=split)\n",
    "tf = tf_vectorizer.fit_transform(serie_text)\n",
    "tf_feature_names = tf_vectorizer.get_feature_names()"
   ]
  },
  {
   "cell_type": "code",
   "execution_count": 21,
   "metadata": {},
   "outputs": [
    {
     "data": {
      "text/plain": [
       "(38405, 100)"
      ]
     },
     "execution_count": 21,
     "metadata": {},
     "output_type": "execute_result"
    }
   ],
   "source": [
    "tf.shape"
   ]
  },
  {
   "cell_type": "markdown",
   "metadata": {},
   "source": [
    "## 3 – Visualisation : l'embedding des mots"
   ]
  },
  {
   "cell_type": "code",
   "execution_count": 19,
   "metadata": {},
   "outputs": [],
   "source": [
    "def get_word_vectors(words):\n",
    "    return [sp(word).vector for word in words]"
   ]
  },
  {
   "cell_type": "code",
   "execution_count": 20,
   "metadata": {},
   "outputs": [],
   "source": [
    "words = tf_feature_names\n",
    "embedding = np.array(get_word_vectors(words))"
   ]
  },
  {
   "cell_type": "markdown",
   "metadata": {},
   "source": [
    "Maintenant qu'on possède notre matrice à très grande dimension (38 000 x 100), on peut comparer les mots se trouvant à une distance proche. \n",
    "\n"
   ]
  },
  {
   "cell_type": "markdown",
   "metadata": {},
   "source": [
    "Une technique pour visualiser l'embedding des mots est de transformer chacun des mots dans un corpus comme un vecteur. Pour cela, nous utilisons une librairie déjà entraînée avec un algorithme de Word2vec. Celui-ci consiste à attribuer pour chaque mot un vecteur de dimension 300."
   ]
  },
  {
   "cell_type": "markdown",
   "metadata": {},
   "source": [
    "Pour notre visualisation, nous utiliserons les mots uniques conservés par le Bag of Words prédédents. L'option `max_features` permet de définir un nombre maximal de mots (les plus récurrents) pour visualiser le corpus graphiquement."
   ]
  },
  {
   "cell_type": "markdown",
   "metadata": {},
   "source": [
    "Lorsque nous transformons l'ensemble des mots les plus importants du Bag of Word et nous les transformons, nous nous retrouvons avec une matrice de dimensions : 100 x 300. Ce type de matrice est donc visuellement difficile à afficher. Pour cela, nous décidons d'utilsier une méthode de réduction de dimensions afin de conserver les deux premières composantes et afficher les mots sur un graphique."
   ]
  },
  {
   "cell_type": "markdown",
   "metadata": {},
   "source": [
    "### ACP"
   ]
  },
  {
   "cell_type": "markdown",
   "metadata": {},
   "source": [
    "Une manière simple de réduire la dimension est d'utiliser la méthode de l'Analyse en Composante Principale."
   ]
  },
  {
   "cell_type": "code",
   "execution_count": 21,
   "metadata": {},
   "outputs": [],
   "source": [
    "pca = PCA(n_components=2)\n",
    "pca.fit(embedding)\n",
    "\n",
    "word_vecs_2d = pca.transform(embedding)"
   ]
  },
  {
   "cell_type": "markdown",
   "metadata": {},
   "source": [
    "Pour améliorer la visualisation, nous pouvons utiliser un algorithme de clustering pour faire ressortir les groupes de mots les plus proches (en termes d'usage). La méthode que nous décidons d'utiliser reste la plus simple : le K-Mean. Toutefois, il convient de trouver le nombre de cluster optimal. Pour cela, nous utilisons le critère du coude pour choisir ce nombre de clusters (qui ne correpsond pas au nombre de thème, mais seulement pour observer les groupes de mots avec un sens proche)."
   ]
  },
  {
   "cell_type": "code",
   "execution_count": 22,
   "metadata": {},
   "outputs": [],
   "source": [
    "inertia_ = []\n",
    "labels = []\n",
    "\n",
    "for i in range(1,20):\n",
    "    kmean = KMeans(n_clusters=i)\n",
    "    kmean.fit(word_vecs_2d)\n",
    "    inertia_.append(kmean.inertia_)\n",
    "    labels.append(kmean.labels_)"
   ]
  },
  {
   "cell_type": "code",
   "execution_count": 24,
   "metadata": {},
   "outputs": [
    {
     "data": {
      "image/png": "[encoded data removed]",
      "text/plain": [
       "<Figure size 720x216 with 1 Axes>"
      ]
     },
     "metadata": {
      "needs_background": "light"
     },
     "output_type": "display_data"
    }
   ],
   "source": [
    "plt.figure(figsize=(10,3))\n",
    "plt.plot(np.arange(1,20),inertia_, c='g')\n",
    "plt.xticks(np.arange(1,20));\n",
    "plt.scatter(3,inertia_[2],c='r', zorder=3)\n",
    "plt.scatter(5,inertia_[4],c='r', zorder=3);\n",
    "plt.savefig(\"kchoice.png\")"
   ]
  },
  {
   "cell_type": "code",
   "execution_count": 25,
   "metadata": {
    "scrolled": false
   },
   "outputs": [
    {
     "data": {
      "image/png": "[encoded data removed]",
      "text/plain": [
       "<Figure size 864x864 with 1 Axes>"
      ]
     },
     "metadata": {
      "needs_background": "light"
     },
     "output_type": "display_data"
    }
   ],
   "source": [
    "plt.figure(figsize=(12,12))\n",
    "plt.scatter(word_vecs_2d[:,0], word_vecs_2d[:,1], c=labels[4])\n",
    "\n",
    "for word, coord in zip(words, word_vecs_2d):\n",
    "    x, y = coord\n",
    "    plt.text(x + 0.1, y, word,size = 8)\n",
    "plt.axis(False)\n",
    "plt.savefig(\"acp.png\");"
   ]
  },
  {
   "cell_type": "markdown",
   "metadata": {},
   "source": [
    "### t-SNE"
   ]
  },
  {
   "cell_type": "markdown",
   "metadata": {},
   "source": [
    "\n",
    "On peut également utiliser **l'algorithme t-SNE** (distributed stochastic neighbor embedding). Il s'agit d'une technique de réduction de dimension pour la visualisation de données. Elle consiste à réduire en deux ou trois dimensions une matrice à grande dimensionnalité. Ainsi, si deux points sont proches (resp. éloignés) dans l'espace d'origine ils devront être proches (resp. éloignés) dans l'espace à faible dimension. Pour le faire, cet algorithme se base sur une probabilité des proximités de chacun des points."
   ]
  },
  {
   "cell_type": "code",
   "execution_count": 26,
   "metadata": {},
   "outputs": [],
   "source": [
    "mani = TSNE(n_components=2)\n",
    "word_vecs_2d = mani.fit_transform(embedding)"
   ]
  },
  {
   "cell_type": "markdown",
   "metadata": {},
   "source": [
    "Pour améliorer la visualisation, on peut utiliser encore une fois un algorithme de clustering."
   ]
  },
  {
   "cell_type": "code",
   "execution_count": 27,
   "metadata": {},
   "outputs": [],
   "source": [
    "kmean = KMeans(n_clusters=5)\n",
    "color = kmean.fit_predict(word_vecs_2d)"
   ]
  },
  {
   "cell_type": "code",
   "execution_count": 29,
   "metadata": {},
   "outputs": [
    {
     "data": {
      "image/png": "[encoded data removed]",
      "text/plain": [
       "<Figure size 864x864 with 1 Axes>"
      ]
     },
     "metadata": {
      "needs_background": "light"
     },
     "output_type": "display_data"
    }
   ],
   "source": [
    "plt.figure(figsize=(12,12))\n",
    "plt.scatter(word_vecs_2d[:,0], word_vecs_2d[:,1], c=color)\n",
    "\n",
    "for word, coord in zip(words, word_vecs_2d):\n",
    "    x, y = coord\n",
    "    plt.text(x + 0.5 , y, word,size = 8)\n",
    "plt.axis(False)\n",
    "plt.savefig('tsne.png');"
   ]
  },
  {
   "cell_type": "markdown",
   "metadata": {},
   "source": [
    "## 4 – Recherche des thèmes "
   ]
  },
  {
   "cell_type": "markdown",
   "metadata": {},
   "source": [
    "Nous pouvons revenir à notre objectif principale : la détection des thèmes latents."
   ]
  },
  {
   "cell_type": "markdown",
   "metadata": {},
   "source": [
    "On utilise deux algorithmes : \n",
    "\n",
    "- **Latent Dirichlet Allocation (LDA)** : Il s'agit d'un modèle de type génératif permettant d’expliquer des ensembles d’observations, par le moyen de groupes non observés. Ces derniers sont définis par des similarités entre les données. Par exemple, si les observations sont les mots collectés dans un ensemble de documents textuels, le modèle LDA suppose que chaque document est un mélange d’un petit nombre de sujets et que la génération de chaque occurrence d’un mot est attribuable (en termes de probabilité) à l’un des thèmes du document.\n",
    "\n",
    "\n",
    "- **Non-négative Matrix Factorization (NMF)** : Il s'agit d'une technique de factorisation de matrice par la décomposition en valeur singulière (comme pour l'ACP). C'est donc une technique de réduction de dimension mais les composantes sont non-orthogonales (contrairement à l'ACP). Elle est adaptée aux matrices creuses (matrice de grandes dimensions contenant beaucoup de 0) ne contenant que des données positives, par exemple des occurrences de mots. Le fait que les facteurs de décomposition n’étant pas orthogonaux, des superpositions peuvent apparaître : des même mots participants à plusieurs thèmes. Lee et Seung (1999) illustre cette méthode sur la classification d’un corpus de 30991 articles de l’encyclopédie Grolier. Plutôt que de classer ces articles par thèmes choisis a priori, ils sont classés sur la base d’un vocabulaire de 15 276 mots."
   ]
  },
  {
   "cell_type": "markdown",
   "metadata": {},
   "source": [
    "On retire l'option de max feature pour améliorer la prédiction des thèmes"
   ]
  },
  {
   "cell_type": "markdown",
   "metadata": {},
   "source": [
    "### Bag of word : TF-IDF"
   ]
  },
  {
   "cell_type": "code",
   "execution_count": 30,
   "metadata": {},
   "outputs": [],
   "source": [
    "tfidf_vectorizer = TfidfVectorizer(stop_words='english', max_df=0.95, min_df=0.01, tokenizer=split)\n",
    "tfidf = tfidf_vectorizer.fit_transform(serie_text)\n",
    "tfidf_feature_names = tfidf_vectorizer.get_feature_names()"
   ]
  },
  {
   "cell_type": "markdown",
   "metadata": {},
   "source": [
    "### Bag of word : TF"
   ]
  },
  {
   "cell_type": "code",
   "execution_count": 31,
   "metadata": {},
   "outputs": [],
   "source": [
    "tf_vectorizer = CountVectorizer(stop_words='english', max_df=0.95, min_df=0.01, tokenizer=split)\n",
    "tf = tf_vectorizer.fit_transform(serie_text)\n",
    "tf_feature_names = tf_vectorizer.get_feature_names()"
   ]
  },
  {
   "cell_type": "markdown",
   "metadata": {},
   "source": [
    "### Modèles"
   ]
  },
  {
   "cell_type": "markdown",
   "metadata": {},
   "source": [
    "La technique de GridSearchCV plus basse nous à permit de trouver le nombre de thèmes suivant : "
   ]
  },
  {
   "cell_type": "code",
   "execution_count": 32,
   "metadata": {},
   "outputs": [],
   "source": [
    "n_topics_tf = 16\n",
    "n_topics_tfidf = 5"
   ]
  },
  {
   "cell_type": "markdown",
   "metadata": {},
   "source": [
    "Pour la matrice TF"
   ]
  },
  {
   "cell_type": "code",
   "execution_count": 33,
   "metadata": {},
   "outputs": [],
   "source": [
    "nmf = NMF(n_components=n_topics_tf, random_state=1, alpha=.1, \n",
    "          l1_ratio=.5, init='nndsvd')\n",
    "\n",
    "lda = LatentDirichletAllocation(n_components=n_topics_tf, max_iter=10, \n",
    "                                learning_method='online', \n",
    "                                learning_offset=50,random_state=1)"
   ]
  },
  {
   "cell_type": "code",
   "execution_count": 34,
   "metadata": {},
   "outputs": [
    {
     "name": "stdout",
     "output_type": "stream",
     "text": [
      "CPU times: user 10min 55s, sys: 5.61 s, total: 11min 1s\n",
      "Wall time: 5min 37s\n"
     ]
    },
    {
     "data": {
      "text/plain": [
       "LatentDirichletAllocation(batch_size=128, doc_topic_prior=None,\n",
       "                          evaluate_every=-1, learning_decay=0.7,\n",
       "                          learning_method='online', learning_offset=50,\n",
       "                          max_doc_update_iter=100, max_iter=10,\n",
       "                          mean_change_tol=0.001, n_components=16, n_jobs=None,\n",
       "                          perp_tol=0.1, random_state=1, topic_word_prior=None,\n",
       "                          total_samples=1000000.0, verbose=0)"
      ]
     },
     "execution_count": 34,
     "metadata": {},
     "output_type": "execute_result"
    }
   ],
   "source": [
    "%%time\n",
    "\n",
    "nmf.fit(tf)\n",
    "lda.fit(tf)"
   ]
  },
  {
   "cell_type": "markdown",
   "metadata": {},
   "source": [
    "Pour la matrice TF-IDF"
   ]
  },
  {
   "cell_type": "code",
   "execution_count": 35,
   "metadata": {
    "scrolled": true
   },
   "outputs": [],
   "source": [
    "nmf2 = NMF(n_components=n_topics_tfidf, random_state=1, alpha=.1, \n",
    "          l1_ratio=.5, init='nndsvd')\n",
    "\n",
    "lda2 = LatentDirichletAllocation(n_components=n_topics_tfidf, max_iter=10, \n",
    "                                learning_method='online', \n",
    "                                learning_offset=50,random_state=1)"
   ]
  },
  {
   "cell_type": "code",
   "execution_count": 36,
   "metadata": {},
   "outputs": [
    {
     "name": "stdout",
     "output_type": "stream",
     "text": [
      "CPU times: user 5min 14s, sys: 2.2 s, total: 5min 16s\n",
      "Wall time: 2min 40s\n"
     ]
    },
    {
     "data": {
      "text/plain": [
       "LatentDirichletAllocation(batch_size=128, doc_topic_prior=None,\n",
       "                          evaluate_every=-1, learning_decay=0.7,\n",
       "                          learning_method='online', learning_offset=50,\n",
       "                          max_doc_update_iter=100, max_iter=10,\n",
       "                          mean_change_tol=0.001, n_components=5, n_jobs=None,\n",
       "                          perp_tol=0.1, random_state=1, topic_word_prior=None,\n",
       "                          total_samples=1000000.0, verbose=0)"
      ]
     },
     "execution_count": 36,
     "metadata": {},
     "output_type": "execute_result"
    }
   ],
   "source": [
    "%%time\n",
    "\n",
    "nmf2.fit(tfidf)\n",
    "lda2.fit(tfidf)"
   ]
  },
  {
   "cell_type": "markdown",
   "metadata": {},
   "source": [
    "---"
   ]
  },
  {
   "cell_type": "markdown",
   "metadata": {},
   "source": [
    "### Choix du nombre de thèmes"
   ]
  },
  {
   "cell_type": "markdown",
   "metadata": {},
   "source": [
    "_Note : ne pas lancer car long en calcul_"
   ]
  },
  {
   "cell_type": "markdown",
   "metadata": {},
   "source": [
    "On souhaite trouver le nombre optimal de thème. On va donc utiliser la fonction GridSearchCV. Ainsi, on va comparer le modèle LDA pour les deux types de matrice de Bag of Word."
   ]
  },
  {
   "cell_type": "code",
   "execution_count": 16,
   "metadata": {
    "collapsed": true
   },
   "outputs": [
    {
     "data": {
      "text/plain": [
       "GridSearchCV(cv=3, error_score=nan,\n",
       "             estimator=LatentDirichletAllocation(batch_size=128,\n",
       "                                                 doc_topic_prior=None,\n",
       "                                                 evaluate_every=-1,\n",
       "                                                 learning_decay=0.7,\n",
       "                                                 learning_method='online',\n",
       "                                                 learning_offset=50,\n",
       "                                                 max_doc_update_iter=100,\n",
       "                                                 max_iter=10,\n",
       "                                                 mean_change_tol=0.001,\n",
       "                                                 n_components=10, n_jobs=None,\n",
       "                                                 perp_tol=0.1, random_state=1,\n",
       "                                                 topic_word_prior=None,\n",
       "                                                 total_samples=1000000.0,\n",
       "                                                 verbose=0),\n",
       "             iid='deprecated', n_jobs=None,\n",
       "             param_grid={'n_components': [3, 4, 5, 6, 7, 8, 9, 10, 11, 12, 13,\n",
       "                                          14, 15, 16, 17, 18, 19]},\n",
       "             pre_dispatch='2*n_jobs', refit=True, return_train_score=False,\n",
       "             scoring=None, verbose=0)"
      ]
     },
     "execution_count": 16,
     "metadata": {},
     "output_type": "execute_result"
    }
   ],
   "source": [
    "search_params = {'n_components': list(range(3,20))} \n",
    "\n",
    "model_tfidf_lda = GridSearchCV(lda2, param_grid=search_params, cv=3)\n",
    "model_tfidf_lda.fit(tfidf)\n",
    "\n",
    "model_tf_lda = GridSearchCV(lda, param_grid=search_params, cv=3)\n",
    "model_tf_lda.fit(tf)"
   ]
  },
  {
   "cell_type": "code",
   "execution_count": 17,
   "metadata": {},
   "outputs": [],
   "source": [
    "lda_tfidf = pd.DataFrame(model_tfidf_lda.cv_results_)\n",
    "lda_tf = pd.DataFrame(model_tf_lda.cv_results_)\n",
    "\n",
    "resultats = pd.concat([lda_tf,lda_tfidf])"
   ]
  },
  {
   "cell_type": "code",
   "execution_count": 18,
   "metadata": {
    "scrolled": false
   },
   "outputs": [
    {
     "data": {
      "text/html": [
       "<div>\n",
       "<style scoped>\n",
       "    .dataframe tbody tr th:only-of-type {\n",
       "        vertical-align: middle;\n",
       "    }\n",
       "\n",
       "    .dataframe tbody tr th {\n",
       "        vertical-align: top;\n",
       "    }\n",
       "\n",
       "    .dataframe thead th {\n",
       "        text-align: right;\n",
       "    }\n",
       "</style>\n",
       "<table border=\"1\" class=\"dataframe\">\n",
       "  <thead>\n",
       "    <tr style=\"text-align: right;\">\n",
       "      <th></th>\n",
       "      <th>mean_fit_time</th>\n",
       "      <th>std_fit_time</th>\n",
       "      <th>mean_score_time</th>\n",
       "      <th>std_score_time</th>\n",
       "      <th>param_n_components</th>\n",
       "      <th>params</th>\n",
       "      <th>split0_test_score</th>\n",
       "      <th>split1_test_score</th>\n",
       "      <th>split2_test_score</th>\n",
       "      <th>mean_test_score</th>\n",
       "      <th>std_test_score</th>\n",
       "      <th>rank_test_score</th>\n",
       "    </tr>\n",
       "  </thead>\n",
       "  <tbody>\n",
       "    <tr>\n",
       "      <th>13</th>\n",
       "      <td>61.131920</td>\n",
       "      <td>0.98625</td>\n",
       "      <td>2.926447</td>\n",
       "      <td>0.029464</td>\n",
       "      <td>16</td>\n",
       "      <td>{'n_components': 16}</td>\n",
       "      <td>-2.378221e+06</td>\n",
       "      <td>-2.461627e+06</td>\n",
       "      <td>-2.261597e+06</td>\n",
       "      <td>-2.367148e+06</td>\n",
       "      <td>82036.668711</td>\n",
       "      <td>1</td>\n",
       "    </tr>\n",
       "    <tr>\n",
       "      <th>0</th>\n",
       "      <td>44.103827</td>\n",
       "      <td>0.81713</td>\n",
       "      <td>2.182995</td>\n",
       "      <td>0.073621</td>\n",
       "      <td>3</td>\n",
       "      <td>{'n_components': 3}</td>\n",
       "      <td>-2.252220e+05</td>\n",
       "      <td>-2.238945e+05</td>\n",
       "      <td>-2.221163e+05</td>\n",
       "      <td>-2.237443e+05</td>\n",
       "      <td>1272.355670</td>\n",
       "      <td>1</td>\n",
       "    </tr>\n",
       "  </tbody>\n",
       "</table>\n",
       "</div>"
      ],
      "text/plain": [
       "    mean_fit_time  std_fit_time  mean_score_time  std_score_time  \\\n",
       "13      61.131920       0.98625         2.926447        0.029464   \n",
       "0       44.103827       0.81713         2.182995        0.073621   \n",
       "\n",
       "   param_n_components                params  split0_test_score  \\\n",
       "13                 16  {'n_components': 16}      -2.378221e+06   \n",
       "0                   3   {'n_components': 3}      -2.252220e+05   \n",
       "\n",
       "    split1_test_score  split2_test_score  mean_test_score  std_test_score  \\\n",
       "13      -2.461627e+06      -2.261597e+06    -2.367148e+06    82036.668711   \n",
       "0       -2.238945e+05      -2.221163e+05    -2.237443e+05     1272.355670   \n",
       "\n",
       "    rank_test_score  \n",
       "13                1  \n",
       "0                 1  "
      ]
     },
     "execution_count": 18,
     "metadata": {},
     "output_type": "execute_result"
    }
   ],
   "source": [
    "resultats[resultats.rank_test_score == 1]"
   ]
  },
  {
   "cell_type": "code",
   "execution_count": 19,
   "metadata": {},
   "outputs": [
    {
     "data": {
      "image/png": "[encoded data removed]",
      "text/plain": [
       "<Figure size 432x288 with 2 Axes>"
      ]
     },
     "metadata": {
      "needs_background": "light"
     },
     "output_type": "display_data"
    }
   ],
   "source": [
    "plt.subplot(121)\n",
    "plt.plot(lda_tf.param_n_components,lda_tf.mean_test_score,label='LDA TF')\n",
    "plt.legend();\n",
    "plt.subplot(122)\n",
    "plt.plot(lda_tf.param_n_components,lda_tfidf.mean_test_score, label='LDA TF-IDF',c='r')\n",
    "plt.legend();\n",
    "plt.tight_layout()"
   ]
  },
  {
   "cell_type": "markdown",
   "metadata": {},
   "source": [
    "---"
   ]
  },
  {
   "cell_type": "markdown",
   "metadata": {},
   "source": [
    "La fonction ci-dessous permet d'afficher les thèmes et les mots associés pour ce thème."
   ]
  },
  {
   "cell_type": "code",
   "execution_count": 38,
   "metadata": {},
   "outputs": [],
   "source": [
    "def topics(vectorizer, model, n_words=10):\n",
    "    keywords = np.array(vectorizer.get_feature_names())\n",
    "    \n",
    "    topic_keywords = []\n",
    "    \n",
    "    for topic_weights in model.components_:\n",
    "        top_keyword_locs = (-topic_weights).argsort()[:n_words]\n",
    "        topic_keywords.append(keywords.take(top_keyword_locs))\n",
    "    \n",
    "    return topic_keywords"
   ]
  },
  {
   "cell_type": "markdown",
   "metadata": {},
   "source": [
    "On spécifie le nombre de thème, le vectorizer pour récupérer le vocabulaire ainsi que l'algorithme."
   ]
  },
  {
   "cell_type": "code",
   "execution_count": 83,
   "metadata": {
    "scrolled": false
   },
   "outputs": [
    {
     "data": {
      "text/html": [
       "<div>\n",
       "<style scoped>\n",
       "    .dataframe tbody tr th:only-of-type {\n",
       "        vertical-align: middle;\n",
       "    }\n",
       "\n",
       "    .dataframe tbody tr th {\n",
       "        vertical-align: top;\n",
       "    }\n",
       "\n",
       "    .dataframe thead th {\n",
       "        text-align: right;\n",
       "    }\n",
       "</style>\n",
       "<table border=\"1\" class=\"dataframe\">\n",
       "  <thead>\n",
       "    <tr style=\"text-align: right;\">\n",
       "      <th></th>\n",
       "      <th>Word 0</th>\n",
       "      <th>Word 1</th>\n",
       "      <th>Word 2</th>\n",
       "      <th>Word 3</th>\n",
       "      <th>Word 4</th>\n",
       "      <th>Word 5</th>\n",
       "      <th>Word 6</th>\n",
       "      <th>Word 7</th>\n",
       "      <th>Word 8</th>\n",
       "      <th>Word 9</th>\n",
       "    </tr>\n",
       "  </thead>\n",
       "  <tbody>\n",
       "    <tr>\n",
       "      <th>Topic 0</th>\n",
       "      <td>police</td>\n",
       "      <td>government</td>\n",
       "      <td>people</td>\n",
       "      <td>report</td>\n",
       "      <td>country</td>\n",
       "      <td>accord</td>\n",
       "      <td>city</td>\n",
       "      <td>u.s.</td>\n",
       "      <td>state</td>\n",
       "      <td>ukraine</td>\n",
       "    </tr>\n",
       "    <tr>\n",
       "      <th>Topic 1</th>\n",
       "      <td>company</td>\n",
       "      <td>facebook</td>\n",
       "      <td>user</td>\n",
       "      <td>twitter</td>\n",
       "      <td>social</td>\n",
       "      <td>google</td>\n",
       "      <td>service</td>\n",
       "      <td>app</td>\n",
       "      <td>new</td>\n",
       "      <td>use</td>\n",
       "    </tr>\n",
       "    <tr>\n",
       "      <th>Topic 2</th>\n",
       "      <td>film</td>\n",
       "      <td>movie</td>\n",
       "      <td>trailer</td>\n",
       "      <td>episode</td>\n",
       "      <td>netflix</td>\n",
       "      <td>character</td>\n",
       "      <td>star</td>\n",
       "      <td>series</td>\n",
       "      <td>disney</td>\n",
       "      <td>premiere</td>\n",
       "    </tr>\n",
       "    <tr>\n",
       "      <th>Topic 3</th>\n",
       "      <td>app</td>\n",
       "      <td>apple</td>\n",
       "      <td>device</td>\n",
       "      <td>iphone</td>\n",
       "      <td>new</td>\n",
       "      <td>phone</td>\n",
       "      <td>use</td>\n",
       "      <td>android</td>\n",
       "      <td>user</td>\n",
       "      <td>samsung</td>\n",
       "    </tr>\n",
       "    <tr>\n",
       "      <th>Topic 4</th>\n",
       "      <td>video</td>\n",
       "      <td>game</td>\n",
       "      <td>like</td>\n",
       "      <td>time</td>\n",
       "      <td>youtube</td>\n",
       "      <td>fan</td>\n",
       "      <td>good</td>\n",
       "      <td>know</td>\n",
       "      <td>love</td>\n",
       "      <td>song</td>\n",
       "    </tr>\n",
       "  </tbody>\n",
       "</table>\n",
       "</div>"
      ],
      "text/plain": [
       "          Word 0      Word 1   Word 2   Word 3   Word 4     Word 5   Word 6  \\\n",
       "Topic 0   police  government   people   report  country     accord     city   \n",
       "Topic 1  company    facebook     user  twitter   social     google  service   \n",
       "Topic 2     film       movie  trailer  episode  netflix  character     star   \n",
       "Topic 3      app       apple   device   iphone      new      phone      use   \n",
       "Topic 4    video        game     like     time  youtube        fan     good   \n",
       "\n",
       "          Word 7  Word 8    Word 9  \n",
       "Topic 0     u.s.   state   ukraine  \n",
       "Topic 1      app     new       use  \n",
       "Topic 2   series  disney  premiere  \n",
       "Topic 3  android    user   samsung  \n",
       "Topic 4     know    love      song  "
      ]
     },
     "execution_count": 83,
     "metadata": {},
     "output_type": "execute_result"
    }
   ],
   "source": [
    "topic_keywords = topics(tfidf_vectorizer, lda2, n_words=10)\n",
    "\n",
    "df_topic_keywords = pd.DataFrame(topic_keywords)\n",
    "\n",
    "df_topic_keywords.columns = ['Word '+ str(i) for i in range(df_topic_keywords.shape[1])]\n",
    "df_topic_keywords.index = ['Topic '+ str(i) for i in range(df_topic_keywords.shape[0])]\n",
    "\n",
    "df_topic_keywords"
   ]
  },
  {
   "cell_type": "code",
   "execution_count": 42,
   "metadata": {},
   "outputs": [],
   "source": [
    "lda2_topics = {\"0\":\"Politics and diplomacy\", \n",
    " \"1\":\"Internet and social media\",\n",
    " \"2\":\"Videos and movies\",\n",
    "\"3\":\"Telecomunication devices\",\n",
    "'4':\"Entertainment\"}"
   ]
  },
  {
   "cell_type": "code",
   "execution_count": 84,
   "metadata": {
    "scrolled": false
   },
   "outputs": [
    {
     "data": {
      "text/html": [
       "<div>\n",
       "<style scoped>\n",
       "    .dataframe tbody tr th:only-of-type {\n",
       "        vertical-align: middle;\n",
       "    }\n",
       "\n",
       "    .dataframe tbody tr th {\n",
       "        vertical-align: top;\n",
       "    }\n",
       "\n",
       "    .dataframe thead th {\n",
       "        text-align: right;\n",
       "    }\n",
       "</style>\n",
       "<table border=\"1\" class=\"dataframe\">\n",
       "  <thead>\n",
       "    <tr style=\"text-align: right;\">\n",
       "      <th></th>\n",
       "      <th>Word 0</th>\n",
       "      <th>Word 1</th>\n",
       "      <th>Word 2</th>\n",
       "      <th>Word 3</th>\n",
       "      <th>Word 4</th>\n",
       "      <th>Word 5</th>\n",
       "      <th>Word 6</th>\n",
       "      <th>Word 7</th>\n",
       "      <th>Word 8</th>\n",
       "      <th>Word 9</th>\n",
       "    </tr>\n",
       "  </thead>\n",
       "  <tbody>\n",
       "    <tr>\n",
       "      <th>Topic 0</th>\n",
       "      <td>like</td>\n",
       "      <td>time</td>\n",
       "      <td>people</td>\n",
       "      <td>know</td>\n",
       "      <td>think</td>\n",
       "      <td>want</td>\n",
       "      <td>work</td>\n",
       "      <td>way</td>\n",
       "      <td>thing</td>\n",
       "      <td>good</td>\n",
       "    </tr>\n",
       "    <tr>\n",
       "      <th>Topic 1</th>\n",
       "      <td>child</td>\n",
       "      <td>age</td>\n",
       "      <td>mother</td>\n",
       "      <td>number</td>\n",
       "      <td>job</td>\n",
       "      <td>mom</td>\n",
       "      <td>thing</td>\n",
       "      <td>like</td>\n",
       "      <td>good</td>\n",
       "      <td>moment</td>\n",
       "    </tr>\n",
       "    <tr>\n",
       "      <th>Topic 2</th>\n",
       "      <td>app</td>\n",
       "      <td>ios</td>\n",
       "      <td>user</td>\n",
       "      <td>android</td>\n",
       "      <td>new</td>\n",
       "      <td>free</td>\n",
       "      <td>update</td>\n",
       "      <td>available</td>\n",
       "      <td>mobile</td>\n",
       "      <td>feature</td>\n",
       "    </tr>\n",
       "    <tr>\n",
       "      <th>Topic 3</th>\n",
       "      <td>use</td>\n",
       "      <td>user</td>\n",
       "      <td>site</td>\n",
       "      <td>create</td>\n",
       "      <td>file</td>\n",
       "      <td>email</td>\n",
       "      <td>web</td>\n",
       "      <td>design</td>\n",
       "      <td>allow</td>\n",
       "      <td>work</td>\n",
       "    </tr>\n",
       "    <tr>\n",
       "      <th>Topic 4</th>\n",
       "      <td>game</td>\n",
       "      <td>play</td>\n",
       "      <td>player</td>\n",
       "      <td>new</td>\n",
       "      <td>fan</td>\n",
       "      <td>character</td>\n",
       "      <td>world</td>\n",
       "      <td>time</td>\n",
       "      <td>team</td>\n",
       "      <td>console</td>\n",
       "    </tr>\n",
       "    <tr>\n",
       "      <th>Topic 5</th>\n",
       "      <td>apple</td>\n",
       "      <td>iphone</td>\n",
       "      <td>new</td>\n",
       "      <td>event</td>\n",
       "      <td>california</td>\n",
       "      <td>ipad</td>\n",
       "      <td>ios</td>\n",
       "      <td>tim cook</td>\n",
       "      <td>product</td>\n",
       "      <td>san francisco</td>\n",
       "    </tr>\n",
       "    <tr>\n",
       "      <th>Topic 6</th>\n",
       "      <td>u.s.</td>\n",
       "      <td>report</td>\n",
       "      <td>country</td>\n",
       "      <td>accord</td>\n",
       "      <td>president</td>\n",
       "      <td>state</td>\n",
       "      <td>people</td>\n",
       "      <td>government</td>\n",
       "      <td>official</td>\n",
       "      <td>russia</td>\n",
       "    </tr>\n",
       "    <tr>\n",
       "      <th>Topic 7</th>\n",
       "      <td>twitter</td>\n",
       "      <td>tweet</td>\n",
       "      <td>social</td>\n",
       "      <td>account</td>\n",
       "      <td>medium</td>\n",
       "      <td>user</td>\n",
       "      <td>follow</td>\n",
       "      <td>new</td>\n",
       "      <td>news</td>\n",
       "      <td>post</td>\n",
       "    </tr>\n",
       "    <tr>\n",
       "      <th>Topic 8</th>\n",
       "      <td>facebook</td>\n",
       "      <td>user</td>\n",
       "      <td>social</td>\n",
       "      <td>post</td>\n",
       "      <td>friend</td>\n",
       "      <td>people</td>\n",
       "      <td>page</td>\n",
       "      <td>like</td>\n",
       "      <td>network</td>\n",
       "      <td>share</td>\n",
       "    </tr>\n",
       "    <tr>\n",
       "      <th>Topic 9</th>\n",
       "      <td>phone</td>\n",
       "      <td>device</td>\n",
       "      <td>screen</td>\n",
       "      <td>new</td>\n",
       "      <td>tablet</td>\n",
       "      <td>camera</td>\n",
       "      <td>smartphone</td>\n",
       "      <td>samsung</td>\n",
       "      <td>display</td>\n",
       "      <td>design</td>\n",
       "    </tr>\n",
       "    <tr>\n",
       "      <th>Topic 10</th>\n",
       "      <td>video</td>\n",
       "      <td>youtube</td>\n",
       "      <td>vine</td>\n",
       "      <td>music</td>\n",
       "      <td>new</td>\n",
       "      <td>share</td>\n",
       "      <td>song</td>\n",
       "      <td>view</td>\n",
       "      <td>watch</td>\n",
       "      <td>release</td>\n",
       "    </tr>\n",
       "    <tr>\n",
       "      <th>Topic 11</th>\n",
       "      <td>team</td>\n",
       "      <td>final</td>\n",
       "      <td>score</td>\n",
       "      <td>look</td>\n",
       "      <td>kit</td>\n",
       "      <td>home</td>\n",
       "      <td>away</td>\n",
       "      <td>brazil</td>\n",
       "      <td>win</td>\n",
       "      <td>white</td>\n",
       "    </tr>\n",
       "    <tr>\n",
       "      <th>Topic 12</th>\n",
       "      <td>use</td>\n",
       "      <td>guest</td>\n",
       "      <td>light</td>\n",
       "      <td>photograph</td>\n",
       "      <td>look</td>\n",
       "      <td>instagram</td>\n",
       "      <td>shot</td>\n",
       "      <td>shoot</td>\n",
       "      <td>like</td>\n",
       "      <td>subject</td>\n",
       "    </tr>\n",
       "    <tr>\n",
       "      <th>Topic 13</th>\n",
       "      <td>police</td>\n",
       "      <td>protester</td>\n",
       "      <td>government</td>\n",
       "      <td>ukraine</td>\n",
       "      <td>protest</td>\n",
       "      <td>clash</td>\n",
       "      <td>officer</td>\n",
       "      <td>anti</td>\n",
       "      <td>street</td>\n",
       "      <td>ukrainian</td>\n",
       "    </tr>\n",
       "    <tr>\n",
       "      <th>Topic 14</th>\n",
       "      <td>company</td>\n",
       "      <td>work</td>\n",
       "      <td>job</td>\n",
       "      <td>business</td>\n",
       "      <td>product</td>\n",
       "      <td>new</td>\n",
       "      <td>startup</td>\n",
       "      <td>employee</td>\n",
       "      <td>service</td>\n",
       "      <td>help</td>\n",
       "    </tr>\n",
       "    <tr>\n",
       "      <th>Topic 15</th>\n",
       "      <td>google</td>\n",
       "      <td>search</td>\n",
       "      <td>glass</td>\n",
       "      <td>user</td>\n",
       "      <td>android</td>\n",
       "      <td>company</td>\n",
       "      <td>reader</td>\n",
       "      <td>service</td>\n",
       "      <td>google+</td>\n",
       "      <td>google glass</td>\n",
       "    </tr>\n",
       "  </tbody>\n",
       "</table>\n",
       "</div>"
      ],
      "text/plain": [
       "            Word 0     Word 1      Word 2      Word 3      Word 4     Word 5  \\\n",
       "Topic 0       like       time      people        know       think       want   \n",
       "Topic 1      child        age      mother      number         job        mom   \n",
       "Topic 2        app        ios        user     android         new       free   \n",
       "Topic 3        use       user        site      create        file      email   \n",
       "Topic 4       game       play      player         new         fan  character   \n",
       "Topic 5      apple     iphone         new       event  california       ipad   \n",
       "Topic 6       u.s.     report     country      accord   president      state   \n",
       "Topic 7    twitter      tweet      social     account      medium       user   \n",
       "Topic 8   facebook       user      social        post      friend     people   \n",
       "Topic 9      phone     device      screen         new      tablet     camera   \n",
       "Topic 10     video    youtube        vine       music         new      share   \n",
       "Topic 11      team      final       score        look         kit       home   \n",
       "Topic 12       use      guest       light  photograph        look  instagram   \n",
       "Topic 13    police  protester  government     ukraine     protest      clash   \n",
       "Topic 14   company       work         job    business     product        new   \n",
       "Topic 15    google     search       glass        user     android    company   \n",
       "\n",
       "              Word 6      Word 7    Word 8         Word 9  \n",
       "Topic 0         work         way     thing           good  \n",
       "Topic 1        thing        like      good         moment  \n",
       "Topic 2       update   available    mobile        feature  \n",
       "Topic 3          web      design     allow           work  \n",
       "Topic 4        world        time      team        console  \n",
       "Topic 5          ios    tim cook   product  san francisco  \n",
       "Topic 6       people  government  official         russia  \n",
       "Topic 7       follow         new      news           post  \n",
       "Topic 8         page        like   network          share  \n",
       "Topic 9   smartphone     samsung   display         design  \n",
       "Topic 10        song        view     watch        release  \n",
       "Topic 11        away      brazil       win          white  \n",
       "Topic 12        shot       shoot      like        subject  \n",
       "Topic 13     officer        anti    street      ukrainian  \n",
       "Topic 14     startup    employee   service           help  \n",
       "Topic 15      reader     service   google+   google glass  "
      ]
     },
     "execution_count": 84,
     "metadata": {},
     "output_type": "execute_result"
    }
   ],
   "source": [
    "topic_keywords = topics(tfidf_vectorizer, nmf, n_words=10)\n",
    "\n",
    "df_topic_keywords2 = pd.DataFrame(topic_keywords)\n",
    "\n",
    "df_topic_keywords2.columns = ['Word '+str(i) for i in range(df_topic_keywords2.shape[1])]\n",
    "df_topic_keywords2.index = ['Topic '+str(i) for i in range(df_topic_keywords2.shape[0])]\n",
    "\n",
    "df_topic_keywords2"
   ]
  },
  {
   "cell_type": "code",
   "execution_count": 123,
   "metadata": {},
   "outputs": [],
   "source": [
    "nmf_topic = {\"0\":\"other\",\n",
    "\"1\":\"family and job\",\n",
    "\"2\":\"devices telecomunication1\",\n",
    "\"3\":\"web\",\n",
    "\"4\":\"sport and gaming1\",\n",
    "\"5\":\"apple\",\n",
    "\"6\":\"politics and society1\",\n",
    "\"7\":\"twitter\",\n",
    "\"8\":\"facebook\",\n",
    "\"9\":\"devices telecomunication2\",\n",
    "\"10\":\"musics and videos\",\n",
    "\"11\":\"sport and gaming2\",\n",
    "\"12\":\"photography\",\n",
    "\"13\":\"politics and society2\",\n",
    "\"14\":\"business\",\n",
    "\"15\":\"google\"}"
   ]
  },
  {
   "cell_type": "markdown",
   "metadata": {},
   "source": [
    "### Attribution du thème pour chaque document"
   ]
  },
  {
   "cell_type": "markdown",
   "metadata": {},
   "source": [
    "Mise en place du score de chaque document à la ressemblance d'un thème."
   ]
  },
  {
   "cell_type": "code",
   "execution_count": 118,
   "metadata": {},
   "outputs": [],
   "source": [
    "def color_green(val):\n",
    "    color = \"green\" if val > .1 else \"black\"\n",
    "    return \"color: {col}\".format(col=color)"
   ]
  },
  {
   "cell_type": "code",
   "execution_count": 119,
   "metadata": {},
   "outputs": [],
   "source": [
    "def make_bold(val):\n",
    "    weight = 700 if val > .1 else 400\n",
    "    return \"font-weight: {weight}\".format(weight=weight)"
   ]
  },
  {
   "cell_type": "code",
   "execution_count": 124,
   "metadata": {
    "scrolled": false
   },
   "outputs": [],
   "source": [
    "lda_output = nmf.transform(tf)\n",
    "topicnames = [\"Topic_nmf \" + str(nmf_topic[str(i)]) for i in range(nmf.n_components)]\n",
    "docnames = [i for i in range(len(serie))]\n",
    "\n",
    "\n",
    "df_document_topic = pd.DataFrame(np.round(lda_output, 3), columns=topicnames, index=docnames)\n",
    "\n",
    "dominant_topic = np.argmax(df_document_topic.values, axis=1)\n",
    "df_document_topic[\"dominant_topic\"] = dominant_topic"
   ]
  },
  {
   "cell_type": "code",
   "execution_count": 125,
   "metadata": {},
   "outputs": [
    {
     "data": {
      "text/html": [
       "<div>\n",
       "<style scoped>\n",
       "    .dataframe tbody tr th:only-of-type {\n",
       "        vertical-align: middle;\n",
       "    }\n",
       "\n",
       "    .dataframe tbody tr th {\n",
       "        vertical-align: top;\n",
       "    }\n",
       "\n",
       "    .dataframe thead th {\n",
       "        text-align: right;\n",
       "    }\n",
       "</style>\n",
       "<table border=\"1\" class=\"dataframe\">\n",
       "  <thead>\n",
       "    <tr style=\"text-align: right;\">\n",
       "      <th></th>\n",
       "      <th>Topic_nmf other</th>\n",
       "      <th>Topic_nmf family and job</th>\n",
       "      <th>Topic_nmf devices telecomunication1</th>\n",
       "      <th>Topic_nmf web</th>\n",
       "      <th>Topic_nmf sport and gaming1</th>\n",
       "      <th>Topic_nmf apple</th>\n",
       "      <th>Topic_nmf politics and society1</th>\n",
       "      <th>Topic_nmf twitter</th>\n",
       "      <th>Topic_nmf facebook</th>\n",
       "      <th>Topic_nmf devices telecomunication2</th>\n",
       "      <th>Topic_nmf musics and videos</th>\n",
       "      <th>Topic_nmf sport and gaming2</th>\n",
       "      <th>Topic_nmf photography</th>\n",
       "      <th>Topic_nmf politics and society2</th>\n",
       "      <th>Topic_nmf business</th>\n",
       "      <th>Topic_nmf google</th>\n",
       "      <th>dominant_topic</th>\n",
       "    </tr>\n",
       "  </thead>\n",
       "  <tbody>\n",
       "    <tr>\n",
       "      <th>0</th>\n",
       "      <td>0.004</td>\n",
       "      <td>0.000</td>\n",
       "      <td>0.003</td>\n",
       "      <td>0.000</td>\n",
       "      <td>0.000</td>\n",
       "      <td>0.001</td>\n",
       "      <td>0.000</td>\n",
       "      <td>0.297</td>\n",
       "      <td>0.013</td>\n",
       "      <td>0.026</td>\n",
       "      <td>0.000</td>\n",
       "      <td>0.000</td>\n",
       "      <td>0.021</td>\n",
       "      <td>0.000</td>\n",
       "      <td>0.132</td>\n",
       "      <td>0.003</td>\n",
       "      <td>7</td>\n",
       "    </tr>\n",
       "    <tr>\n",
       "      <th>1</th>\n",
       "      <td>0.000</td>\n",
       "      <td>0.000</td>\n",
       "      <td>0.265</td>\n",
       "      <td>0.000</td>\n",
       "      <td>0.000</td>\n",
       "      <td>0.098</td>\n",
       "      <td>0.000</td>\n",
       "      <td>0.000</td>\n",
       "      <td>0.000</td>\n",
       "      <td>0.000</td>\n",
       "      <td>0.000</td>\n",
       "      <td>0.005</td>\n",
       "      <td>0.000</td>\n",
       "      <td>0.000</td>\n",
       "      <td>0.046</td>\n",
       "      <td>0.000</td>\n",
       "      <td>2</td>\n",
       "    </tr>\n",
       "    <tr>\n",
       "      <th>2</th>\n",
       "      <td>0.027</td>\n",
       "      <td>0.000</td>\n",
       "      <td>0.000</td>\n",
       "      <td>0.006</td>\n",
       "      <td>0.305</td>\n",
       "      <td>0.000</td>\n",
       "      <td>0.060</td>\n",
       "      <td>0.000</td>\n",
       "      <td>0.000</td>\n",
       "      <td>0.000</td>\n",
       "      <td>0.029</td>\n",
       "      <td>0.100</td>\n",
       "      <td>0.020</td>\n",
       "      <td>0.000</td>\n",
       "      <td>0.003</td>\n",
       "      <td>0.000</td>\n",
       "      <td>4</td>\n",
       "    </tr>\n",
       "    <tr>\n",
       "      <th>3</th>\n",
       "      <td>0.058</td>\n",
       "      <td>0.015</td>\n",
       "      <td>0.242</td>\n",
       "      <td>0.000</td>\n",
       "      <td>0.070</td>\n",
       "      <td>0.042</td>\n",
       "      <td>0.010</td>\n",
       "      <td>0.035</td>\n",
       "      <td>0.033</td>\n",
       "      <td>0.424</td>\n",
       "      <td>0.216</td>\n",
       "      <td>0.000</td>\n",
       "      <td>0.000</td>\n",
       "      <td>0.003</td>\n",
       "      <td>0.061</td>\n",
       "      <td>0.000</td>\n",
       "      <td>9</td>\n",
       "    </tr>\n",
       "    <tr>\n",
       "      <th>4</th>\n",
       "      <td>0.000</td>\n",
       "      <td>0.000</td>\n",
       "      <td>0.061</td>\n",
       "      <td>0.000</td>\n",
       "      <td>0.056</td>\n",
       "      <td>0.022</td>\n",
       "      <td>0.000</td>\n",
       "      <td>0.000</td>\n",
       "      <td>0.000</td>\n",
       "      <td>0.197</td>\n",
       "      <td>0.034</td>\n",
       "      <td>0.000</td>\n",
       "      <td>0.000</td>\n",
       "      <td>0.005</td>\n",
       "      <td>0.104</td>\n",
       "      <td>0.026</td>\n",
       "      <td>9</td>\n",
       "    </tr>\n",
       "    <tr>\n",
       "      <th>...</th>\n",
       "      <td>...</td>\n",
       "      <td>...</td>\n",
       "      <td>...</td>\n",
       "      <td>...</td>\n",
       "      <td>...</td>\n",
       "      <td>...</td>\n",
       "      <td>...</td>\n",
       "      <td>...</td>\n",
       "      <td>...</td>\n",
       "      <td>...</td>\n",
       "      <td>...</td>\n",
       "      <td>...</td>\n",
       "      <td>...</td>\n",
       "      <td>...</td>\n",
       "      <td>...</td>\n",
       "      <td>...</td>\n",
       "      <td>...</td>\n",
       "    </tr>\n",
       "    <tr>\n",
       "      <th>38400</th>\n",
       "      <td>0.000</td>\n",
       "      <td>0.060</td>\n",
       "      <td>0.237</td>\n",
       "      <td>0.024</td>\n",
       "      <td>0.028</td>\n",
       "      <td>0.000</td>\n",
       "      <td>0.000</td>\n",
       "      <td>0.002</td>\n",
       "      <td>0.010</td>\n",
       "      <td>0.080</td>\n",
       "      <td>0.000</td>\n",
       "      <td>0.020</td>\n",
       "      <td>0.004</td>\n",
       "      <td>0.000</td>\n",
       "      <td>0.012</td>\n",
       "      <td>0.055</td>\n",
       "      <td>2</td>\n",
       "    </tr>\n",
       "    <tr>\n",
       "      <th>38401</th>\n",
       "      <td>0.017</td>\n",
       "      <td>0.000</td>\n",
       "      <td>0.000</td>\n",
       "      <td>0.000</td>\n",
       "      <td>0.000</td>\n",
       "      <td>0.000</td>\n",
       "      <td>0.000</td>\n",
       "      <td>0.069</td>\n",
       "      <td>0.000</td>\n",
       "      <td>0.000</td>\n",
       "      <td>0.045</td>\n",
       "      <td>0.000</td>\n",
       "      <td>0.000</td>\n",
       "      <td>0.001</td>\n",
       "      <td>0.000</td>\n",
       "      <td>0.000</td>\n",
       "      <td>7</td>\n",
       "    </tr>\n",
       "    <tr>\n",
       "      <th>38402</th>\n",
       "      <td>0.007</td>\n",
       "      <td>0.014</td>\n",
       "      <td>0.029</td>\n",
       "      <td>0.000</td>\n",
       "      <td>0.000</td>\n",
       "      <td>0.006</td>\n",
       "      <td>0.003</td>\n",
       "      <td>0.000</td>\n",
       "      <td>0.001</td>\n",
       "      <td>0.000</td>\n",
       "      <td>0.143</td>\n",
       "      <td>0.000</td>\n",
       "      <td>0.004</td>\n",
       "      <td>0.003</td>\n",
       "      <td>0.000</td>\n",
       "      <td>0.000</td>\n",
       "      <td>10</td>\n",
       "    </tr>\n",
       "    <tr>\n",
       "      <th>38403</th>\n",
       "      <td>0.000</td>\n",
       "      <td>0.000</td>\n",
       "      <td>0.000</td>\n",
       "      <td>0.000</td>\n",
       "      <td>0.000</td>\n",
       "      <td>0.000</td>\n",
       "      <td>0.353</td>\n",
       "      <td>0.000</td>\n",
       "      <td>0.032</td>\n",
       "      <td>0.007</td>\n",
       "      <td>0.027</td>\n",
       "      <td>0.009</td>\n",
       "      <td>0.000</td>\n",
       "      <td>0.363</td>\n",
       "      <td>0.000</td>\n",
       "      <td>0.000</td>\n",
       "      <td>13</td>\n",
       "    </tr>\n",
       "    <tr>\n",
       "      <th>38404</th>\n",
       "      <td>0.073</td>\n",
       "      <td>0.023</td>\n",
       "      <td>0.000</td>\n",
       "      <td>0.003</td>\n",
       "      <td>0.000</td>\n",
       "      <td>0.001</td>\n",
       "      <td>0.000</td>\n",
       "      <td>0.000</td>\n",
       "      <td>0.000</td>\n",
       "      <td>0.000</td>\n",
       "      <td>0.345</td>\n",
       "      <td>0.000</td>\n",
       "      <td>0.000</td>\n",
       "      <td>0.000</td>\n",
       "      <td>0.000</td>\n",
       "      <td>0.000</td>\n",
       "      <td>10</td>\n",
       "    </tr>\n",
       "  </tbody>\n",
       "</table>\n",
       "<p>38405 rows × 17 columns</p>\n",
       "</div>"
      ],
      "text/plain": [
       "       Topic_nmf other  Topic_nmf family and job  \\\n",
       "0                0.004                     0.000   \n",
       "1                0.000                     0.000   \n",
       "2                0.027                     0.000   \n",
       "3                0.058                     0.015   \n",
       "4                0.000                     0.000   \n",
       "...                ...                       ...   \n",
       "38400            0.000                     0.060   \n",
       "38401            0.017                     0.000   \n",
       "38402            0.007                     0.014   \n",
       "38403            0.000                     0.000   \n",
       "38404            0.073                     0.023   \n",
       "\n",
       "       Topic_nmf devices telecomunication1  Topic_nmf web  \\\n",
       "0                                    0.003          0.000   \n",
       "1                                    0.265          0.000   \n",
       "2                                    0.000          0.006   \n",
       "3                                    0.242          0.000   \n",
       "4                                    0.061          0.000   \n",
       "...                                    ...            ...   \n",
       "38400                                0.237          0.024   \n",
       "38401                                0.000          0.000   \n",
       "38402                                0.029          0.000   \n",
       "38403                                0.000          0.000   \n",
       "38404                                0.000          0.003   \n",
       "\n",
       "       Topic_nmf sport and gaming1  Topic_nmf apple  \\\n",
       "0                            0.000            0.001   \n",
       "1                            0.000            0.098   \n",
       "2                            0.305            0.000   \n",
       "3                            0.070            0.042   \n",
       "4                            0.056            0.022   \n",
       "...                            ...              ...   \n",
       "38400                        0.028            0.000   \n",
       "38401                        0.000            0.000   \n",
       "38402                        0.000            0.006   \n",
       "38403                        0.000            0.000   \n",
       "38404                        0.000            0.001   \n",
       "\n",
       "       Topic_nmf politics and society1  Topic_nmf twitter  Topic_nmf facebook  \\\n",
       "0                                0.000              0.297               0.013   \n",
       "1                                0.000              0.000               0.000   \n",
       "2                                0.060              0.000               0.000   \n",
       "3                                0.010              0.035               0.033   \n",
       "4                                0.000              0.000               0.000   \n",
       "...                                ...                ...                 ...   \n",
       "38400                            0.000              0.002               0.010   \n",
       "38401                            0.000              0.069               0.000   \n",
       "38402                            0.003              0.000               0.001   \n",
       "38403                            0.353              0.000               0.032   \n",
       "38404                            0.000              0.000               0.000   \n",
       "\n",
       "       Topic_nmf devices telecomunication2  Topic_nmf musics and videos  \\\n",
       "0                                    0.026                        0.000   \n",
       "1                                    0.000                        0.000   \n",
       "2                                    0.000                        0.029   \n",
       "3                                    0.424                        0.216   \n",
       "4                                    0.197                        0.034   \n",
       "...                                    ...                          ...   \n",
       "38400                                0.080                        0.000   \n",
       "38401                                0.000                        0.045   \n",
       "38402                                0.000                        0.143   \n",
       "38403                                0.007                        0.027   \n",
       "38404                                0.000                        0.345   \n",
       "\n",
       "       Topic_nmf sport and gaming2  Topic_nmf photography  \\\n",
       "0                            0.000                  0.021   \n",
       "1                            0.005                  0.000   \n",
       "2                            0.100                  0.020   \n",
       "3                            0.000                  0.000   \n",
       "4                            0.000                  0.000   \n",
       "...                            ...                    ...   \n",
       "38400                        0.020                  0.004   \n",
       "38401                        0.000                  0.000   \n",
       "38402                        0.000                  0.004   \n",
       "38403                        0.009                  0.000   \n",
       "38404                        0.000                  0.000   \n",
       "\n",
       "       Topic_nmf politics and society2  Topic_nmf business  Topic_nmf google  \\\n",
       "0                                0.000               0.132             0.003   \n",
       "1                                0.000               0.046             0.000   \n",
       "2                                0.000               0.003             0.000   \n",
       "3                                0.003               0.061             0.000   \n",
       "4                                0.005               0.104             0.026   \n",
       "...                                ...                 ...               ...   \n",
       "38400                            0.000               0.012             0.055   \n",
       "38401                            0.001               0.000             0.000   \n",
       "38402                            0.003               0.000             0.000   \n",
       "38403                            0.363               0.000             0.000   \n",
       "38404                            0.000               0.000             0.000   \n",
       "\n",
       "       dominant_topic  \n",
       "0                   7  \n",
       "1                   2  \n",
       "2                   4  \n",
       "3                   9  \n",
       "4                   9  \n",
       "...               ...  \n",
       "38400               2  \n",
       "38401               7  \n",
       "38402              10  \n",
       "38403              13  \n",
       "38404              10  \n",
       "\n",
       "[38405 rows x 17 columns]"
      ]
     },
     "execution_count": 125,
     "metadata": {},
     "output_type": "execute_result"
    }
   ],
   "source": [
    "df_document_topic"
   ]
  },
  {
   "cell_type": "code",
   "execution_count": 126,
   "metadata": {},
   "outputs": [],
   "source": [
    "df_document_topic[\"Topic_nmf devices telecomunication\"] = df_document_topic[\"Topic_nmf devices telecomunication1\"] + df_document_topic[\"Topic_nmf devices telecomunication2\"]\n",
    "df_document_topic[\"Topic_nmf politics and society\"] = df_document_topic[\"Topic_nmf politics and society1\"] + df_document_topic[\"Topic_nmf politics and society2\"]\n",
    "df_document_topic[\"Topic_nmf sport and gaming\"] = df_document_topic[\"Topic_nmf sport and gaming1\"] + df_document_topic[\"Topic_nmf sport and gaming2\"]"
   ]
  },
  {
   "cell_type": "code",
   "execution_count": 127,
   "metadata": {},
   "outputs": [],
   "source": [
    "df_document_topic.drop(columns=[\"Topic_nmf devices telecomunication1\", \n",
    "                                \"Topic_nmf devices telecomunication2\",\n",
    "                               \"Topic_nmf politics and society1\",\n",
    "                                \"Topic_nmf politics and society2\",\n",
    "                                \"Topic_nmf sport and gaming1\",\n",
    "                                \"Topic_nmf sport and gaming2\"], inplace=True)"
   ]
  },
  {
   "cell_type": "code",
   "execution_count": 128,
   "metadata": {},
   "outputs": [],
   "source": [
    "nmf_topic = {\"0\":\"other\",\n",
    "\"1\":\"family and job\",\n",
    "\"2\":\"devices telecomunication\",\n",
    "\"3\":\"web\",\n",
    "\"4\":\"sport and gaming\",\n",
    "\"5\":\"apple\",\n",
    "\"6\":\"politics and society\",\n",
    "\"7\":\"twitter\",\n",
    "\"8\":\"facebook\",\n",
    "\"9\":\"devices telecomunication\",\n",
    "\"10\":\"musics and videos\",\n",
    "\"11\":\"sport and gaming\",\n",
    "\"12\":\"photography\",\n",
    "\"13\":\"politics and society\",\n",
    "\"14\":\"business\",\n",
    "\"15\":\"google\"}"
   ]
  },
  {
   "cell_type": "code",
   "execution_count": 129,
   "metadata": {},
   "outputs": [],
   "source": [
    "df_document_topic.dominant_topic = df_document_topic.dominant_topic.apply(lambda x : nmf_topic[str(x)])"
   ]
  },
  {
   "cell_type": "code",
   "execution_count": 130,
   "metadata": {
    "scrolled": false
   },
   "outputs": [
    {
     "data": {
      "text/html": [
       "<div>\n",
       "<style scoped>\n",
       "    .dataframe tbody tr th:only-of-type {\n",
       "        vertical-align: middle;\n",
       "    }\n",
       "\n",
       "    .dataframe tbody tr th {\n",
       "        vertical-align: top;\n",
       "    }\n",
       "\n",
       "    .dataframe thead th {\n",
       "        text-align: right;\n",
       "    }\n",
       "</style>\n",
       "<table border=\"1\" class=\"dataframe\">\n",
       "  <thead>\n",
       "    <tr style=\"text-align: right;\">\n",
       "      <th></th>\n",
       "      <th>Topic_nmf other</th>\n",
       "      <th>Topic_nmf family and job</th>\n",
       "      <th>Topic_nmf web</th>\n",
       "      <th>Topic_nmf apple</th>\n",
       "      <th>Topic_nmf twitter</th>\n",
       "      <th>Topic_nmf facebook</th>\n",
       "      <th>Topic_nmf musics and videos</th>\n",
       "      <th>Topic_nmf photography</th>\n",
       "      <th>Topic_nmf business</th>\n",
       "      <th>Topic_nmf google</th>\n",
       "      <th>dominant_topic</th>\n",
       "      <th>Topic_nmf devices telecomunication</th>\n",
       "      <th>Topic_nmf politics and society</th>\n",
       "      <th>Topic_nmf sport and gaming</th>\n",
       "    </tr>\n",
       "  </thead>\n",
       "  <tbody>\n",
       "    <tr>\n",
       "      <th>0</th>\n",
       "      <td>0.004</td>\n",
       "      <td>0.000</td>\n",
       "      <td>0.000</td>\n",
       "      <td>0.001</td>\n",
       "      <td>0.297</td>\n",
       "      <td>0.013</td>\n",
       "      <td>0.000</td>\n",
       "      <td>0.021</td>\n",
       "      <td>0.132</td>\n",
       "      <td>0.003</td>\n",
       "      <td>twitter</td>\n",
       "      <td>0.029</td>\n",
       "      <td>0.000</td>\n",
       "      <td>0.000</td>\n",
       "    </tr>\n",
       "    <tr>\n",
       "      <th>1</th>\n",
       "      <td>0.000</td>\n",
       "      <td>0.000</td>\n",
       "      <td>0.000</td>\n",
       "      <td>0.098</td>\n",
       "      <td>0.000</td>\n",
       "      <td>0.000</td>\n",
       "      <td>0.000</td>\n",
       "      <td>0.000</td>\n",
       "      <td>0.046</td>\n",
       "      <td>0.000</td>\n",
       "      <td>devices telecomunication</td>\n",
       "      <td>0.265</td>\n",
       "      <td>0.000</td>\n",
       "      <td>0.005</td>\n",
       "    </tr>\n",
       "    <tr>\n",
       "      <th>2</th>\n",
       "      <td>0.027</td>\n",
       "      <td>0.000</td>\n",
       "      <td>0.006</td>\n",
       "      <td>0.000</td>\n",
       "      <td>0.000</td>\n",
       "      <td>0.000</td>\n",
       "      <td>0.029</td>\n",
       "      <td>0.020</td>\n",
       "      <td>0.003</td>\n",
       "      <td>0.000</td>\n",
       "      <td>sport and gaming</td>\n",
       "      <td>0.000</td>\n",
       "      <td>0.060</td>\n",
       "      <td>0.405</td>\n",
       "    </tr>\n",
       "    <tr>\n",
       "      <th>3</th>\n",
       "      <td>0.058</td>\n",
       "      <td>0.015</td>\n",
       "      <td>0.000</td>\n",
       "      <td>0.042</td>\n",
       "      <td>0.035</td>\n",
       "      <td>0.033</td>\n",
       "      <td>0.216</td>\n",
       "      <td>0.000</td>\n",
       "      <td>0.061</td>\n",
       "      <td>0.000</td>\n",
       "      <td>devices telecomunication</td>\n",
       "      <td>0.666</td>\n",
       "      <td>0.013</td>\n",
       "      <td>0.070</td>\n",
       "    </tr>\n",
       "    <tr>\n",
       "      <th>4</th>\n",
       "      <td>0.000</td>\n",
       "      <td>0.000</td>\n",
       "      <td>0.000</td>\n",
       "      <td>0.022</td>\n",
       "      <td>0.000</td>\n",
       "      <td>0.000</td>\n",
       "      <td>0.034</td>\n",
       "      <td>0.000</td>\n",
       "      <td>0.104</td>\n",
       "      <td>0.026</td>\n",
       "      <td>devices telecomunication</td>\n",
       "      <td>0.258</td>\n",
       "      <td>0.005</td>\n",
       "      <td>0.056</td>\n",
       "    </tr>\n",
       "    <tr>\n",
       "      <th>...</th>\n",
       "      <td>...</td>\n",
       "      <td>...</td>\n",
       "      <td>...</td>\n",
       "      <td>...</td>\n",
       "      <td>...</td>\n",
       "      <td>...</td>\n",
       "      <td>...</td>\n",
       "      <td>...</td>\n",
       "      <td>...</td>\n",
       "      <td>...</td>\n",
       "      <td>...</td>\n",
       "      <td>...</td>\n",
       "      <td>...</td>\n",
       "      <td>...</td>\n",
       "    </tr>\n",
       "    <tr>\n",
       "      <th>38400</th>\n",
       "      <td>0.000</td>\n",
       "      <td>0.060</td>\n",
       "      <td>0.024</td>\n",
       "      <td>0.000</td>\n",
       "      <td>0.002</td>\n",
       "      <td>0.010</td>\n",
       "      <td>0.000</td>\n",
       "      <td>0.004</td>\n",
       "      <td>0.012</td>\n",
       "      <td>0.055</td>\n",
       "      <td>devices telecomunication</td>\n",
       "      <td>0.317</td>\n",
       "      <td>0.000</td>\n",
       "      <td>0.048</td>\n",
       "    </tr>\n",
       "    <tr>\n",
       "      <th>38401</th>\n",
       "      <td>0.017</td>\n",
       "      <td>0.000</td>\n",
       "      <td>0.000</td>\n",
       "      <td>0.000</td>\n",
       "      <td>0.069</td>\n",
       "      <td>0.000</td>\n",
       "      <td>0.045</td>\n",
       "      <td>0.000</td>\n",
       "      <td>0.000</td>\n",
       "      <td>0.000</td>\n",
       "      <td>twitter</td>\n",
       "      <td>0.000</td>\n",
       "      <td>0.001</td>\n",
       "      <td>0.000</td>\n",
       "    </tr>\n",
       "    <tr>\n",
       "      <th>38402</th>\n",
       "      <td>0.007</td>\n",
       "      <td>0.014</td>\n",
       "      <td>0.000</td>\n",
       "      <td>0.006</td>\n",
       "      <td>0.000</td>\n",
       "      <td>0.001</td>\n",
       "      <td>0.143</td>\n",
       "      <td>0.004</td>\n",
       "      <td>0.000</td>\n",
       "      <td>0.000</td>\n",
       "      <td>musics and videos</td>\n",
       "      <td>0.029</td>\n",
       "      <td>0.006</td>\n",
       "      <td>0.000</td>\n",
       "    </tr>\n",
       "    <tr>\n",
       "      <th>38403</th>\n",
       "      <td>0.000</td>\n",
       "      <td>0.000</td>\n",
       "      <td>0.000</td>\n",
       "      <td>0.000</td>\n",
       "      <td>0.000</td>\n",
       "      <td>0.032</td>\n",
       "      <td>0.027</td>\n",
       "      <td>0.000</td>\n",
       "      <td>0.000</td>\n",
       "      <td>0.000</td>\n",
       "      <td>politics and society</td>\n",
       "      <td>0.007</td>\n",
       "      <td>0.716</td>\n",
       "      <td>0.009</td>\n",
       "    </tr>\n",
       "    <tr>\n",
       "      <th>38404</th>\n",
       "      <td>0.073</td>\n",
       "      <td>0.023</td>\n",
       "      <td>0.003</td>\n",
       "      <td>0.001</td>\n",
       "      <td>0.000</td>\n",
       "      <td>0.000</td>\n",
       "      <td>0.345</td>\n",
       "      <td>0.000</td>\n",
       "      <td>0.000</td>\n",
       "      <td>0.000</td>\n",
       "      <td>musics and videos</td>\n",
       "      <td>0.000</td>\n",
       "      <td>0.000</td>\n",
       "      <td>0.000</td>\n",
       "    </tr>\n",
       "  </tbody>\n",
       "</table>\n",
       "<p>38405 rows × 14 columns</p>\n",
       "</div>"
      ],
      "text/plain": [
       "       Topic_nmf other  Topic_nmf family and job  Topic_nmf web  \\\n",
       "0                0.004                     0.000          0.000   \n",
       "1                0.000                     0.000          0.000   \n",
       "2                0.027                     0.000          0.006   \n",
       "3                0.058                     0.015          0.000   \n",
       "4                0.000                     0.000          0.000   \n",
       "...                ...                       ...            ...   \n",
       "38400            0.000                     0.060          0.024   \n",
       "38401            0.017                     0.000          0.000   \n",
       "38402            0.007                     0.014          0.000   \n",
       "38403            0.000                     0.000          0.000   \n",
       "38404            0.073                     0.023          0.003   \n",
       "\n",
       "       Topic_nmf apple  Topic_nmf twitter  Topic_nmf facebook  \\\n",
       "0                0.001              0.297               0.013   \n",
       "1                0.098              0.000               0.000   \n",
       "2                0.000              0.000               0.000   \n",
       "3                0.042              0.035               0.033   \n",
       "4                0.022              0.000               0.000   \n",
       "...                ...                ...                 ...   \n",
       "38400            0.000              0.002               0.010   \n",
       "38401            0.000              0.069               0.000   \n",
       "38402            0.006              0.000               0.001   \n",
       "38403            0.000              0.000               0.032   \n",
       "38404            0.001              0.000               0.000   \n",
       "\n",
       "       Topic_nmf musics and videos  Topic_nmf photography  Topic_nmf business  \\\n",
       "0                            0.000                  0.021               0.132   \n",
       "1                            0.000                  0.000               0.046   \n",
       "2                            0.029                  0.020               0.003   \n",
       "3                            0.216                  0.000               0.061   \n",
       "4                            0.034                  0.000               0.104   \n",
       "...                            ...                    ...                 ...   \n",
       "38400                        0.000                  0.004               0.012   \n",
       "38401                        0.045                  0.000               0.000   \n",
       "38402                        0.143                  0.004               0.000   \n",
       "38403                        0.027                  0.000               0.000   \n",
       "38404                        0.345                  0.000               0.000   \n",
       "\n",
       "       Topic_nmf google            dominant_topic  \\\n",
       "0                 0.003                   twitter   \n",
       "1                 0.000  devices telecomunication   \n",
       "2                 0.000          sport and gaming   \n",
       "3                 0.000  devices telecomunication   \n",
       "4                 0.026  devices telecomunication   \n",
       "...                 ...                       ...   \n",
       "38400             0.055  devices telecomunication   \n",
       "38401             0.000                   twitter   \n",
       "38402             0.000         musics and videos   \n",
       "38403             0.000      politics and society   \n",
       "38404             0.000         musics and videos   \n",
       "\n",
       "       Topic_nmf devices telecomunication  Topic_nmf politics and society  \\\n",
       "0                                   0.029                           0.000   \n",
       "1                                   0.265                           0.000   \n",
       "2                                   0.000                           0.060   \n",
       "3                                   0.666                           0.013   \n",
       "4                                   0.258                           0.005   \n",
       "...                                   ...                             ...   \n",
       "38400                               0.317                           0.000   \n",
       "38401                               0.000                           0.001   \n",
       "38402                               0.029                           0.006   \n",
       "38403                               0.007                           0.716   \n",
       "38404                               0.000                           0.000   \n",
       "\n",
       "       Topic_nmf sport and gaming  \n",
       "0                           0.000  \n",
       "1                           0.005  \n",
       "2                           0.405  \n",
       "3                           0.070  \n",
       "4                           0.056  \n",
       "...                           ...  \n",
       "38400                       0.048  \n",
       "38401                       0.000  \n",
       "38402                       0.000  \n",
       "38403                       0.009  \n",
       "38404                       0.000  \n",
       "\n",
       "[38405 rows x 14 columns]"
      ]
     },
     "execution_count": 130,
     "metadata": {},
     "output_type": "execute_result"
    }
   ],
   "source": [
    "df_document_topic"
   ]
  },
  {
   "cell_type": "code",
   "execution_count": 85,
   "metadata": {},
   "outputs": [
    {
     "data": {
      "text/plain": [
       "\"BeeWi's Smart Toys Put Your Smartphone in Control\""
      ]
     },
     "execution_count": 85,
     "metadata": {},
     "output_type": "execute_result"
    }
   ],
   "source": [
    "df.title[4]"
   ]
  },
  {
   "cell_type": "code",
   "execution_count": 131,
   "metadata": {},
   "outputs": [],
   "source": [
    "lda_output = lda2.transform(tfidf)\n",
    "topicnames = [\"Topic_lda \" + str(lda2_topics[str(i)]) for i in range(lda2.n_components)]\n",
    "docnames = [i for i in range(len(serie))]\n",
    "\n",
    "df_document_topic_lda = pd.DataFrame(np.round(lda_output, 3), columns=topicnames, index=docnames)\n",
    "\n",
    "dominant_topic_lda = np.argmax(df_document_topic_lda.values, axis=1)\n",
    "df_document_topic_lda[\"dominant_topic_lda\"] = dominant_topic_lda"
   ]
  },
  {
   "cell_type": "code",
   "execution_count": 132,
   "metadata": {},
   "outputs": [],
   "source": [
    "df_document_topic_lda.dominant_topic_lda = df_document_topic_lda.dominant_topic_lda.apply(lambda x : lda2_topics[str(x)])"
   ]
  },
  {
   "cell_type": "code",
   "execution_count": 133,
   "metadata": {
    "scrolled": true
   },
   "outputs": [
    {
     "data": {
      "text/html": [
       "<div>\n",
       "<style scoped>\n",
       "    .dataframe tbody tr th:only-of-type {\n",
       "        vertical-align: middle;\n",
       "    }\n",
       "\n",
       "    .dataframe tbody tr th {\n",
       "        vertical-align: top;\n",
       "    }\n",
       "\n",
       "    .dataframe thead th {\n",
       "        text-align: right;\n",
       "    }\n",
       "</style>\n",
       "<table border=\"1\" class=\"dataframe\">\n",
       "  <thead>\n",
       "    <tr style=\"text-align: right;\">\n",
       "      <th></th>\n",
       "      <th>Topic_lda Politics and diplomacy</th>\n",
       "      <th>Topic_lda Internet and social media</th>\n",
       "      <th>Topic_lda Videos and movies</th>\n",
       "      <th>Topic_lda Telecomunication devices</th>\n",
       "      <th>Topic_lda Entertainment</th>\n",
       "      <th>dominant_topic_lda</th>\n",
       "    </tr>\n",
       "  </thead>\n",
       "  <tbody>\n",
       "    <tr>\n",
       "      <th>0</th>\n",
       "      <td>0.024</td>\n",
       "      <td>0.903</td>\n",
       "      <td>0.024</td>\n",
       "      <td>0.025</td>\n",
       "      <td>0.024</td>\n",
       "      <td>Internet and social media</td>\n",
       "    </tr>\n",
       "    <tr>\n",
       "      <th>1</th>\n",
       "      <td>0.033</td>\n",
       "      <td>0.033</td>\n",
       "      <td>0.046</td>\n",
       "      <td>0.855</td>\n",
       "      <td>0.033</td>\n",
       "      <td>Telecomunication devices</td>\n",
       "    </tr>\n",
       "    <tr>\n",
       "      <th>2</th>\n",
       "      <td>0.564</td>\n",
       "      <td>0.023</td>\n",
       "      <td>0.023</td>\n",
       "      <td>0.024</td>\n",
       "      <td>0.365</td>\n",
       "      <td>Politics and diplomacy</td>\n",
       "    </tr>\n",
       "    <tr>\n",
       "      <th>3</th>\n",
       "      <td>0.018</td>\n",
       "      <td>0.022</td>\n",
       "      <td>0.019</td>\n",
       "      <td>0.923</td>\n",
       "      <td>0.018</td>\n",
       "      <td>Telecomunication devices</td>\n",
       "    </tr>\n",
       "    <tr>\n",
       "      <th>4</th>\n",
       "      <td>0.027</td>\n",
       "      <td>0.026</td>\n",
       "      <td>0.025</td>\n",
       "      <td>0.813</td>\n",
       "      <td>0.109</td>\n",
       "      <td>Telecomunication devices</td>\n",
       "    </tr>\n",
       "  </tbody>\n",
       "</table>\n",
       "</div>"
      ],
      "text/plain": [
       "   Topic_lda Politics and diplomacy  Topic_lda Internet and social media  \\\n",
       "0                             0.024                                0.903   \n",
       "1                             0.033                                0.033   \n",
       "2                             0.564                                0.023   \n",
       "3                             0.018                                0.022   \n",
       "4                             0.027                                0.026   \n",
       "\n",
       "   Topic_lda Videos and movies  Topic_lda Telecomunication devices  \\\n",
       "0                        0.024                               0.025   \n",
       "1                        0.046                               0.855   \n",
       "2                        0.023                               0.024   \n",
       "3                        0.019                               0.923   \n",
       "4                        0.025                               0.813   \n",
       "\n",
       "   Topic_lda Entertainment         dominant_topic_lda  \n",
       "0                    0.024  Internet and social media  \n",
       "1                    0.033   Telecomunication devices  \n",
       "2                    0.365     Politics and diplomacy  \n",
       "3                    0.018   Telecomunication devices  \n",
       "4                    0.109   Telecomunication devices  "
      ]
     },
     "execution_count": 133,
     "metadata": {},
     "output_type": "execute_result"
    }
   ],
   "source": [
    "df_document_topic_lda.head()"
   ]
  },
  {
   "cell_type": "code",
   "execution_count": 134,
   "metadata": {},
   "outputs": [],
   "source": [
    "final = pd.concat([df,df_document_topic, df_document_topic_lda], axis=1)"
   ]
  },
  {
   "cell_type": "code",
   "execution_count": 139,
   "metadata": {},
   "outputs": [],
   "source": [
    "final.to_csv('final_topics.csv')"
   ]
  },
  {
   "cell_type": "markdown",
   "metadata": {},
   "source": [
    "## Références"
   ]
  },
  {
   "cell_type": "markdown",
   "metadata": {},
   "source": [
    "https://www.math.univ-toulouse.fr/~besse/Wikistat/pdf/st-m-explo-nmf.pdf"
   ]
  }
 ],
 "metadata": {
  "kernelspec": {
   "display_name": "Python 3",
   "language": "python",
   "name": "python3"
  },
  "language_info": {
   "codemirror_mode": {
    "name": "ipython",
    "version": 3
   },
   "file_extension": ".py",
   "mimetype": "text/x-python",
   "name": "python",
   "nbconvert_exporter": "python",
   "pygments_lexer": "ipython3",
   "version": "3.7.4"
  }
 },
 "nbformat": 4,
 "nbformat_minor": 2
}
