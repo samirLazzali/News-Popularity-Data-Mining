{
 "cells": [
  {
   "cell_type": "markdown",
   "metadata": {},
   "source": [
    "# Data Mining – Cleaning"
   ]
  },
  {
   "cell_type": "markdown",
   "metadata": {},
   "source": [
    "---"
   ]
  },
  {
   "cell_type": "code",
   "execution_count": 1,
   "metadata": {},
   "outputs": [],
   "source": [
    "import pandas as pd\n",
    "import numpy as np\n",
    "import datetime\n",
    "import re"
   ]
  },
  {
   "cell_type": "code",
   "execution_count": 2,
   "metadata": {},
   "outputs": [],
   "source": [
    "df = pd.read_csv(\"data/scraping_full.csv\")"
   ]
  },
  {
   "cell_type": "code",
   "execution_count": 57,
   "metadata": {},
   "outputs": [
    {
     "data": {
      "text/html": [
       "<div>\n",
       "<style scoped>\n",
       "    .dataframe tbody tr th:only-of-type {\n",
       "        vertical-align: middle;\n",
       "    }\n",
       "\n",
       "    .dataframe tbody tr th {\n",
       "        vertical-align: top;\n",
       "    }\n",
       "\n",
       "    .dataframe thead th {\n",
       "        text-align: right;\n",
       "    }\n",
       "</style>\n",
       "<table border=\"1\" class=\"dataframe\">\n",
       "  <thead>\n",
       "    <tr style=\"text-align: right;\">\n",
       "      <th></th>\n",
       "      <th>url</th>\n",
       "      <th>chanel</th>\n",
       "      <th>title</th>\n",
       "      <th>nb_images</th>\n",
       "      <th>author_name</th>\n",
       "      <th>cleaned_article</th>\n",
       "      <th>timedelta</th>\n",
       "      <th>n_tokens_title</th>\n",
       "      <th>n_tokens_content</th>\n",
       "      <th>n_unique_tokens</th>\n",
       "      <th>...</th>\n",
       "      <th>min_positive_polarity</th>\n",
       "      <th>max_positive_polarity</th>\n",
       "      <th>avg_negative_polarity</th>\n",
       "      <th>min_negative_polarity</th>\n",
       "      <th>max_negative_polarity</th>\n",
       "      <th>title_subjectivity</th>\n",
       "      <th>title_sentiment_polarity</th>\n",
       "      <th>abs_title_subjectivity</th>\n",
       "      <th>abs_title_sentiment_polarity</th>\n",
       "      <th>shares</th>\n",
       "    </tr>\n",
       "  </thead>\n",
       "  <tbody>\n",
       "    <tr>\n",
       "      <th>0</th>\n",
       "      <td>http://mashable.com/2013/01/07/ap-samsung-spon...</td>\n",
       "      <td>Business</td>\n",
       "      <td>AP's Twitter to Begin Displaying Sponsored Tweets</td>\n",
       "      <td>1</td>\n",
       "      <td>Seth Fiegerman</td>\n",
       "      <td>The Associated Press is the latest news organ...</td>\n",
       "      <td>731.0</td>\n",
       "      <td>9.0</td>\n",
       "      <td>255.0</td>\n",
       "      <td>0.604743</td>\n",
       "      <td>...</td>\n",
       "      <td>0.033333</td>\n",
       "      <td>0.7</td>\n",
       "      <td>-0.118750</td>\n",
       "      <td>-0.125</td>\n",
       "      <td>-0.100000</td>\n",
       "      <td>0.0</td>\n",
       "      <td>0.0</td>\n",
       "      <td>0.5</td>\n",
       "      <td>0.0</td>\n",
       "      <td>711</td>\n",
       "    </tr>\n",
       "    <tr>\n",
       "      <th>1</th>\n",
       "      <td>http://mashable.com/2013/01/07/apple-40-billio...</td>\n",
       "      <td>Business</td>\n",
       "      <td>Apple's App Store Passes 40 Billion Downloads</td>\n",
       "      <td>1</td>\n",
       "      <td>Seth Fiegerman</td>\n",
       "      <td>It looks like 2012 was a pretty good year for...</td>\n",
       "      <td>731.0</td>\n",
       "      <td>9.0</td>\n",
       "      <td>211.0</td>\n",
       "      <td>0.575130</td>\n",
       "      <td>...</td>\n",
       "      <td>0.100000</td>\n",
       "      <td>1.0</td>\n",
       "      <td>-0.466667</td>\n",
       "      <td>-0.800</td>\n",
       "      <td>-0.133333</td>\n",
       "      <td>0.0</td>\n",
       "      <td>0.0</td>\n",
       "      <td>0.5</td>\n",
       "      <td>0.0</td>\n",
       "      <td>1500</td>\n",
       "    </tr>\n",
       "  </tbody>\n",
       "</table>\n",
       "<p>2 rows × 66 columns</p>\n",
       "</div>"
      ],
      "text/plain": [
       "                                                 url    chanel  \\\n",
       "0  http://mashable.com/2013/01/07/ap-samsung-spon...  Business   \n",
       "1  http://mashable.com/2013/01/07/apple-40-billio...  Business   \n",
       "\n",
       "                                               title nb_images  \\\n",
       "0  AP's Twitter to Begin Displaying Sponsored Tweets         1   \n",
       "1      Apple's App Store Passes 40 Billion Downloads         1   \n",
       "\n",
       "      author_name                                    cleaned_article  \\\n",
       "0  Seth Fiegerman   The Associated Press is the latest news organ...   \n",
       "1  Seth Fiegerman   It looks like 2012 was a pretty good year for...   \n",
       "\n",
       "    timedelta   n_tokens_title   n_tokens_content   n_unique_tokens  ...  \\\n",
       "0       731.0              9.0              255.0          0.604743  ...   \n",
       "1       731.0              9.0              211.0          0.575130  ...   \n",
       "\n",
       "    min_positive_polarity   max_positive_polarity   avg_negative_polarity  \\\n",
       "0                0.033333                     0.7               -0.118750   \n",
       "1                0.100000                     1.0               -0.466667   \n",
       "\n",
       "    min_negative_polarity   max_negative_polarity   title_subjectivity  \\\n",
       "0                  -0.125               -0.100000                  0.0   \n",
       "1                  -0.800               -0.133333                  0.0   \n",
       "\n",
       "    title_sentiment_polarity   abs_title_subjectivity  \\\n",
       "0                        0.0                      0.5   \n",
       "1                        0.0                      0.5   \n",
       "\n",
       "    abs_title_sentiment_polarity   shares  \n",
       "0                            0.0      711  \n",
       "1                            0.0     1500  \n",
       "\n",
       "[2 rows x 66 columns]"
      ]
     },
     "execution_count": 57,
     "metadata": {},
     "output_type": "execute_result"
    }
   ],
   "source": [
    "df.head(2)"
   ]
  },
  {
   "cell_type": "markdown",
   "metadata": {},
   "source": [
    "Le jeu de données possède une analyse en NLP (Natural Langage Processing), toutefois pour notre rapport nous allons en refaire une et comparer ensuite nos résultats avec celui du jeu de données initial."
   ]
  },
  {
   "cell_type": "markdown",
   "metadata": {},
   "source": [
    "### Choix des variables à inclure"
   ]
  },
  {
   "cell_type": "markdown",
   "metadata": {},
   "source": [
    "On récupère les colonnes intéréssantes pour notre analyse (celles qui font partie du site internet et ne relèvent pas de l'analyse NLP)."
   ]
  },
  {
   "cell_type": "code",
   "execution_count": 21,
   "metadata": {
    "scrolled": true
   },
   "outputs": [
    {
     "data": {
      "text/plain": [
       "['url',\n",
       " 'chanel',\n",
       " 'title',\n",
       " 'nb_images',\n",
       " 'author_name',\n",
       " 'cleaned_article',\n",
       " ' timedelta',\n",
       " ' n_tokens_title',\n",
       " ' n_tokens_content',\n",
       " ' n_unique_tokens',\n",
       " ' n_non_stop_words',\n",
       " ' n_non_stop_unique_tokens',\n",
       " ' num_hrefs',\n",
       " ' num_self_hrefs',\n",
       " ' num_imgs',\n",
       " ' num_videos',\n",
       " ' average_token_length',\n",
       " ' num_keywords',\n",
       " ' data_channel_is_lifestyle',\n",
       " ' data_channel_is_entertainment',\n",
       " ' data_channel_is_bus',\n",
       " ' data_channel_is_socmed',\n",
       " ' data_channel_is_tech',\n",
       " ' data_channel_is_world',\n",
       " ' kw_min_min',\n",
       " ' kw_max_min',\n",
       " ' kw_avg_min',\n",
       " ' kw_min_max',\n",
       " ' kw_max_max',\n",
       " ' kw_avg_max',\n",
       " ' kw_min_avg',\n",
       " ' kw_max_avg',\n",
       " ' kw_avg_avg',\n",
       " ' self_reference_min_shares',\n",
       " ' self_reference_max_shares',\n",
       " ' self_reference_avg_sharess',\n",
       " ' weekday_is_monday',\n",
       " ' weekday_is_tuesday',\n",
       " ' weekday_is_wednesday',\n",
       " ' weekday_is_thursday',\n",
       " ' weekday_is_friday',\n",
       " ' weekday_is_saturday',\n",
       " ' weekday_is_sunday',\n",
       " ' is_weekend',\n",
       " ' LDA_00',\n",
       " ' LDA_01',\n",
       " ' LDA_02',\n",
       " ' LDA_03',\n",
       " ' LDA_04',\n",
       " ' global_subjectivity',\n",
       " ' global_sentiment_polarity',\n",
       " ' global_rate_positive_words',\n",
       " ' global_rate_negative_words',\n",
       " ' rate_positive_words',\n",
       " ' rate_negative_words',\n",
       " ' avg_positive_polarity',\n",
       " ' min_positive_polarity',\n",
       " ' max_positive_polarity',\n",
       " ' avg_negative_polarity',\n",
       " ' min_negative_polarity',\n",
       " ' max_negative_polarity',\n",
       " ' title_subjectivity',\n",
       " ' title_sentiment_polarity',\n",
       " ' abs_title_subjectivity',\n",
       " ' abs_title_sentiment_polarity',\n",
       " ' shares']"
      ]
     },
     "execution_count": 21,
     "metadata": {},
     "output_type": "execute_result"
    }
   ],
   "source": [
    "list(df.columns)"
   ]
  },
  {
   "cell_type": "markdown",
   "metadata": {},
   "source": [
    "On récupère donc les variables : `shares`, `titre`, `content`, `num_img`, `num_video`, `num_hrefs`, `timedelta`"
   ]
  },
  {
   "cell_type": "code",
   "execution_count": 21,
   "metadata": {},
   "outputs": [],
   "source": [
    "df_new = df.loc[:,[\"url\", \" shares\", 'cleaned_article','author_name',\n",
    "                   'title', \"nb_images\",' num_videos', \n",
    "                   ' num_hrefs',' timedelta',' num_keywords','chanel']]"
   ]
  },
  {
   "cell_type": "code",
   "execution_count": 23,
   "metadata": {
    "scrolled": false
   },
   "outputs": [
    {
     "data": {
      "text/html": [
       "<div>\n",
       "<style scoped>\n",
       "    .dataframe tbody tr th:only-of-type {\n",
       "        vertical-align: middle;\n",
       "    }\n",
       "\n",
       "    .dataframe tbody tr th {\n",
       "        vertical-align: top;\n",
       "    }\n",
       "\n",
       "    .dataframe thead th {\n",
       "        text-align: right;\n",
       "    }\n",
       "</style>\n",
       "<table border=\"1\" class=\"dataframe\">\n",
       "  <thead>\n",
       "    <tr style=\"text-align: right;\">\n",
       "      <th></th>\n",
       "      <th>url</th>\n",
       "      <th>shares</th>\n",
       "      <th>cleaned_article</th>\n",
       "      <th>author_name</th>\n",
       "      <th>title</th>\n",
       "      <th>nb_images</th>\n",
       "      <th>num_videos</th>\n",
       "      <th>num_hrefs</th>\n",
       "      <th>timedelta</th>\n",
       "      <th>num_keywords</th>\n",
       "      <th>chanel</th>\n",
       "    </tr>\n",
       "  </thead>\n",
       "  <tbody>\n",
       "    <tr>\n",
       "      <th>0</th>\n",
       "      <td>http://mashable.com/2013/01/07/ap-samsung-spon...</td>\n",
       "      <td>711</td>\n",
       "      <td>The Associated Press is the latest news organ...</td>\n",
       "      <td>Seth Fiegerman</td>\n",
       "      <td>AP's Twitter to Begin Displaying Sponsored Tweets</td>\n",
       "      <td>1</td>\n",
       "      <td>0.0</td>\n",
       "      <td>3.0</td>\n",
       "      <td>731.0</td>\n",
       "      <td>4.0</td>\n",
       "      <td>Business</td>\n",
       "    </tr>\n",
       "    <tr>\n",
       "      <th>1</th>\n",
       "      <td>http://mashable.com/2013/01/07/apple-40-billio...</td>\n",
       "      <td>1500</td>\n",
       "      <td>It looks like 2012 was a pretty good year for...</td>\n",
       "      <td>Seth Fiegerman</td>\n",
       "      <td>Apple's App Store Passes 40 Billion Downloads</td>\n",
       "      <td>1</td>\n",
       "      <td>0.0</td>\n",
       "      <td>3.0</td>\n",
       "      <td>731.0</td>\n",
       "      <td>6.0</td>\n",
       "      <td>Business</td>\n",
       "    </tr>\n",
       "    <tr>\n",
       "      <th>2</th>\n",
       "      <td>http://mashable.com/2013/01/07/astronaut-notre...</td>\n",
       "      <td>1200</td>\n",
       "      <td>When it comes to college football, NASA astro...</td>\n",
       "      <td>Tariq Malik</td>\n",
       "      <td>This Astronaut Is Rooting for Notre Dame Tonight</td>\n",
       "      <td>3</td>\n",
       "      <td>0.0</td>\n",
       "      <td>9.0</td>\n",
       "      <td>731.0</td>\n",
       "      <td>7.0</td>\n",
       "      <td>Entertainment</td>\n",
       "    </tr>\n",
       "    <tr>\n",
       "      <th>3</th>\n",
       "      <td>http://mashable.com/2013/01/07/att-u-verse-apps/</td>\n",
       "      <td>505</td>\n",
       "      <td>LAS VEGAS — Sharing photos and videos on your...</td>\n",
       "      <td>Emily Price</td>\n",
       "      <td>New U-Verse Apps Simplify Sharing Photos and V...</td>\n",
       "      <td>20</td>\n",
       "      <td>0.0</td>\n",
       "      <td>19.0</td>\n",
       "      <td>731.0</td>\n",
       "      <td>7.0</td>\n",
       "      <td>Tech</td>\n",
       "    </tr>\n",
       "  </tbody>\n",
       "</table>\n",
       "</div>"
      ],
      "text/plain": [
       "                                                 url   shares  \\\n",
       "0  http://mashable.com/2013/01/07/ap-samsung-spon...      711   \n",
       "1  http://mashable.com/2013/01/07/apple-40-billio...     1500   \n",
       "2  http://mashable.com/2013/01/07/astronaut-notre...     1200   \n",
       "3   http://mashable.com/2013/01/07/att-u-verse-apps/      505   \n",
       "\n",
       "                                     cleaned_article     author_name  \\\n",
       "0   The Associated Press is the latest news organ...  Seth Fiegerman   \n",
       "1   It looks like 2012 was a pretty good year for...  Seth Fiegerman   \n",
       "2   When it comes to college football, NASA astro...     Tariq Malik   \n",
       "3   LAS VEGAS — Sharing photos and videos on your...     Emily Price   \n",
       "\n",
       "                                               title nb_images   num_videos  \\\n",
       "0  AP's Twitter to Begin Displaying Sponsored Tweets         1          0.0   \n",
       "1      Apple's App Store Passes 40 Billion Downloads         1          0.0   \n",
       "2   This Astronaut Is Rooting for Notre Dame Tonight         3          0.0   \n",
       "3  New U-Verse Apps Simplify Sharing Photos and V...        20          0.0   \n",
       "\n",
       "    num_hrefs   timedelta   num_keywords         chanel  \n",
       "0         3.0       731.0            4.0       Business  \n",
       "1         3.0       731.0            6.0       Business  \n",
       "2         9.0       731.0            7.0  Entertainment  \n",
       "3        19.0       731.0            7.0           Tech  "
      ]
     },
     "execution_count": 23,
     "metadata": {},
     "output_type": "execute_result"
    }
   ],
   "source": [
    "df_new.head(4)"
   ]
  },
  {
   "cell_type": "markdown",
   "metadata": {},
   "source": [
    "### Gestion des valeurs manquantes"
   ]
  },
  {
   "cell_type": "markdown",
   "metadata": {},
   "source": [
    "Les valeurs manquantes étaient en `string`, on les remet en None"
   ]
  },
  {
   "cell_type": "code",
   "execution_count": 28,
   "metadata": {},
   "outputs": [],
   "source": [
    "df_new = df_new.replace({'None': None})"
   ]
  },
  {
   "cell_type": "markdown",
   "metadata": {},
   "source": [
    "Le nombre de valeurs manquantes pour chaque variable"
   ]
  },
  {
   "cell_type": "code",
   "execution_count": 56,
   "metadata": {
    "scrolled": true
   },
   "outputs": [
    {
     "data": {
      "text/plain": [
       "url                0\n",
       " shares            0\n",
       "cleaned_article    0\n",
       "author_name        0\n",
       "title              0\n",
       "nb_images          0\n",
       " num_videos        0\n",
       " num_hrefs         0\n",
       " num_keywords      0\n",
       "chanel             0\n",
       "date               0\n",
       "day                0\n",
       "week               0\n",
       "dtype: int64"
      ]
     },
     "execution_count": 56,
     "metadata": {},
     "output_type": "execute_result"
    }
   ],
   "source": [
    "df_new.isnull().sum()"
   ]
  },
  {
   "cell_type": "markdown",
   "metadata": {},
   "source": [
    "On décide de retirer les observations où il existe des valeurs manquantes. Après une recherche de leur raison on peut en définir plusieurs types : \n",
    "- `The Bad News` signifie que le lien est mort.\n",
    "- Lorsque le titre est collecté mais pas le contenu, c'est que le site ne contient pas de texte dans l'article, ou seulement des images/vidéos.\n",
    "- Lorsque le contenu et le titre est manquant, c'est que la structure de l'article est différente et que le scraping n'a pas pu collecter l'information, ou qu'il s'agit d'un article de nature différente (galerie de photos par exemple)."
   ]
  },
  {
   "cell_type": "code",
   "execution_count": 30,
   "metadata": {},
   "outputs": [],
   "source": [
    "df_new.dropna(inplace=True)"
   ]
  },
  {
   "cell_type": "markdown",
   "metadata": {},
   "source": [
    "On se retrouve avec maintenant 38 405 observations, soit 193 lignes en moins. Cela équivaut à 3% de NA (cela est donc négligeable)."
   ]
  },
  {
   "cell_type": "code",
   "execution_count": 34,
   "metadata": {},
   "outputs": [
    {
     "data": {
      "text/plain": [
       "-1238"
      ]
     },
     "execution_count": 34,
     "metadata": {},
     "output_type": "execute_result"
    }
   ],
   "source": [
    "df_new.shape[0] - df.shape[0]"
   ]
  },
  {
   "cell_type": "code",
   "execution_count": 31,
   "metadata": {
    "scrolled": true
   },
   "outputs": [
    {
     "data": {
      "text/plain": [
       "'3.1%'"
      ]
     },
     "execution_count": 31,
     "metadata": {},
     "output_type": "execute_result"
    }
   ],
   "source": [
    "str(np.round(1 - df_new.shape[0] / df.shape[0],3)*100) + '%'"
   ]
  },
  {
   "cell_type": "markdown",
   "metadata": {},
   "source": [
    "### Observations du jeu de données"
   ]
  },
  {
   "cell_type": "markdown",
   "metadata": {},
   "source": [
    "On regarde les observations de notre nouveau DataFrame : "
   ]
  },
  {
   "cell_type": "code",
   "execution_count": 28,
   "metadata": {},
   "outputs": [],
   "source": [
    "df_new.nb_images = df_new.nb_images.astype(int)"
   ]
  },
  {
   "cell_type": "code",
   "execution_count": 29,
   "metadata": {},
   "outputs": [
    {
     "data": {
      "text/html": [
       "<div>\n",
       "<style scoped>\n",
       "    .dataframe tbody tr th:only-of-type {\n",
       "        vertical-align: middle;\n",
       "    }\n",
       "\n",
       "    .dataframe tbody tr th {\n",
       "        vertical-align: top;\n",
       "    }\n",
       "\n",
       "    .dataframe thead th {\n",
       "        text-align: right;\n",
       "    }\n",
       "</style>\n",
       "<table border=\"1\" class=\"dataframe\">\n",
       "  <thead>\n",
       "    <tr style=\"text-align: right;\">\n",
       "      <th></th>\n",
       "      <th>shares</th>\n",
       "      <th>nb_images</th>\n",
       "      <th>num_videos</th>\n",
       "      <th>num_hrefs</th>\n",
       "      <th>timedelta</th>\n",
       "      <th>num_keywords</th>\n",
       "    </tr>\n",
       "  </thead>\n",
       "  <tbody>\n",
       "    <tr>\n",
       "      <th>count</th>\n",
       "      <td>38405</td>\n",
       "      <td>38405</td>\n",
       "      <td>38405</td>\n",
       "      <td>38405</td>\n",
       "      <td>38405</td>\n",
       "      <td>38405</td>\n",
       "    </tr>\n",
       "    <tr>\n",
       "      <th>mean</th>\n",
       "      <td>3375</td>\n",
       "      <td>5</td>\n",
       "      <td>1</td>\n",
       "      <td>11</td>\n",
       "      <td>354</td>\n",
       "      <td>7</td>\n",
       "    </tr>\n",
       "    <tr>\n",
       "      <th>std</th>\n",
       "      <td>11253</td>\n",
       "      <td>8</td>\n",
       "      <td>4</td>\n",
       "      <td>11</td>\n",
       "      <td>214</td>\n",
       "      <td>2</td>\n",
       "    </tr>\n",
       "    <tr>\n",
       "      <th>min</th>\n",
       "      <td>5</td>\n",
       "      <td>0</td>\n",
       "      <td>0</td>\n",
       "      <td>0</td>\n",
       "      <td>8</td>\n",
       "      <td>1</td>\n",
       "    </tr>\n",
       "    <tr>\n",
       "      <th>25%</th>\n",
       "      <td>946</td>\n",
       "      <td>1</td>\n",
       "      <td>0</td>\n",
       "      <td>4</td>\n",
       "      <td>165</td>\n",
       "      <td>6</td>\n",
       "    </tr>\n",
       "    <tr>\n",
       "      <th>50%</th>\n",
       "      <td>1400</td>\n",
       "      <td>2</td>\n",
       "      <td>0</td>\n",
       "      <td>7</td>\n",
       "      <td>338</td>\n",
       "      <td>7</td>\n",
       "    </tr>\n",
       "    <tr>\n",
       "      <th>75%</th>\n",
       "      <td>2800</td>\n",
       "      <td>6</td>\n",
       "      <td>1</td>\n",
       "      <td>14</td>\n",
       "      <td>542</td>\n",
       "      <td>9</td>\n",
       "    </tr>\n",
       "    <tr>\n",
       "      <th>max</th>\n",
       "      <td>843300</td>\n",
       "      <td>128</td>\n",
       "      <td>91</td>\n",
       "      <td>304</td>\n",
       "      <td>731</td>\n",
       "      <td>10</td>\n",
       "    </tr>\n",
       "  </tbody>\n",
       "</table>\n",
       "</div>"
      ],
      "text/plain": [
       "        shares  nb_images   num_videos   num_hrefs   timedelta   num_keywords\n",
       "count    38405      38405        38405       38405       38405          38405\n",
       "mean      3375          5            1          11         354              7\n",
       "std      11253          8            4          11         214              2\n",
       "min          5          0            0           0           8              1\n",
       "25%        946          1            0           4         165              6\n",
       "50%       1400          2            0           7         338              7\n",
       "75%       2800          6            1          14         542              9\n",
       "max     843300        128           91         304         731             10"
      ]
     },
     "execution_count": 29,
     "metadata": {},
     "output_type": "execute_result"
    }
   ],
   "source": [
    "pd.options.display.float_format = '{:.0f}'.format\n",
    "\n",
    "df_new.describe()"
   ]
  },
  {
   "cell_type": "markdown",
   "metadata": {},
   "source": [
    "On peut voir que le nombre de partage varie entre 1 et 843 300. Pour le cas des dates, elles sont affichés en nombre de jours de différence par rapport à la date d'obtention du jeu de données. On peut donc les transformer en date dès que l'on sait la date d'un article."
   ]
  },
  {
   "cell_type": "markdown",
   "metadata": {},
   "source": [
    "### Parsing des dates"
   ]
  },
  {
   "cell_type": "markdown",
   "metadata": {},
   "source": [
    "On peut remarquer que la date de l'article est inclut dans le lien. Pour éviter les erreurs de dates en les calculant par rapport à une autre (ce qui était le cas après vérification), on peut donc directement récuperer celle-ci à partir d'une regex. On peut donc obtenir le jour de la semaine (Lundi, mardi, etc.) et inclure une variable binaire s'il s'agit d'un jour en semaine, ou du week-end."
   ]
  },
  {
   "cell_type": "code",
   "execution_count": 42,
   "metadata": {},
   "outputs": [],
   "source": [
    "def find_date(url):\n",
    "    regex = re.findall('.com/([/0-9]*)/',url)[0]\n",
    "    date = pd.to_datetime(regex)\n",
    "    day = date.day_name()\n",
    "    if day == \"Saturday\" or day == \"Sunday\" :\n",
    "        week = 1\n",
    "    else : \n",
    "        week = 0\n",
    "    return pd.Series([date,day,week]) "
   ]
  },
  {
   "cell_type": "code",
   "execution_count": 43,
   "metadata": {},
   "outputs": [],
   "source": [
    "df_new[[\"date\",'day','week']] = df_new.url.apply(lambda x : find_date(x))"
   ]
  },
  {
   "cell_type": "code",
   "execution_count": 44,
   "metadata": {},
   "outputs": [],
   "source": [
    "df_new = df_new.drop(columns=[\" timedelta\"])"
   ]
  },
  {
   "cell_type": "code",
   "execution_count": 55,
   "metadata": {},
   "outputs": [
    {
     "data": {
      "text/html": [
       "<div>\n",
       "<style scoped>\n",
       "    .dataframe tbody tr th:only-of-type {\n",
       "        vertical-align: middle;\n",
       "    }\n",
       "\n",
       "    .dataframe tbody tr th {\n",
       "        vertical-align: top;\n",
       "    }\n",
       "\n",
       "    .dataframe thead th {\n",
       "        text-align: right;\n",
       "    }\n",
       "</style>\n",
       "<table border=\"1\" class=\"dataframe\">\n",
       "  <thead>\n",
       "    <tr style=\"text-align: right;\">\n",
       "      <th></th>\n",
       "      <th>url</th>\n",
       "      <th>shares</th>\n",
       "      <th>cleaned_article</th>\n",
       "      <th>author_name</th>\n",
       "      <th>title</th>\n",
       "      <th>nb_images</th>\n",
       "      <th>num_videos</th>\n",
       "      <th>num_hrefs</th>\n",
       "      <th>num_keywords</th>\n",
       "      <th>chanel</th>\n",
       "      <th>date</th>\n",
       "      <th>day</th>\n",
       "      <th>week</th>\n",
       "    </tr>\n",
       "  </thead>\n",
       "  <tbody>\n",
       "    <tr>\n",
       "      <th>39641</th>\n",
       "      <td>http://mashable.com/2014/12/27/ukraine-blasts/</td>\n",
       "      <td>1100</td>\n",
       "      <td>Ukrainians were on high alert on Saturday aft...</td>\n",
       "      <td>Christopher Miller</td>\n",
       "      <td>Two dead after Ukraine rocked by series of blasts</td>\n",
       "      <td>2</td>\n",
       "      <td>0.0</td>\n",
       "      <td>10.0</td>\n",
       "      <td>5.0</td>\n",
       "      <td>World</td>\n",
       "      <td>2014-12-27</td>\n",
       "      <td>Saturday</td>\n",
       "      <td>1</td>\n",
       "    </tr>\n",
       "    <tr>\n",
       "      <th>39642</th>\n",
       "      <td>http://mashable.com/2014/12/27/youtube-channel...</td>\n",
       "      <td>1300</td>\n",
       "      <td>We collectively watch more than 6 billion hou...</td>\n",
       "      <td>Yohana Desta</td>\n",
       "      <td>8 YouTube channels to watch in 2015</td>\n",
       "      <td>1</td>\n",
       "      <td>2.0</td>\n",
       "      <td>1.0</td>\n",
       "      <td>4.0</td>\n",
       "      <td>Entertainment</td>\n",
       "      <td>2014-12-27</td>\n",
       "      <td>Saturday</td>\n",
       "      <td>1</td>\n",
       "    </tr>\n",
       "  </tbody>\n",
       "</table>\n",
       "</div>"
      ],
      "text/plain": [
       "                                                     url   shares  \\\n",
       "39641     http://mashable.com/2014/12/27/ukraine-blasts/     1100   \n",
       "39642  http://mashable.com/2014/12/27/youtube-channel...     1300   \n",
       "\n",
       "                                         cleaned_article         author_name  \\\n",
       "39641   Ukrainians were on high alert on Saturday aft...  Christopher Miller   \n",
       "39642   We collectively watch more than 6 billion hou...        Yohana Desta   \n",
       "\n",
       "                                                   title nb_images  \\\n",
       "39641  Two dead after Ukraine rocked by series of blasts         2   \n",
       "39642                8 YouTube channels to watch in 2015         1   \n",
       "\n",
       "        num_videos   num_hrefs   num_keywords         chanel       date  \\\n",
       "39641          0.0        10.0            5.0          World 2014-12-27   \n",
       "39642          2.0         1.0            4.0  Entertainment 2014-12-27   \n",
       "\n",
       "            day  week  \n",
       "39641  Saturday     1  \n",
       "39642  Saturday     1  "
      ]
     },
     "execution_count": 55,
     "metadata": {},
     "output_type": "execute_result"
    }
   ],
   "source": [
    "df_new.tail(2)"
   ]
  },
  {
   "cell_type": "markdown",
   "metadata": {},
   "source": [
    "On enregistre le csv des données."
   ]
  },
  {
   "cell_type": "code",
   "execution_count": 17,
   "metadata": {},
   "outputs": [],
   "source": [
    "df_new.to_csv(\"data/data_cleaned.csv\")"
   ]
  }
 ],
 "metadata": {
  "kernelspec": {
   "display_name": "Python 3",
   "language": "python",
   "name": "python3"
  },
  "language_info": {
   "codemirror_mode": {
    "name": "ipython",
    "version": 3
   },
   "file_extension": ".py",
   "mimetype": "text/x-python",
   "name": "python",
   "nbconvert_exporter": "python",
   "pygments_lexer": "ipython3",
   "version": "3.7.4"
  }
 },
 "nbformat": 4,
 "nbformat_minor": 2
}
