{
 "cells": [
  {
   "cell_type": "markdown",
   "metadata": {},
   "source": [
    "L'analyse de sentiments est un ensemble de méthodes permettant de décrire l'attitude ou l'émotion de l'auteur d'un texte, c'est-à-dire si elles sont positives, négatives, neutres, de grande intensité ; ou encore si le texte étudié révèle un fort engagement personnel de l'auteur ou constitue simplement un énoncé factuel.\n",
    "\n",
    "Afin de conduire cette analyse, nous nous appuierons ici sur la librarie TextBlob. Cette dernière offre un accès simple à de nombreuses méthodes de NLP (et notamment l'analyse de sentiments), sur la base des librairies NLTK et Pattern.\n",
    "\n",
    "Ainsi, la fonction TextBlob nous retourne deux métriques : la polarité et la subjectivité.\n",
    "\n",
    "- La polarité retournée appartient à l'intervalle [-1,1]. Une polarité de -1 signifie alors une émotion fortement négative, là où une polarité de 1 signifie une émotion fortement positive, et 0 une neutralité. La polarité nous renseigne alors à la fois sur la nature du sentiment du texte, mais aussi sur l'intensité de ce sentiment.\n",
    "\n",
    "- La subjectivité se situe quant à elle dans l'intervalle [0,1]. Plus ce score est élevé, plus le texte est identifié comme étant constitué d'opinions personnelles, d'émotions ou de jugements, alors qu'une subjectivité faible sera attribuée aux textes se référant à des informations factuelles, sans engagement de l'auteur.\n",
    "\n",
    "Dans ce notebook, il s'agira ainsi d'appliquer ces méthodes de sentiment analysis sur le contenu de nos articles, mais également sur leur titre. Nous pensons en effet qu'à la fois la nature des émotions, leur force et le niveau de subjectivité d'un article et de son titre peuvent avoir un effet significatif sur sa popularité."
   ]
  },
  {
   "cell_type": "code",
   "execution_count": 1,
   "metadata": {},
   "outputs": [],
   "source": [
    "import pandas as pd\n",
    "import numpy as np\n",
    "import matplotlib.pyplot as plt\n",
    "import seaborn as sns\n",
    "\n",
    "\n",
    "import datetime\n",
    "import warnings\n",
    "import re\n",
    "\n",
    "from sklearn.metrics import mean_absolute_error\n",
    "\n",
    "import spacy\n",
    "\n",
    "from textblob import TextBlob\n",
    "\n",
    "warnings.simplefilter(\"ignore\", DeprecationWarning)\n",
    "from IPython.core.interactiveshell import InteractiveShell\n",
    "InteractiveShell.ast_node_interactivity = \"all\""
   ]
  },
  {
   "cell_type": "code",
   "execution_count": 2,
   "metadata": {},
   "outputs": [],
   "source": [
    "df = pd.read_csv(\"final_topics.csv\", index_col=0)\n",
    "df.rename(columns={'cleaned_article': 'content'}, inplace=True)"
   ]
  },
  {
   "cell_type": "markdown",
   "metadata": {},
   "source": [
    "## Sentiment analysis de la BDD initiale (baseline)"
   ]
  },
  {
   "cell_type": "markdown",
   "metadata": {},
   "source": [
    "Tout d'abord, nous étudions la distribution de la polarité et de la subjectivité dans la BDD originale qui nous a inspirés."
   ]
  },
  {
   "cell_type": "code",
   "execution_count": 3,
   "metadata": {},
   "outputs": [],
   "source": [
    "baseline = pd.read_csv('OnlineNewsPopularity.csv')"
   ]
  },
  {
   "cell_type": "markdown",
   "metadata": {},
   "source": [
    "##### Sur le contenu"
   ]
  },
  {
   "cell_type": "markdown",
   "metadata": {},
   "source": [
    "On voit qu'au niveau du contenu, la polarité est assez faible, distribuée normalement autour de 0, avec une variance très faible. Cela irait dans le sens d'articles relativement neutres du point de vue des émotions.\n",
    "\n",
    "Au niveau de la subjectivité en revanche, la distribution est plutôt étalée à gauche avec une grande partie des valeurs située entre 0.3 et 0.5, signifiant un nombre d'articles relatant des faits plus élevé que des articles plus personnels. Cependant, on est tout de même à des niveaux de subjectivité différents de 0. On est donc loin de l'idée d'articles purement factuels."
   ]
  },
  {
   "cell_type": "code",
   "execution_count": 4,
   "metadata": {},
   "outputs": [
    {
     "data": {
      "text/plain": [
       "<matplotlib.axes._subplots.AxesSubplot at 0x28ba9cd6c18>"
      ]
     },
     "execution_count": 4,
     "metadata": {},
     "output_type": "execute_result"
    },
    {
     "data": {
      "text/plain": [
       "Text(0.5, 1.0, 'Polarity from Contents - Baseline')"
      ]
     },
     "execution_count": 4,
     "metadata": {},
     "output_type": "execute_result"
    },
    {
     "data": {
      "image/png": "[encoded data removed]",
      "text/plain": [
       "<Figure size 576x432 with 1 Axes>"
      ]
     },
     "metadata": {
      "needs_background": "light"
     },
     "output_type": "display_data"
    },
    {
     "data": {
      "text/plain": [
       "<matplotlib.axes._subplots.AxesSubplot at 0x28ba9d3cdd8>"
      ]
     },
     "execution_count": 4,
     "metadata": {},
     "output_type": "execute_result"
    },
    {
     "data": {
      "text/plain": [
       "Text(0.5, 1.0, 'Subjectivity from Contents - Baseline')"
      ]
     },
     "execution_count": 4,
     "metadata": {},
     "output_type": "execute_result"
    },
    {
     "data": {
      "image/png": "[encoded data removed]",
      "text/plain": [
       "<Figure size 576x432 with 1 Axes>"
      ]
     },
     "metadata": {
      "needs_background": "light"
     },
     "output_type": "display_data"
    }
   ],
   "source": [
    "fig, ax = plt.subplots(figsize=(8, 6))\n",
    "\n",
    "# Plot histogram of the polarity values\n",
    "baseline[' global_sentiment_polarity'].hist(bins=[-1, -0.75, -0.5, -0.25, 0.25, 0.5, 0.75, 1],\n",
    "             ax=ax,\n",
    "             color=\"purple\")\n",
    "\n",
    "plt.title(\"Polarity from Contents - Baseline\")\n",
    "plt.show()\n",
    "\n",
    "fig, ax = plt.subplots(figsize=(8, 6))\n",
    "\n",
    "# Plot histogram of the subjectivity values\n",
    "baseline[' global_subjectivity'].hist(#bins=[-1, -0.75, -0.5, -0.25, 0.25, 0.5, 0.75, 1],#0, 0.1, 0.2, 0.3, 0.4, 0.5, 0.6, 0.7, 0.8, 0.9, 1],\n",
    "             ax=ax,\n",
    "             color=\"purple\")\n",
    "\n",
    "plt.title(\"Subjectivity from Contents - Baseline\")\n",
    "plt.show()"
   ]
  },
  {
   "cell_type": "markdown",
   "metadata": {},
   "source": [
    "##### Sur les titres"
   ]
  },
  {
   "cell_type": "markdown",
   "metadata": {},
   "source": [
    "Au niveau des titres, on a aussi une distribution de la polarité fortement concentrée autour de 0, et peu étalée. On a tout de même un peu plus de valeurs élevées (en valeur absolue) que pour le contenu. Selon nous, cela pourrait témoigner de la nécessité pour un titre d'être plus accrocheur, et de susciter plus d'émotions (positives ou négatives, tant qu'elles sont fortes) pour donner envie de cliquer.\n",
    "\n",
    "Concernant le niveau de subjectivité des titres, c'est beaucoup plus étalé que pour les contenus. En effet, on retrouve un très grand nombre de valeurs nulles, qui témoignent à notre sens de la nécessité pour un titre d'être direct et universel, plutôt que soumis à l'opinion de celui qui l'écrit. Notons aussi que l'étalement pour le reste des classes et ici aussi plus élevé."
   ]
  },
  {
   "cell_type": "code",
   "execution_count": 5,
   "metadata": {},
   "outputs": [
    {
     "data": {
      "text/plain": [
       "<matplotlib.axes._subplots.AxesSubplot at 0x28ba9de7dd8>"
      ]
     },
     "execution_count": 5,
     "metadata": {},
     "output_type": "execute_result"
    },
    {
     "data": {
      "text/plain": [
       "Text(0.5, 1.0, 'Polarity from Titles - Baseline')"
      ]
     },
     "execution_count": 5,
     "metadata": {},
     "output_type": "execute_result"
    },
    {
     "data": {
      "image/png": "[encoded data removed]",
      "text/plain": [
       "<Figure size 576x432 with 1 Axes>"
      ]
     },
     "metadata": {
      "needs_background": "light"
     },
     "output_type": "display_data"
    },
    {
     "data": {
      "text/plain": [
       "<matplotlib.axes._subplots.AxesSubplot at 0x28ba9e9b710>"
      ]
     },
     "execution_count": 5,
     "metadata": {},
     "output_type": "execute_result"
    },
    {
     "data": {
      "text/plain": [
       "Text(0.5, 1.0, 'Subjectivity from Titles - Baseline')"
      ]
     },
     "execution_count": 5,
     "metadata": {},
     "output_type": "execute_result"
    },
    {
     "data": {
      "image/png": "[encoded data removed]",
      "text/plain": [
       "<Figure size 576x432 with 1 Axes>"
      ]
     },
     "metadata": {
      "needs_background": "light"
     },
     "output_type": "display_data"
    }
   ],
   "source": [
    "fig, ax = plt.subplots(figsize=(8, 6))\n",
    "\n",
    "# Plot histogram of the polarity values\n",
    "baseline[' title_sentiment_polarity'].hist(bins=[-1, -0.75, -0.5, -0.25, 0.25, 0.5, 0.75, 1],\n",
    "             ax=ax,\n",
    "             color=\"purple\")\n",
    "\n",
    "plt.title(\"Polarity from Titles - Baseline\")\n",
    "plt.show()\n",
    "\n",
    "fig, ax = plt.subplots(figsize=(8, 6))\n",
    "\n",
    "# Plot histogram of the subjectivity values\n",
    "baseline[' title_subjectivity'].hist(#bins=[-1, -0.75, -0.5, -0.25, 0.25, 0.5, 0.75, 1],#0, 0.1, 0.2, 0.3, 0.4, 0.5, 0.6, 0.7, 0.8, 0.9, 1],\n",
    "             ax=ax,\n",
    "             color=\"purple\")\n",
    "\n",
    "plt.title(\"Subjectivity from Titles - Baseline\")\n",
    "plt.show()"
   ]
  },
  {
   "cell_type": "markdown",
   "metadata": {},
   "source": [
    "## Sentiment analysis sur notre BDD scrappée"
   ]
  },
  {
   "cell_type": "code",
   "execution_count": 6,
   "metadata": {},
   "outputs": [],
   "source": [
    "sp = spacy.load(\"en_core_web_lg\")\n",
    "merge_ents = sp.create_pipe(\"merge_entities\")\n",
    "sp.add_pipe(merge_ents)\n",
    "\n",
    "spacy_stopwords = spacy.lang.en.stop_words.STOP_WORDS\n",
    "\n",
    "add = [\"mashable\", \"image\", \"courtesy\", 'photo', \"say\"]\n",
    "spacy_stopwords.update(add)\n",
    "\n",
    "def hasNumbers(inputString):\n",
    "    return bool(re.search(r'\\d', inputString))\n",
    "\n",
    "def lemma(document, stopwords=spacy.lang.en.stop_words.STOP_WORDS, join=True):  \n",
    "    \n",
    "    select = [word.lemma_.lower() for word in sp(document) \n",
    "              if not hasNumbers(str(word.lemma_))\n",
    "              and word.lemma_ not in [\"-PRON-\"] \n",
    "              and word.lemma_.lower() not in stopwords \n",
    "              and len(word.text) > 2]\n",
    "    \n",
    "    if join :\n",
    "        serie_text = ','.join(select).replace(',', ' ')\n",
    "        return serie_text\n",
    "    else :\n",
    "        return select"
   ]
  },
  {
   "cell_type": "markdown",
   "metadata": {},
   "source": [
    "Au moment de conduire une analyse de sentiments, la question se pose quant au format des données sur lesquelles nous allons travailler : sur données lemmatisées ou non lemmatisées ? Il existe des arguments allant dans le sens de chacune de ces deux options :\n",
    "\n",
    "- Lemmatiser les données : permet de simplifier notre analyse en réduisant le nombre total de mots à considérer, et donc en réduisant le bruit.\n",
    "- Laisser les données telles quelles : la lemmatisation est une étape obligatoire pour de nombreuses tâches de NLP (e.g. topic modeling, word vectors). Cependant, dans une analyse de sentiments, la lemmatisation peut conduire à simplifier outre-mesure des mots et des phrases et donc à rater des éléments clefs qui nous auraient permis de mieux saisir et formaliser le sentiment du texte. Ceci est d'autant plus vrai lorsque le texte est de petite taille (titre d'un article par exemple).\n",
    "\n",
    "Prenons un exemple. Deux phrases ne diffèrent que d'une seule lettre. Si on les lemmatise, on obtient la même phrase :"
   ]
  },
  {
   "cell_type": "code",
   "execution_count": 7,
   "metadata": {},
   "outputs": [
    {
     "name": "stdout",
     "output_type": "stream",
     "text": [
      "\"He hates brocoli\" lemmatisé : hate broccoli\n",
      "\"He hates brocoli\" lemmatisé : hate broccoli\n"
     ]
    }
   ],
   "source": [
    "print('''\"He hates brocoli\" lemmatisé : ''' + lemma('He hates broccoli'))\n",
    "print('''\"He hates brocoli\" lemmatisé : ''' + lemma('He hated broccoli'))"
   ]
  },
  {
   "cell_type": "markdown",
   "metadata": {},
   "source": [
    "Ainsi, si on les lemmatise, les scores seront exactement les mêmes. Cependant, le score de polarité obtenu pour les deux phrases brutes est différent :"
   ]
  },
  {
   "cell_type": "code",
   "execution_count": 8,
   "metadata": {},
   "outputs": [
    {
     "name": "stdout",
     "output_type": "stream",
     "text": [
      "Score de polarité de la première forme (hates) : \n",
      "0.0\n",
      "\n",
      "\n",
      "Score de polarité de la seconde forme (hated) : \n",
      "-0.9\n"
     ]
    }
   ],
   "source": [
    "print(\"Score de polarité de la première forme (hates) : \\n\" + str(TextBlob('He hates broccoli').polarity))\n",
    "print('\\n')\n",
    "print(\"Score de polarité de la seconde forme (hated) : \\n\" + str(TextBlob('He hated broccoli').polarity))"
   ]
  },
  {
   "cell_type": "markdown",
   "metadata": {},
   "source": [
    "La forme avec \"hated\" est jugée fortement négative, alors que celle avec \"hates\" neutre. Le choix de lemmatiser ou non les textes est donc susceptible de modifier nos résultats. Nous nous penchons ici sur ces deux options, et en retiendrons une seule au final."
   ]
  },
  {
   "cell_type": "markdown",
   "metadata": {},
   "source": [
    "## Textes non lemmatisés"
   ]
  },
  {
   "cell_type": "markdown",
   "metadata": {},
   "source": [
    "La librairie TextBlob s'appuie sur deux modules pour conduire ses analyses de sentiments. D'abord, le module PatternAnalyzer (basé sur la librairie pattern), ou alors sur le module NaivesBayesAnalyzer (basé sur la librairie NLTK). Ce dernier ayant été entraîné sur une base de données de critiques de cinéma, nous utiliserons la première option (sélectionnée par défaut) qui est plus générale."
   ]
  },
  {
   "cell_type": "markdown",
   "metadata": {},
   "source": [
    "##### Sur le contenu"
   ]
  },
  {
   "cell_type": "code",
   "execution_count": 9,
   "metadata": {},
   "outputs": [
    {
     "data": {
      "text/html": [
       "<div>\n",
       "<style scoped>\n",
       "    .dataframe tbody tr th:only-of-type {\n",
       "        vertical-align: middle;\n",
       "    }\n",
       "\n",
       "    .dataframe tbody tr th {\n",
       "        vertical-align: top;\n",
       "    }\n",
       "\n",
       "    .dataframe thead th {\n",
       "        text-align: right;\n",
       "    }\n",
       "</style>\n",
       "<table border=\"1\" class=\"dataframe\">\n",
       "  <thead>\n",
       "    <tr style=\"text-align: right;\">\n",
       "      <th></th>\n",
       "      <th>polarity</th>\n",
       "      <th>subjectivity</th>\n",
       "      <th>content</th>\n",
       "    </tr>\n",
       "  </thead>\n",
       "  <tbody>\n",
       "    <tr>\n",
       "      <th>0</th>\n",
       "      <td>0.148948</td>\n",
       "      <td>0.341246</td>\n",
       "      <td>The Associated Press is the latest news organ...</td>\n",
       "    </tr>\n",
       "    <tr>\n",
       "      <th>1</th>\n",
       "      <td>0.323333</td>\n",
       "      <td>0.702222</td>\n",
       "      <td>It looks like 2012 was a pretty good year for...</td>\n",
       "    </tr>\n",
       "    <tr>\n",
       "      <th>2</th>\n",
       "      <td>0.116975</td>\n",
       "      <td>0.421078</td>\n",
       "      <td>When it comes to college football, NASA astro...</td>\n",
       "    </tr>\n",
       "    <tr>\n",
       "      <th>3</th>\n",
       "      <td>0.285637</td>\n",
       "      <td>0.516378</td>\n",
       "      <td>LAS VEGAS — Sharing photos and videos on your...</td>\n",
       "    </tr>\n",
       "    <tr>\n",
       "      <th>4</th>\n",
       "      <td>0.071184</td>\n",
       "      <td>0.437409</td>\n",
       "      <td>LAS VEGAS — RC toys have traded in their bul...</td>\n",
       "    </tr>\n",
       "  </tbody>\n",
       "</table>\n",
       "</div>"
      ],
      "text/plain": [
       "   polarity  subjectivity                                            content\n",
       "0  0.148948      0.341246   The Associated Press is the latest news organ...\n",
       "1  0.323333      0.702222   It looks like 2012 was a pretty good year for...\n",
       "2  0.116975      0.421078   When it comes to college football, NASA astro...\n",
       "3  0.285637      0.516378   LAS VEGAS — Sharing photos and videos on your...\n",
       "4  0.071184      0.437409    LAS VEGAS — RC toys have traded in their bul..."
      ]
     },
     "execution_count": 9,
     "metadata": {},
     "output_type": "execute_result"
    }
   ],
   "source": [
    "# Create textblob objects of the articles\n",
    "sentiment_objects = [TextBlob(content) for content in df.content]\n",
    "# Create list of polarity and subjectivity values\n",
    "sentiment_values = [[content.polarity, content.subjectivity, str(content)] for content in sentiment_objects]\n",
    "# Create dataframe containing the sentiment values and the contents\n",
    "brut_content_sentiment_df = pd.DataFrame(sentiment_values, columns=[\"polarity\", \"subjectivity\", \"content\"], index=df.index)\n",
    "\n",
    "brut_content_sentiment_df.head()"
   ]
  },
  {
   "cell_type": "code",
   "execution_count": 10,
   "metadata": {},
   "outputs": [
    {
     "data": {
      "text/plain": [
       "<matplotlib.axes._subplots.AxesSubplot at 0x28c301603c8>"
      ]
     },
     "execution_count": 10,
     "metadata": {},
     "output_type": "execute_result"
    },
    {
     "data": {
      "text/plain": [
       "Text(0.5, 1.0, 'Polarity from Contents - No lemmatization')"
      ]
     },
     "execution_count": 10,
     "metadata": {},
     "output_type": "execute_result"
    },
    {
     "data": {
      "image/png": "[encoded data removed]",
      "text/plain": [
       "<Figure size 576x432 with 1 Axes>"
      ]
     },
     "metadata": {
      "needs_background": "light"
     },
     "output_type": "display_data"
    },
    {
     "data": {
      "text/plain": [
       "<matplotlib.axes._subplots.AxesSubplot at 0x28c39771f98>"
      ]
     },
     "execution_count": 10,
     "metadata": {},
     "output_type": "execute_result"
    },
    {
     "data": {
      "text/plain": [
       "Text(0.5, 1.0, 'Subjectivity from Contents - No lemmatization')"
      ]
     },
     "execution_count": 10,
     "metadata": {},
     "output_type": "execute_result"
    },
    {
     "data": {
      "image/png": "[encoded data removed]",
      "text/plain": [
       "<Figure size 576x432 with 1 Axes>"
      ]
     },
     "metadata": {
      "needs_background": "light"
     },
     "output_type": "display_data"
    }
   ],
   "source": [
    "fig, ax = plt.subplots(figsize=(8, 6))\n",
    "\n",
    "# Plot histogram of the polarity values\n",
    "brut_content_sentiment_df.polarity.hist(bins=[-1, -0.75, -0.5, -0.25, 0.25, 0.5, 0.75, 1],\n",
    "             ax=ax,\n",
    "             color=\"black\")\n",
    "\n",
    "plt.title(\"Polarity from Contents - No lemmatization\")\n",
    "plt.show()\n",
    "\n",
    "fig, ax = plt.subplots(figsize=(8, 6))\n",
    "\n",
    "# Plot histogram of the subjectivity values\n",
    "brut_content_sentiment_df.subjectivity.hist(#bins=[0, 0.1, 0.2, 0.3, 0.4, 0.5, 0.6, 0.7, 0.8, 0.9, 1],\n",
    "             ax=ax,\n",
    "             color=\"black\")\n",
    "\n",
    "plt.title(\"Subjectivity from Contents - No lemmatization\")\n",
    "plt.show()"
   ]
  },
  {
   "cell_type": "markdown",
   "metadata": {},
   "source": [
    "##### Sur les titres"
   ]
  },
  {
   "cell_type": "code",
   "execution_count": 11,
   "metadata": {},
   "outputs": [
    {
     "data": {
      "text/html": [
       "<div>\n",
       "<style scoped>\n",
       "    .dataframe tbody tr th:only-of-type {\n",
       "        vertical-align: middle;\n",
       "    }\n",
       "\n",
       "    .dataframe tbody tr th {\n",
       "        vertical-align: top;\n",
       "    }\n",
       "\n",
       "    .dataframe thead th {\n",
       "        text-align: right;\n",
       "    }\n",
       "</style>\n",
       "<table border=\"1\" class=\"dataframe\">\n",
       "  <thead>\n",
       "    <tr style=\"text-align: right;\">\n",
       "      <th></th>\n",
       "      <th>polarity</th>\n",
       "      <th>subjectivity</th>\n",
       "      <th>title</th>\n",
       "    </tr>\n",
       "  </thead>\n",
       "  <tbody>\n",
       "    <tr>\n",
       "      <th>0</th>\n",
       "      <td>0.000000</td>\n",
       "      <td>0.000000</td>\n",
       "      <td>AP's Twitter to Begin Displaying Sponsored Tweets</td>\n",
       "    </tr>\n",
       "    <tr>\n",
       "      <th>1</th>\n",
       "      <td>0.000000</td>\n",
       "      <td>0.000000</td>\n",
       "      <td>Apple's App Store Passes 40 Billion Downloads</td>\n",
       "    </tr>\n",
       "    <tr>\n",
       "      <th>2</th>\n",
       "      <td>0.000000</td>\n",
       "      <td>0.000000</td>\n",
       "      <td>This Astronaut Is Rooting for Notre Dame Tonight</td>\n",
       "    </tr>\n",
       "    <tr>\n",
       "      <th>3</th>\n",
       "      <td>0.136364</td>\n",
       "      <td>0.454545</td>\n",
       "      <td>New U-Verse Apps Simplify Sharing Photos and V...</td>\n",
       "    </tr>\n",
       "    <tr>\n",
       "      <th>4</th>\n",
       "      <td>0.214286</td>\n",
       "      <td>0.642857</td>\n",
       "      <td>BeeWi's Smart Toys Put Your Smartphone in Control</td>\n",
       "    </tr>\n",
       "  </tbody>\n",
       "</table>\n",
       "</div>"
      ],
      "text/plain": [
       "   polarity  subjectivity                                              title\n",
       "0  0.000000      0.000000  AP's Twitter to Begin Displaying Sponsored Tweets\n",
       "1  0.000000      0.000000      Apple's App Store Passes 40 Billion Downloads\n",
       "2  0.000000      0.000000   This Astronaut Is Rooting for Notre Dame Tonight\n",
       "3  0.136364      0.454545  New U-Verse Apps Simplify Sharing Photos and V...\n",
       "4  0.214286      0.642857  BeeWi's Smart Toys Put Your Smartphone in Control"
      ]
     },
     "execution_count": 11,
     "metadata": {},
     "output_type": "execute_result"
    }
   ],
   "source": [
    "# Create textblob objects of the titles\n",
    "sentiment_objects = [TextBlob(title) for title in df.title]\n",
    "# Create list of polarity and subjectivity values\n",
    "sentiment_values = [[title.polarity, title.subjectivity, str(title)] for title in sentiment_objects]\n",
    "# Create dataframe containing the sentiment values and the titles\n",
    "brut_title_sentiment_df = pd.DataFrame(sentiment_values, columns=[\"polarity\", \"subjectivity\", \"title\"], index=df.index)\n",
    "\n",
    "brut_title_sentiment_df.head()"
   ]
  },
  {
   "cell_type": "code",
   "execution_count": 12,
   "metadata": {},
   "outputs": [
    {
     "data": {
      "text/plain": [
       "<matplotlib.axes._subplots.AxesSubplot at 0x28c280ad860>"
      ]
     },
     "execution_count": 12,
     "metadata": {},
     "output_type": "execute_result"
    },
    {
     "data": {
      "text/plain": [
       "Text(0.5, 1.0, 'Polarity from Titles - No lemmatization')"
      ]
     },
     "execution_count": 12,
     "metadata": {},
     "output_type": "execute_result"
    },
    {
     "data": {
      "image/png": "[encoded data removed]",
      "text/plain": [
       "<Figure size 576x432 with 1 Axes>"
      ]
     },
     "metadata": {
      "needs_background": "light"
     },
     "output_type": "display_data"
    },
    {
     "data": {
      "text/plain": [
       "<matplotlib.axes._subplots.AxesSubplot at 0x28c280836a0>"
      ]
     },
     "execution_count": 12,
     "metadata": {},
     "output_type": "execute_result"
    },
    {
     "data": {
      "text/plain": [
       "Text(0.5, 1.0, 'Subjectivity from Titles')"
      ]
     },
     "execution_count": 12,
     "metadata": {},
     "output_type": "execute_result"
    },
    {
     "data": {
      "image/png": "[encoded data removed]",
      "text/plain": [
       "<Figure size 576x432 with 1 Axes>"
      ]
     },
     "metadata": {
      "needs_background": "light"
     },
     "output_type": "display_data"
    }
   ],
   "source": [
    "fig, ax = plt.subplots(figsize=(8, 6))\n",
    "\n",
    "# Plot histogram of the polarity values\n",
    "brut_title_sentiment_df.polarity.hist(bins=[-1, -0.75, -0.5, -0.25, 0.25, 0.5, 0.75, 1],\n",
    "             ax=ax,\n",
    "             color=\"black\")\n",
    "\n",
    "plt.title(\"Polarity from Titles - No lemmatization\")\n",
    "plt.show()\n",
    "\n",
    "fig, ax = plt.subplots(figsize=(8, 6))\n",
    "\n",
    "# Plot histogram of the subjectivity values\n",
    "brut_title_sentiment_df.subjectivity.hist(#bins=[0, 0.1, 0.2, 0.3, 0.4, 0.5, 0.6, 0.7, 0.8, 0.9, 1],\n",
    "             ax=ax,\n",
    "             color=\"black\")\n",
    "\n",
    "plt.title(\"Subjectivity from Titles\")\n",
    "plt.show()"
   ]
  },
  {
   "cell_type": "markdown",
   "metadata": {},
   "source": [
    "## Textes lemmatisés et sans stopwords"
   ]
  },
  {
   "cell_type": "markdown",
   "metadata": {},
   "source": [
    "##### Sur le contenu"
   ]
  },
  {
   "cell_type": "code",
   "execution_count": 13,
   "metadata": {},
   "outputs": [
    {
     "name": "stdout",
     "output_type": "stream",
     "text": [
      "Wall time: 1h 15min 11s\n"
     ]
    }
   ],
   "source": [
    "%%time\n",
    "\n",
    "serie = df.content.apply(lambda x : lemma(x,spacy_stopwords))"
   ]
  },
  {
   "cell_type": "code",
   "execution_count": 14,
   "metadata": {},
   "outputs": [],
   "source": [
    "df['lemmatized_article'] = serie"
   ]
  },
  {
   "cell_type": "code",
   "execution_count": 15,
   "metadata": {},
   "outputs": [],
   "source": [
    "# Create textblob objects of the articles\n",
    "sentiment_objects = [TextBlob(content) for content in serie]"
   ]
  },
  {
   "cell_type": "code",
   "execution_count": 16,
   "metadata": {},
   "outputs": [
    {
     "data": {
      "text/html": [
       "<div>\n",
       "<style scoped>\n",
       "    .dataframe tbody tr th:only-of-type {\n",
       "        vertical-align: middle;\n",
       "    }\n",
       "\n",
       "    .dataframe tbody tr th {\n",
       "        vertical-align: top;\n",
       "    }\n",
       "\n",
       "    .dataframe thead th {\n",
       "        text-align: right;\n",
       "    }\n",
       "</style>\n",
       "<table border=\"1\" class=\"dataframe\">\n",
       "  <thead>\n",
       "    <tr style=\"text-align: right;\">\n",
       "      <th></th>\n",
       "      <th>polarity</th>\n",
       "      <th>subjectivity</th>\n",
       "      <th>content</th>\n",
       "    </tr>\n",
       "  </thead>\n",
       "  <tbody>\n",
       "    <tr>\n",
       "      <th>0</th>\n",
       "      <td>0.111785</td>\n",
       "      <td>0.328788</td>\n",
       "      <td>the associated press late news organization ex...</td>\n",
       "    </tr>\n",
       "    <tr>\n",
       "      <th>1</th>\n",
       "      <td>0.245833</td>\n",
       "      <td>0.754861</td>\n",
       "      <td>look like a pretty good year apple app store a...</td>\n",
       "    </tr>\n",
       "    <tr>\n",
       "      <th>2</th>\n",
       "      <td>0.053358</td>\n",
       "      <td>0.411419</td>\n",
       "      <td>come college football nasa astronaut kevin for...</td>\n",
       "    </tr>\n",
       "    <tr>\n",
       "      <th>3</th>\n",
       "      <td>0.177059</td>\n",
       "      <td>0.505221</td>\n",
       "      <td>las vegas share video little easy at&amp;t verse c...</td>\n",
       "    </tr>\n",
       "    <tr>\n",
       "      <th>4</th>\n",
       "      <td>0.075292</td>\n",
       "      <td>0.440638</td>\n",
       "      <td>las vegas toy trade bulky remote control gadge...</td>\n",
       "    </tr>\n",
       "  </tbody>\n",
       "</table>\n",
       "</div>"
      ],
      "text/plain": [
       "   polarity  subjectivity                                            content\n",
       "0  0.111785      0.328788  the associated press late news organization ex...\n",
       "1  0.245833      0.754861  look like a pretty good year apple app store a...\n",
       "2  0.053358      0.411419  come college football nasa astronaut kevin for...\n",
       "3  0.177059      0.505221  las vegas share video little easy at&t verse c...\n",
       "4  0.075292      0.440638  las vegas toy trade bulky remote control gadge..."
      ]
     },
     "execution_count": 16,
     "metadata": {},
     "output_type": "execute_result"
    }
   ],
   "source": [
    "# Create list of polarity and subjectivity values\n",
    "sentiment_values = [[content.polarity, content.subjectivity, str(content)] for content in sentiment_objects]\n",
    "# Create dataframe containing the sentiment values and the contents\n",
    "content_sentiment_df = pd.DataFrame(sentiment_values, columns=[\"polarity\", \"subjectivity\", \"content\"], index=df.index)\n",
    "\n",
    "content_sentiment_df.head()"
   ]
  },
  {
   "cell_type": "markdown",
   "metadata": {},
   "source": [
    "Du point de vue du contenu des articles, les données lemmatisées mènent à une distribution de la polarité très similaire à précédemment. En revanche, concernant la subjectivité, nous retrouvons des niveau plus élevés et plus présents dans la tranche 0.5-0.6 que pour les deux BDD précédentes."
   ]
  },
  {
   "cell_type": "code",
   "execution_count": 17,
   "metadata": {},
   "outputs": [
    {
     "data": {
      "text/plain": [
       "<matplotlib.axes._subplots.AxesSubplot at 0x28ba9e430b8>"
      ]
     },
     "execution_count": 17,
     "metadata": {},
     "output_type": "execute_result"
    },
    {
     "data": {
      "text/plain": [
       "Text(0.5, 1.0, 'Polarity from Contents')"
      ]
     },
     "execution_count": 17,
     "metadata": {},
     "output_type": "execute_result"
    },
    {
     "data": {
      "image/png": "[encoded data removed]",
      "text/plain": [
       "<Figure size 576x432 with 1 Axes>"
      ]
     },
     "metadata": {
      "needs_background": "light"
     },
     "output_type": "display_data"
    },
    {
     "data": {
      "text/plain": [
       "<matplotlib.axes._subplots.AxesSubplot at 0x28c3a09ef28>"
      ]
     },
     "execution_count": 17,
     "metadata": {},
     "output_type": "execute_result"
    },
    {
     "data": {
      "text/plain": [
       "Text(0.5, 1.0, 'Subjectivity from Contents')"
      ]
     },
     "execution_count": 17,
     "metadata": {},
     "output_type": "execute_result"
    },
    {
     "data": {
      "image/png": "[encoded data removed]",
      "text/plain": [
       "<Figure size 576x432 with 1 Axes>"
      ]
     },
     "metadata": {
      "needs_background": "light"
     },
     "output_type": "display_data"
    }
   ],
   "source": [
    "fig, ax = plt.subplots(figsize=(8, 6))\n",
    "\n",
    "# Plot histogram of the polarity values\n",
    "content_sentiment_df.polarity.hist(bins=[-1, -0.75, -0.5, -0.25, 0.25, 0.5, 0.75, 1],\n",
    "             ax=ax,\n",
    "             color=\"black\")\n",
    "\n",
    "plt.title(\"Polarity from Contents\")\n",
    "plt.show()\n",
    "\n",
    "fig, ax = plt.subplots(figsize=(8, 6))\n",
    "\n",
    "# Plot histogram of the subjectivity values\n",
    "content_sentiment_df.subjectivity.hist(#bins=[0, 0.1, 0.2, 0.3, 0.4, 0.5, 0.6, 0.7, 0.8, 0.9, 1],\n",
    "             ax=ax,\n",
    "             color=\"black\")\n",
    "\n",
    "plt.title(\"Subjectivity from Contents\")\n",
    "plt.show()"
   ]
  },
  {
   "cell_type": "markdown",
   "metadata": {},
   "source": [
    "##### Sur les titres"
   ]
  },
  {
   "cell_type": "code",
   "execution_count": 18,
   "metadata": {},
   "outputs": [
    {
     "name": "stdout",
     "output_type": "stream",
     "text": [
      "Wall time: 4min 50s\n"
     ]
    }
   ],
   "source": [
    "%%time\n",
    "\n",
    "serie = df.title.apply(lambda x : lemma(x,spacy_stopwords))"
   ]
  },
  {
   "cell_type": "code",
   "execution_count": 19,
   "metadata": {},
   "outputs": [
    {
     "data": {
      "text/html": [
       "<div>\n",
       "<style scoped>\n",
       "    .dataframe tbody tr th:only-of-type {\n",
       "        vertical-align: middle;\n",
       "    }\n",
       "\n",
       "    .dataframe tbody tr th {\n",
       "        vertical-align: top;\n",
       "    }\n",
       "\n",
       "    .dataframe thead th {\n",
       "        text-align: right;\n",
       "    }\n",
       "</style>\n",
       "<table border=\"1\" class=\"dataframe\">\n",
       "  <thead>\n",
       "    <tr style=\"text-align: right;\">\n",
       "      <th></th>\n",
       "      <th>polarity</th>\n",
       "      <th>subjectivity</th>\n",
       "      <th>title</th>\n",
       "    </tr>\n",
       "  </thead>\n",
       "  <tbody>\n",
       "    <tr>\n",
       "      <th>0</th>\n",
       "      <td>0.000000</td>\n",
       "      <td>0.000000</td>\n",
       "      <td>twitter begin display sponsored tweet</td>\n",
       "    </tr>\n",
       "    <tr>\n",
       "      <th>1</th>\n",
       "      <td>0.000000</td>\n",
       "      <td>0.000000</td>\n",
       "      <td>apple app store pass billion download</td>\n",
       "    </tr>\n",
       "    <tr>\n",
       "      <th>2</th>\n",
       "      <td>0.000000</td>\n",
       "      <td>0.000000</td>\n",
       "      <td>astronaut root notre dame tonight</td>\n",
       "    </tr>\n",
       "    <tr>\n",
       "      <th>3</th>\n",
       "      <td>0.136364</td>\n",
       "      <td>0.454545</td>\n",
       "      <td>new u-verse apps simplify share photos videos</td>\n",
       "    </tr>\n",
       "    <tr>\n",
       "      <th>4</th>\n",
       "      <td>0.214286</td>\n",
       "      <td>0.642857</td>\n",
       "      <td>beewi smart toys smartphone control</td>\n",
       "    </tr>\n",
       "  </tbody>\n",
       "</table>\n",
       "</div>"
      ],
      "text/plain": [
       "   polarity  subjectivity                                          title\n",
       "0  0.000000      0.000000          twitter begin display sponsored tweet\n",
       "1  0.000000      0.000000          apple app store pass billion download\n",
       "2  0.000000      0.000000              astronaut root notre dame tonight\n",
       "3  0.136364      0.454545  new u-verse apps simplify share photos videos\n",
       "4  0.214286      0.642857            beewi smart toys smartphone control"
      ]
     },
     "execution_count": 19,
     "metadata": {},
     "output_type": "execute_result"
    }
   ],
   "source": [
    "# Create textblob objects of the titles\n",
    "sentiment_objects = [TextBlob(title) for title in serie]\n",
    "# Create list of polarity and subjectivity values\n",
    "sentiment_values = [[title.polarity, title.subjectivity, str(title)] for title in sentiment_objects]\n",
    "# Create dataframe containing the sentiment values and the titles\n",
    "title_sentiment_df = pd.DataFrame(sentiment_values, columns=[\"polarity\", \"subjectivity\", \"title\"], index=df.index)\n",
    "\n",
    "title_sentiment_df.head()"
   ]
  },
  {
   "cell_type": "markdown",
   "metadata": {},
   "source": [
    "Du côté des titres, on obtient une distribution de polarité encore une fois similaire, mais une distribution de la subjectivité un peu plus concentrée en 0."
   ]
  },
  {
   "cell_type": "code",
   "execution_count": 20,
   "metadata": {},
   "outputs": [
    {
     "data": {
      "text/plain": [
       "<matplotlib.axes._subplots.AxesSubplot at 0x28c27f51f98>"
      ]
     },
     "execution_count": 20,
     "metadata": {},
     "output_type": "execute_result"
    },
    {
     "data": {
      "text/plain": [
       "Text(0.5, 1.0, 'Polarity from Titles')"
      ]
     },
     "execution_count": 20,
     "metadata": {},
     "output_type": "execute_result"
    },
    {
     "data": {
      "image/png": "[encoded data removed]",
      "text/plain": [
       "<Figure size 576x432 with 1 Axes>"
      ]
     },
     "metadata": {
      "needs_background": "light"
     },
     "output_type": "display_data"
    },
    {
     "data": {
      "text/plain": [
       "<matplotlib.axes._subplots.AxesSubplot at 0x28c2766d5c0>"
      ]
     },
     "execution_count": 20,
     "metadata": {},
     "output_type": "execute_result"
    },
    {
     "data": {
      "text/plain": [
       "Text(0.5, 1.0, 'Subjectivity from Titles')"
      ]
     },
     "execution_count": 20,
     "metadata": {},
     "output_type": "execute_result"
    },
    {
     "data": {
      "image/png": "[encoded data removed]",
      "text/plain": [
       "<Figure size 576x432 with 1 Axes>"
      ]
     },
     "metadata": {
      "needs_background": "light"
     },
     "output_type": "display_data"
    }
   ],
   "source": [
    "fig, ax = plt.subplots(figsize=(8, 6))\n",
    "\n",
    "# Plot histogram of the polarity values\n",
    "title_sentiment_df.polarity.hist(bins=[-1, -0.75, -0.5, -0.25, 0.25, 0.5, 0.75, 1],\n",
    "             ax=ax,\n",
    "             color=\"black\")\n",
    "\n",
    "plt.title(\"Polarity from Titles\")\n",
    "plt.show()\n",
    "\n",
    "fig, ax = plt.subplots(figsize=(8, 6))\n",
    "\n",
    "# Plot histogram of the subjectivity values\n",
    "title_sentiment_df.subjectivity.hist(#bins=[0, 0.1, 0.2, 0.3, 0.4, 0.5, 0.6, 0.7, 0.8, 0.9, 1],\n",
    "             ax=ax,\n",
    "             color=\"black\")\n",
    "\n",
    "plt.title(\"Subjectivity from Titles\")\n",
    "plt.show()"
   ]
  },
  {
   "cell_type": "markdown",
   "metadata": {},
   "source": [
    "Au final, on voit que les résultats d'analyse de sentiments sont relativement proches en distributions entre les trois BDD, bien que les différences se concentrent surtout en termes de subjectivité (plus importantes pour la lemmatisée dans le contenu, et plus faible dans les titres). Aussi, la distribution baseline se rapproche légèrement plus de la distribution des scores via textes bruts que via textes lemmatisés."
   ]
  },
  {
   "cell_type": "markdown",
   "metadata": {},
   "source": [
    "### Comparaison d'échantillons"
   ]
  },
  {
   "cell_type": "code",
   "execution_count": 21,
   "metadata": {},
   "outputs": [],
   "source": [
    "### BDD initiale\n",
    "baseline_content_polarity_df = pd.DataFrame(data={'url': baseline.url, 'title': baseline.titre, 'baseline': baseline[' global_sentiment_polarity']})\n",
    "baseline_content_subjectivity_df =  pd.DataFrame(data={'url': baseline.url, 'title': baseline.titre, 'baseline': baseline[' global_subjectivity']})\n",
    "baseline_title_polarity_df =  pd.DataFrame(data={'url': baseline.url, 'title': baseline.titre, 'baseline': baseline[' title_subjectivity']})                     \n",
    "baseline_title_subjectivity_df =  pd.DataFrame(data={'url': baseline.url, 'title': baseline.titre, 'baseline': baseline[' title_sentiment_polarity']}) \n",
    "### BDD scrappée\n",
    "content_polarity_df = pd.DataFrame(data={'url': df.url, 'title': df.title, 'brut': brut_content_sentiment_df.polarity, 'lemmatized':content_sentiment_df.polarity})\n",
    "content_subjectivity_df =  pd.DataFrame(data={'url': df.url, 'title': df.title, 'brut': brut_content_sentiment_df.subjectivity, 'lemmatized':content_sentiment_df.subjectivity})\n",
    "title_polarity_df =  pd.DataFrame(data={'url': df.url, 'title': df.title, 'brut': brut_title_sentiment_df.polarity, 'lemmatized':title_sentiment_df.polarity})                     \n",
    "title_subjectivity_df =  pd.DataFrame(data={'url': df.url, 'title': df.title, 'brut': brut_title_sentiment_df.subjectivity, 'lemmatized':title_sentiment_df.subjectivity})"
   ]
  },
  {
   "cell_type": "code",
   "execution_count": 22,
   "metadata": {},
   "outputs": [],
   "source": [
    "# Faire matcher les articles et comparer leurs scores\n",
    "initiale = [baseline_content_polarity_df, baseline_content_subjectivity_df, baseline_title_polarity_df, baseline_title_subjectivity_df]\n",
    "liste = [content_polarity_df, content_subjectivity_df, title_polarity_df, title_subjectivity_df]\n",
    "merged = []\n",
    "\n",
    "for ini, lst in zip(initiale, liste):\n",
    "    merged.append(lst.merge(ini, how='inner', left_on=['url', 'title'], right_on=['url', 'title']))"
   ]
  },
  {
   "cell_type": "markdown",
   "metadata": {},
   "source": [
    "#### Polarité du contenu"
   ]
  },
  {
   "cell_type": "code",
   "execution_count": 23,
   "metadata": {},
   "outputs": [
    {
     "name": "stdout",
     "output_type": "stream",
     "text": [
      "\\begin{tabular}{lrrr}\n",
      "\\toprule\n",
      "                                             title &  baseline &      brut &  lemmatized \\\\\n",
      "\\midrule\n",
      " TransAsia Plane Crashes in Taiwan, Killing Dozens &  0.129464 &  0.012626 &   -0.008508 \\\\\n",
      "        The Ultimate Guide to the Best Summer Ever &  0.076035 &  0.284848 &    0.247917 \\\\\n",
      " Google's Contact Lens and Other News You Need ... &  0.120294 &  0.174762 &    0.305291 \\\\\n",
      "   'Addams Family' actor Ken Weatherwax dead at 59 &  0.087268 &  0.047987 &    0.143142 \\\\\n",
      " Amazon Adds More Children's Shows in Expanded ... &  0.145105 &  0.166288 &    0.109479 \\\\\n",
      " 'Wall-E' Inspires Dance Trio Above \\& Beyond's ... &  0.038726 &  0.064332 &    0.039069 \\\\\n",
      "       10 Incredibly Realistic Minecraft Creations &  0.090799 &  0.105303 &    0.061668 \\\\\n",
      " How to Check If Your Adobe Account Was Comprom... &  0.264569 &  0.228121 &    0.202443 \\\\\n",
      " 'You've Been on Your Phone for 160 Minutes Today' &  0.119635 &  0.062731 &   -0.013867 \\\\\n",
      "  Capture Art on the Walls for Our Photo Challenge &  0.310516 &  0.193536 &    0.197772 \\\\\n",
      "\\bottomrule\n",
      "\\end{tabular}\n",
      "\n"
     ]
    }
   ],
   "source": [
    "pol_cont = merged[0].sample(10)[['title', 'baseline', 'brut', 'lemmatized']]\n",
    "print(pol_cont.to_latex(index=False))"
   ]
  },
  {
   "cell_type": "code",
   "execution_count": 24,
   "metadata": {},
   "outputs": [
    {
     "name": "stdout",
     "output_type": "stream",
     "text": [
      "Ecart absolu moyen entre textes brutes et textes lemmatisés :\n",
      "0.0473493720207589\n",
      "\n",
      "\n",
      "Ecart absolu moyen entre textes brutes et textes baseline :\n",
      "0.08495814757868952\n",
      "\n",
      "\n",
      "Ecart absolu moyen entre textes lemmatisés et textes baseline :\n",
      "0.10037842974435306\n"
     ]
    }
   ],
   "source": [
    "print('Ecart absolu moyen entre textes brutes et textes lemmatisés :')\n",
    "print(mean_absolute_error(liste[0].brut, liste[0].lemmatized))\n",
    "print(\"\\n\")\n",
    "print(\"Ecart absolu moyen entre textes brutes et textes baseline :\")\n",
    "print(mean_absolute_error(merged[0].brut, merged[0].baseline))\n",
    "print(\"\\n\")\n",
    "print(\"Ecart absolu moyen entre textes lemmatisés et textes baseline :\")\n",
    "print(mean_absolute_error(merged[0].lemmatized, merged[0].baseline))"
   ]
  },
  {
   "cell_type": "markdown",
   "metadata": {},
   "source": [
    "#### Subjectivité du contenu"
   ]
  },
  {
   "cell_type": "code",
   "execution_count": 25,
   "metadata": {},
   "outputs": [
    {
     "name": "stdout",
     "output_type": "stream",
     "text": [
      "\\begin{tabular}{lrrr}\n",
      "\\toprule\n",
      "                                             title &  baseline &      brut &  lemmatized \\\\\n",
      "\\midrule\n",
      "  Simon \\& Schuster Brings E-Books to NYC Libraries &  0.462294 &  0.462294 &    0.409933 \\\\\n",
      " Pebble to Announce ‘Something Special’ at CES ... &  0.513539 &  0.531210 &    0.490617 \\\\\n",
      "               How the Internet saved 'Doctor Who' &  0.346146 &  0.431719 &    0.494119 \\\\\n",
      "        Samsung to Unveil Galaxy Note 3 on Sept. 4 &  0.487143 &  0.339337 &    0.356126 \\\\\n",
      " 48 Songs to Celebrate Seahawks' Super Bowl Vic... &  0.290306 &  0.564957 &    0.590547 \\\\\n",
      " Vining While Driving: The Deadly Trend Million... &  0.298810 &  0.540670 &    0.573449 \\\\\n",
      " Watch Keanu Reeves Dodge Fire in '47 Ronin' Tr... &  0.372222 &  0.443333 &    0.541667 \\\\\n",
      " March Madness Is the Most Emotional Sporting E... &  0.427560 &  0.426747 &    0.431210 \\\\\n",
      " Hyperactive Sun Fires Off 3 Major Solar Flares... &  0.544628 &  0.551701 &    0.610585 \\\\\n",
      " British Movie Villains Take Center Stage in Ne... &  0.465909 &  0.475454 &    0.447523 \\\\\n",
      "\\bottomrule\n",
      "\\end{tabular}\n",
      "\n"
     ]
    }
   ],
   "source": [
    "subj_cont = merged[1].sample(10)[['title', 'baseline', 'brut', 'lemmatized']]\n",
    "print(subj_cont.to_latex(index=False))"
   ]
  },
  {
   "cell_type": "code",
   "execution_count": 26,
   "metadata": {},
   "outputs": [
    {
     "name": "stdout",
     "output_type": "stream",
     "text": [
      "Ecart absolu moyen entre textes brutes et textes lemmatisés :\n",
      "0.04075113826432331\n",
      "\n",
      "\n",
      "Ecart absolu moyen entre textes brutes et textes baseline :\n",
      "0.09133671382932795\n",
      "\n",
      "\n",
      "Ecart absolu moyen entre textes lemmatisés et textes baseline :\n",
      "0.10654857327474974\n"
     ]
    }
   ],
   "source": [
    "print('Ecart absolu moyen entre textes brutes et textes lemmatisés :')\n",
    "print(mean_absolute_error(liste[1].brut, liste[1].lemmatized))\n",
    "print(\"\\n\")\n",
    "print(\"Ecart absolu moyen entre textes brutes et textes baseline :\")\n",
    "print(mean_absolute_error(merged[1].brut, merged[1].baseline))\n",
    "print(\"\\n\")\n",
    "print(\"Ecart absolu moyen entre textes lemmatisés et textes baseline :\")\n",
    "print(mean_absolute_error(merged[1].lemmatized, merged[1].baseline))"
   ]
  },
  {
   "cell_type": "markdown",
   "metadata": {},
   "source": [
    "#### Polarité des titres"
   ]
  },
  {
   "cell_type": "code",
   "execution_count": 27,
   "metadata": {},
   "outputs": [
    {
     "name": "stdout",
     "output_type": "stream",
     "text": [
      "\\begin{tabular}{lrrr}\n",
      "\\toprule\n",
      "                                             title &  baseline &      brut &  lemmatized \\\\\n",
      "\\midrule\n",
      "    Google Introduces Tool to Calculate Mobile ROI &  0.000000 &  0.000000 &     0.00000 \\\\\n",
      " Little Girl Learns the Harsh Reality of Deleti... &  0.900000 & -0.193750 &    -0.19375 \\\\\n",
      "              eBay Enlists Users to Fight Tax Plan &  0.000000 &  0.000000 &     0.00000 \\\\\n",
      "                Should Your Company Be on Google+? &  0.416667 &  0.000000 &     0.00000 \\\\\n",
      " Artist imagines life as her mother's best frie... &  0.833333 &  0.925000 &     0.77500 \\\\\n",
      " Sony Brings Virtual-Reality System 'Project Mo... &  0.100000 &  0.000000 &     0.00000 \\\\\n",
      " Private land in Wyoming's national park is now... &  0.000000 &  0.000000 &     0.00000 \\\\\n",
      " Minecraft Maker Reports Stellar Earnings and T... &  0.312500 &  0.062500 &     0.25000 \\\\\n",
      " Too Many Errands? Someone Else Will Do Them fo... &  0.500000 &  0.500000 &     0.00000 \\\\\n",
      " How Much Is Yahoo Worth Without Alibaba? Not Much &  0.529630 &  0.133333 &     0.30000 \\\\\n",
      "\\bottomrule\n",
      "\\end{tabular}\n",
      "\n"
     ]
    }
   ],
   "source": [
    "pol_tit = merged[2].sample(10)[['title', 'baseline', 'brut', 'lemmatized']]\n",
    "print(pol_tit.to_latex(index=False))"
   ]
  },
  {
   "cell_type": "code",
   "execution_count": 28,
   "metadata": {},
   "outputs": [
    {
     "name": "stdout",
     "output_type": "stream",
     "text": [
      "Ecart absolu moyen entre textes brutes et textes lemmatisés :\n",
      "0.05484534301052659\n",
      "\n",
      "\n",
      "Ecart absolu moyen entre textes brutes et textes baseline :\n",
      "0.3187449265283056\n",
      "\n",
      "\n",
      "Ecart absolu moyen entre textes lemmatisés et textes baseline :\n",
      "0.3235351378256945\n"
     ]
    }
   ],
   "source": [
    "print('Ecart absolu moyen entre textes brutes et textes lemmatisés :')\n",
    "print(mean_absolute_error(liste[2].brut, liste[2].lemmatized))\n",
    "print(\"\\n\")\n",
    "print(\"Ecart absolu moyen entre textes brutes et textes baseline :\")\n",
    "print(mean_absolute_error(merged[2].brut, merged[2].baseline))\n",
    "print(\"\\n\")\n",
    "print(\"Ecart absolu moyen entre textes lemmatisés et textes baseline :\")\n",
    "print(mean_absolute_error(merged[2].lemmatized, merged[2].baseline))"
   ]
  },
  {
   "cell_type": "markdown",
   "metadata": {},
   "source": [
    "#### Subjectivité des titres"
   ]
  },
  {
   "cell_type": "code",
   "execution_count": 29,
   "metadata": {},
   "outputs": [
    {
     "name": "stdout",
     "output_type": "stream",
     "text": [
      "\\begin{tabular}{lrrr}\n",
      "\\toprule\n",
      "                                             title &  baseline &     brut &  lemmatized \\\\\n",
      "\\midrule\n",
      "        15 Puppies That Understand Your Excitement &  0.000000 &  0.00000 &      0.0000 \\\\\n",
      " This Old Spice Ad Will Make You Empathize With... &  0.361905 &  0.20000 &      0.2000 \\\\\n",
      " Google Doodle Honors 50th Anniversary of 'I Ha... &  0.000000 &  0.00000 &      0.0000 \\\\\n",
      " Brain-Scanning Headphones Match Songs to Your ... &  0.000000 &  0.00000 &      0.0000 \\\\\n",
      " Redditors Accuse Popular Kickstarter Project o... & -0.025000 &  0.90000 &      0.9000 \\\\\n",
      " Follow the Honey: Can we Save the Bees by Trac... &  0.000000 &  0.00000 &      0.0000 \\\\\n",
      " Dramatic Scenes as Light Plane Crashes Into Ho... & -0.050000 &  0.65000 &      0.6500 \\\\\n",
      " Online Journalism Is Growing, But That Doesn't... &  0.150000 &  0.44375 &      0.6875 \\\\\n",
      " Apple Ad Campaign Highlights iPad Apps You've ... &  0.000000 &  0.00000 &      0.0000 \\\\\n",
      " Kevin Ware Dunks Months After His Horrific Inj... &  0.000000 &  1.00000 &      1.0000 \\\\\n",
      "\\bottomrule\n",
      "\\end{tabular}\n",
      "\n"
     ]
    }
   ],
   "source": [
    "subj_tit = merged[3].sample(10)[['title', 'baseline', 'brut', 'lemmatized']]\n",
    "print(subj_tit.to_latex(index=False))"
   ]
  },
  {
   "cell_type": "code",
   "execution_count": 30,
   "metadata": {},
   "outputs": [
    {
     "name": "stdout",
     "output_type": "stream",
     "text": [
      "Ecart absolu moyen entre textes brutes et textes lemmatisés :\n",
      "0.0665735442327976\n",
      "\n",
      "\n",
      "Ecart absolu moyen entre textes brutes et textes baseline :\n",
      "0.3139778141828439\n",
      "\n",
      "\n",
      "Ecart absolu moyen entre textes lemmatisés et textes baseline :\n",
      "0.31516755737151736\n"
     ]
    }
   ],
   "source": [
    "print('Ecart absolu moyen entre textes brutes et textes lemmatisés :')\n",
    "print(mean_absolute_error(liste[3].brut, liste[3].lemmatized))\n",
    "print(\"\\n\")\n",
    "print(\"Ecart absolu moyen entre textes brutes et textes baseline :\")\n",
    "print(mean_absolute_error(merged[3].brut, merged[3].baseline))\n",
    "print(\"\\n\")\n",
    "print(\"Ecart absolu moyen entre textes lemmatisés et textes baseline :\")\n",
    "print(mean_absolute_error(merged[3].lemmatized, merged[3].baseline))"
   ]
  },
  {
   "cell_type": "markdown",
   "metadata": {},
   "source": [
    "On retrouve des écarts absolus moyens entre données brutes et lemmatisés situés autour de 0.05. Sur des échelles allant de -1 à 1, ou de 0 à 1, c'est un chiffre non négligeable.\n",
    "\n",
    "Au niveau des écarts avec la baseline, on retrouve des écarts plus importants sur les titres (logique car il y a moins de variables pour construire un score) et des écarts légèrement plus faibles du texte brut par rapport à la baseline.\n",
    "\n",
    "Afin de nous assurer des résultats les plus fiables possibles, et pour les raisons évoquées plus haut (avec l'exemple \"hate\"), nous décidons de garder les résultats obtenus sur textes bruts."
   ]
  },
  {
   "cell_type": "markdown",
   "metadata": {},
   "source": [
    "### Création de la BDD finale"
   ]
  },
  {
   "cell_type": "code",
   "execution_count": 31,
   "metadata": {},
   "outputs": [],
   "source": [
    "df['content_polarity'] = brut_content_sentiment_df.polarity\n",
    "df['abs_content_polarity'] = abs(brut_content_sentiment_df.polarity)\n",
    "df['content_subjectivity'] = brut_content_sentiment_df.subjectivity\n",
    "df['title_polarity'] = brut_title_sentiment_df.polarity\n",
    "df['abs_title_polarity'] = abs(brut_title_sentiment_df.polarity)\n",
    "df['title_subjectivity'] = brut_title_sentiment_df.subjectivity"
   ]
  },
  {
   "cell_type": "code",
   "execution_count": 32,
   "metadata": {},
   "outputs": [],
   "source": [
    "df.to_csv(\"data_final.csv\")"
   ]
  }
 ],
 "metadata": {
  "kernelspec": {
   "display_name": "Python 3",
   "language": "python",
   "name": "python3"
  },
  "language_info": {
   "codemirror_mode": {
    "name": "ipython",
    "version": 3
   },
   "file_extension": ".py",
   "mimetype": "text/x-python",
   "name": "python",
   "nbconvert_exporter": "python",
   "pygments_lexer": "ipython3",
   "version": "3.7.1"
  }
 },
 "nbformat": 4,
 "nbformat_minor": 2
}
